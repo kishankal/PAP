{
 "cells": [
  {
   "cell_type": "code",
   "execution_count": 1,
   "id": "f6cb0ef1",
   "metadata": {},
   "outputs": [],
   "source": [
    "import logging\n",
    "\n",
    "# Create and configure logger\n",
    "logging.basicConfig(filename=\"PAP_1.log\",\n",
    "                    format='%(asctime)s %(levelname)s %(message)s :',\n",
    "                    filemode='w',\n",
    "                    level = logging.INFO)\n",
    "logging.info('this message is logging')"
   ]
  },
  {
   "cell_type": "markdown",
   "id": "29077e46",
   "metadata": {},
   "source": [
    "## 1. Create a function based on the input and output. Look at the examples, there is a pattern.\n",
    "    Examples:\n",
    "    secret(\"p.one.two.three\") ➞ \"<p class='one two three'></p>\"\n",
    "    secret(\"p.one\") ➞ \"<p class='one'></p>\"\n",
    "    secret(\"p.four.five\") ➞ \"<p class='four five'></p>\""
   ]
  },
  {
   "cell_type": "code",
   "execution_count": 5,
   "id": "fdabd374",
   "metadata": {},
   "outputs": [
    {
     "name": "stdout",
     "output_type": "stream",
     "text": [
      "secret(\"p.one.two.three\") ➞ <p class=\"one two three\"></p>\n",
      "secret(\"p.one\") ➞ <p class=\"one\"></p>\n",
      "secret(\"p.four.five\") ➞ <p class=\"four five\"></p>\n"
     ]
    }
   ],
   "source": [
    "try:\n",
    "    def secret(s):\n",
    "        s_new = s\n",
    "        s = s.split(\".\")\n",
    "        result = f'<{s[0]} class=\"{\" \".join(s[1:])}\"></{s[0]}>'\n",
    "        print(f'secret(\"{s_new}\") ➞ {result}')\n",
    "        logging.info(f'secret(\"{s_new}\") ➞ {result}')\n",
    "        \n",
    "except Exception as e:\n",
    "    logging.error(e)\n",
    "    \n",
    "secret(\"p.one.two.three\")\n",
    "secret(\"p.one\")\n",
    "secret(\"p.four.five\")"
   ]
  },
  {
   "cell_type": "markdown",
   "id": "a1a8920b",
   "metadata": {},
   "source": [
    "## 2. Create a function which counts how many lone 1s appear in a given number. Lone means the number doesn't appear twice or more in a row.\n",
    "    Examples:\n",
    "    count_lone_ones(101) ➞ 2\n",
    "    count_lone_ones(1191) ➞ 1\n",
    "    count_lone_ones(1111) ➞ 0\n",
    "    count_lone_ones(462) ➞ 0"
   ]
  },
  {
   "cell_type": "code",
   "execution_count": 21,
   "id": "ea712291",
   "metadata": {},
   "outputs": [
    {
     "name": "stdout",
     "output_type": "stream",
     "text": [
      "coint_lone_ones(101) ➞ 2\n",
      "coint_lone_ones(1191) ➞ 1\n",
      "coint_lone_ones(1111) ➞ 0\n",
      "coint_lone_ones(462) ➞ 0\n"
     ]
    }
   ],
   "source": [
    "import re\n",
    "try:\n",
    "    def count_lone_ones(n):\n",
    "        pattern = r\"(?<!1)1(?!1)\" \n",
    "        result = re.findall(pattern,str(n))\n",
    "        print(f'coint_lone_ones({n}) ➞ {len(result)}')\n",
    "        logging.info(f'coint_lone_ones({n}) ➞ {len(result)}')\n",
    "        \n",
    "except Exception as e:\n",
    "    logging.error(e)\n",
    "\n",
    "count_lone_ones(101)\n",
    "count_lone_ones(1191)\n",
    "count_lone_ones(1111)\n",
    "count_lone_ones(462)"
   ]
  },
  {
   "cell_type": "markdown",
   "id": "84298e9c",
   "metadata": {},
   "source": [
    "## 3. Write a method that accepts two integer parameters rows and cols. The output is a 2d array of numbers displayed in column-major order, meaning the numbers shown increase sequentially down each column and wrap to the top of the next column to the right once the bottom of the current column is reached.\n",
    "    Examples:\n",
    "    printGrid(3, 6) ➞ [\n",
    "      [1, 4, 7, 10, 13, 16],\n",
    "      [2, 5, 8, 11, 14, 17],\n",
    "      [3, 6, 9, 12, 15, 18]\n",
    "    ]\n",
    "\n",
    "    printGrid(5, 3) ➞ [\n",
    "      [1, 6, 11],\n",
    "      [2, 7, 12],\n",
    "      [3, 8, 13],\n",
    "      [4, 9, 14],\n",
    "      [5, 10, 15]\n",
    "    ]\n",
    "\n",
    "    printGrid(4, 1) ➞ [\n",
    "      [1],\n",
    "      [2],\n",
    "      [3],\n",
    "      [4]\n",
    "    ]"
   ]
  },
  {
   "cell_type": "code",
   "execution_count": 4,
   "id": "a298a24b",
   "metadata": {},
   "outputs": [
    {
     "name": "stdout",
     "output_type": "stream",
     "text": [
      "[[1, 4, 7, 10, 13, 16], [2, 5, 8, 11, 14, 17], [3, 6, 9, 12, 15, 18]]\n",
      "[[1, 6, 11], [2, 7, 12], [3, 8, 13], [4, 9, 14], [5, 10, 15]]\n",
      "[[1], [2], [3], [4]]\n"
     ]
    }
   ],
   "source": [
    "try:\n",
    "    def printGrid(r,c):\n",
    "        l = []\n",
    "        x = 1\n",
    "        for i in range(r):\n",
    "            l.append([])\n",
    "            for j in range(x,(r*c) + 1,r):\n",
    "                l[i].append(j)\n",
    "            x += 1\n",
    "            \n",
    "        print(l)\n",
    "        logging.info(l)\n",
    "        \n",
    "except Exception as e:\n",
    "    logging.error(e)\n",
    "    \n",
    "printGrid(3, 6)\n",
    "printGrid(5, 3)  \n",
    "printGrid(4, 1)"
   ]
  },
  {
   "cell_type": "markdown",
   "id": "500a649b",
   "metadata": {},
   "source": [
    "## 4. Given a list of integers, return the smallest positive integer not present in the list.\n",
    "    Here is a representative example.\n",
    "    Consider the list: [-2, 6, 4, 5, 7, -1, 7, 1, 3, 6, 6, -2, 9, 10, 2, 2]\n",
    "    After reordering, the list becomes: [-2, -2, -1, 1, 2, 2, 3, 4, 5, 6, 6, 6, 7, 7, 9, 10]\n",
    "    from which we see that the smallest missing positive integer is 8.\n",
    "    \n",
    "    Examples:\n",
    "    min_miss_pos([-2, 6, 4, 5, 7, -1, 1, 3, 6, -2, 9, 10, 2, 2]) ➞ 8\n",
    "    # After sorting, list becomes [-2, -2, -1, 1, 2, 2, 3, 4, 5, 6, 6, 7, 9, 10]\n",
    "    # So the smallest missing positive integer is 8\n",
    "    \n",
    "    min_miss_pos([5, 9, -2, 0, 1, 3, 9, 3, 8, 9]) ➞ 2\n",
    "    # After sorting, list becomes [-2, 0, 1, 3, 3, 5, 8, 9, 9, 9]\n",
    "    # So the smallest missing positive integer is 2\n",
    "    \n",
    "    min_miss_pos([0, 4, 4, -1, 9, 4, 5, 2, 10, 7, 6, 3, 10, 9]) ➞ 1\n",
    "    # After sorting, list becomes [-1, 0, 2, 3, 4, 4, 4, 5, 6, 7, 9, 9, 10, 10]\n",
    "    # So the smallest missing positive integer is 1"
   ]
  },
  {
   "cell_type": "code",
   "execution_count": 14,
   "id": "915a4eca",
   "metadata": {},
   "outputs": [
    {
     "name": "stdout",
     "output_type": "stream",
     "text": [
      "min_miss_pos([-2, 6, 4, 5, 7, -1, 1, 3, 6, -2, 9, 10, 2, 2]) ➞ 8\n",
      "min_miss_pos([5, 9, -2, 0, 1, 3, 9, 3, 8, 9]) ➞ 2\n",
      "min_miss_pos([0, 4, 4, -1, 9, 4, 5, 2, 10, 7, 6, 3, 10, 9]) ➞ 1\n"
     ]
    }
   ],
   "source": [
    "try:\n",
    "    def min_miss_pos(l):\n",
    "        for i in range(1,max(l)):\n",
    "            if not i in l:\n",
    "                print(f\"min_miss_pos({l}) ➞ {i}\")\n",
    "                break\n",
    "            \n",
    "except Exception as e:\n",
    "    logging.error(e)\n",
    "\n",
    "    \n",
    "min_miss_pos([-2, 6, 4, 5, 7, -1, 1, 3, 6, -2, 9, 10, 2, 2])\n",
    "min_miss_pos([5, 9, -2, 0, 1, 3, 9, 3, 8, 9])\n",
    "min_miss_pos([0, 4, 4, -1, 9, 4, 5, 2, 10, 7, 6, 3, 10, 9])"
   ]
  },
  {
   "cell_type": "markdown",
   "id": "ddee7565",
   "metadata": {},
   "source": [
    "## 5. Google is launching a network of autonomous pizza delivery drones and wants you to create a flexible rewards system (Pizza Points™) that can be tweaked in the future. The rules are simple: if a customer has made at least N orders of at least Y price, they get a FREE pizza!\n",
    "    Create a function that takes a dictionary of customers, a minimum number of orders and a minimum order price. Return a     list of customers that are eligible for a free pizza.\n",
    "\n",
    "    Examples:\n",
    "\n",
    "    customers = {\n",
    "      \"Batman\": [22, 30, 11, 17, 15, 52, 27, 12],\n",
    "      \"Spider-Man\": [5, 17, 30, 33, 40, 22, 26, 10, 11, 45]\n",
    "                }\n",
    "\n",
    "    pizza_points(customers, 5, 20) ➞ [\"Spider-Man\"]\n",
    "    pizza_points(customers, 3, 10) ➞ [\"Batman\", \"Spider-Man\"]\n",
    "    pizza_points(customers, 5, 100) ➞ []"
   ]
  },
  {
   "cell_type": "code",
   "execution_count": 26,
   "id": "4c6ed3a3",
   "metadata": {},
   "outputs": [
    {
     "name": "stdout",
     "output_type": "stream",
     "text": [
      "pizza_points('customers', 5, 20) ➞ ['Spider-Man']\n",
      "pizza_points('customers', 3, 10) ➞ ['Batman', 'Spider-Man']\n",
      "pizza_points('customers', 5, 100) ➞ []\n"
     ]
    }
   ],
   "source": [
    "try:\n",
    "    def pizza_points(cus,num,pri):\n",
    "        l2 = list(cus.values())\n",
    "        l1 = list(cus.keys())\n",
    "        count = 0\n",
    "        result = []\n",
    "        for j in range(len(l2)):\n",
    "            count = 0\n",
    "            for i in l2[j]:\n",
    "                if i >=pri:\n",
    "                    count += 1\n",
    "                    if count == num:\n",
    "                        result.append(l1[j])\n",
    "                    \n",
    "        print(f'pizza_points{\"customers\",num,pri} ➞ {result}')\n",
    "        logging.info(f'pizza_points{\"customers\",num,pri} ➞ {result}')\n",
    "        \n",
    "except Exception as e:\n",
    "    logging.error(e)\n",
    "\n",
    "customers = {\n",
    "  \"Batman\": [22, 30, 11, 17, 15, 52, 27, 12],\n",
    "  \"Spider-Man\": [5, 17, 30, 33, 40, 22, 26, 10, 11, 45]\n",
    "            }\n",
    "\n",
    "pizza_points(customers, 5, 20)\n",
    "pizza_points(customers, 3, 10)\n",
    "pizza_points(customers, 5, 100)"
   ]
  }
 ],
 "metadata": {
  "kernelspec": {
   "display_name": "Python 3 (ipykernel)",
   "language": "python",
   "name": "python3"
  },
  "language_info": {
   "codemirror_mode": {
    "name": "ipython",
    "version": 3
   },
   "file_extension": ".py",
   "mimetype": "text/x-python",
   "name": "python",
   "nbconvert_exporter": "python",
   "pygments_lexer": "ipython3",
   "version": "3.9.7"
  }
 },
 "nbformat": 4,
 "nbformat_minor": 5
}
