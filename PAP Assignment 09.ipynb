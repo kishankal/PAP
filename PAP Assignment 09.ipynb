{
 "cells": [
  {
   "cell_type": "code",
   "execution_count": 1,
   "id": "151816bf",
   "metadata": {},
   "outputs": [],
   "source": [
    "import logging\n",
    "\n",
    "# Create and configure logger\n",
    "logging.basicConfig(filename=\"PAP_1.log\",\n",
    "                    format='%(asctime)s %(levelname)s %(message)s :',\n",
    "                    filemode='w',\n",
    "                    level = logging.INFO)\n",
    "logging.info('this message is logging')"
   ]
  },
  {
   "cell_type": "markdown",
   "id": "90e5e960",
   "metadata": {},
   "source": [
    "## 1. YouTube offers different playback speed options for users. This allows users to increase or decrease the speed of the video content. Given the actual duration and playback speed of the video, calculate the playback duration of the video.\n",
    "    Examples:\n",
    "    playback_duration(\"00:30:00\", 2) ➞ \"00:15:00\"\n",
    "    playback_duration(\"01:20:00\", 1.5) ➞ \"00:53:20\"\n",
    "    playback_duration(\"51:20:09\", 0.5) ➞ \"102:40:18\""
   ]
  },
  {
   "cell_type": "code",
   "execution_count": null,
   "id": "286c7ffa",
   "metadata": {},
   "outputs": [],
   "source": [
    "try :\n",
    "    def playback_duration(original_time,jump_unit):\n",
    "        time = original_time.split(\":\")\n",
    "        t_in_secs = (3600*int(time[0])+60*int(time[1])+int(time[2]))/jump_unit\n",
    "        t_in_hours = str(int(t_in_secs/3600)) if t_in_secs > 3600 else '00'\n",
    "        t_in_mins = str(int((t_in_secs%3600)/60)) if (t_in_secs)%3600 > 60 else '00'\n",
    "        t_in_secs = str(int((t_in_secs%3600)%60)) if ((t_in_secs)%3600)%60 > 0 else '00'   \n",
    "        result = f'{t_in_hours}:{t_in_mins}:{t_in_secs}'\n",
    "        print(f'playback_duration{original_time, jump_unit} ➞ {result}')\n",
    "        logging.info(f'playback_duration{original_time, jump_unit} ➞ {result}')\n",
    "except Exception as e:\n",
    "    logging.error(e)\n",
    "playback_duration(\"00:30:00\", 2)\n",
    "playback_duration(\"01:20:00\", 1.5)\n",
    "playback_duration(\"51:20:09\", 0.5)"
   ]
  },
  {
   "cell_type": "markdown",
   "id": "1ad349d8",
   "metadata": {},
   "source": [
    "## 2. We needs your help to construct a building which will be a pile of n cubes. The cube at the bottom will have a volume of n^3, the cube above will have volume of (n-1)^3 and so on until the top which will have a volume of 1^3.\n",
    "    Given the total volume m of the building, can you find the number of cubes n required for the building?\n",
    "    In other words, you have to return an integer n such that: n^3 + (n-1)^3 + ... + 1^3 == m\n",
    "    Return None if there is no such number.\n",
    "    Examples:\n",
    "    pile_of_cubes(1071225) ➞ 45\n",
    "    pile_of_cubes(4183059834009) ➞ 2022\n",
    "    pile_of_cubes(16) ➞ None\n",
    "\n"
   ]
  },
  {
   "cell_type": "code",
   "execution_count": 4,
   "id": "cde75307",
   "metadata": {},
   "outputs": [
    {
     "name": "stdout",
     "output_type": "stream",
     "text": [
      "pile_of_cubes(1071225) ➞ 45\n",
      "pile_of_cubes(4183059834009) ➞ 2022\n",
      "pile_of_cubes(16) ➞ None\n"
     ]
    }
   ],
   "source": [
    "import math\n",
    "try:\n",
    "    def pile_of_cubes(total_volume):\n",
    "        cube_volume = 0\n",
    "        result = 0\n",
    "        for cube in range(1,total_volume):\n",
    "            cube_volume += pow(cube,3)\n",
    "            if total_volume <= cube_volume:\n",
    "                result = cube if total_volume == cube_volume else None\n",
    "                break \n",
    "        print(f'pile_of_cubes({total_volume}) ➞ {result}')\n",
    "except Exception as e:\n",
    "    logging.error(e)\n",
    "\n",
    "        \n",
    "pile_of_cubes(1071225)\n",
    "pile_of_cubes(4183059834009)\n",
    "pile_of_cubes(16)        "
   ]
  },
  {
   "cell_type": "markdown",
   "id": "f97e98b8",
   "metadata": {},
   "source": [
    "## 3. A fulcrum of a list is an integer such that all elements to the left of it and all elements to the right of it sum to the same value. Write a function that finds the fulcrum of a list.\n",
    "    To illustrate:\n",
    "    find_fulcrum([3, 1, 5, 2, 4, 6, -1]) ➞ 2 // Since [3, 1, 5] and [4, 6, -1] both sum to 9\n",
    "    Examples:\n",
    "    find_fulcrum([1, 2, 4, 9, 10, -10, -9, 3]) ➞ 4\n",
    "    find_fulcrum([9, 1, 9]) ➞ 1\n",
    "    find_fulcrum([7, -1, 0, -1, 1, 1, 2, 3]) ➞ 0\n",
    "    find_fulcrum([8, 8, 8, 8]) ➞ -1"
   ]
  },
  {
   "cell_type": "code",
   "execution_count": 3,
   "id": "dbf430dc",
   "metadata": {},
   "outputs": [
    {
     "name": "stdout",
     "output_type": "stream",
     "text": [
      "find_fulcrum([3, 1, 5, 2, 4, 6, -1]) ➞ 2\n",
      "find_fulcrum([1, 2, 4, 9, 10, -10, -9, 3]) ➞ 4\n",
      "find_fulcrum([9, 1, 9]) ➞ 1\n",
      "find_fulcrum([7, -1, 0, -1, 1, 1, 2, 3]) ➞ 0\n",
      "find_fulcrum([8, 8, 8, 8]) ➞ -1\n"
     ]
    }
   ],
   "source": [
    "## using binary search method\n",
    "try:\n",
    "    def find_fulcrum(l):\n",
    "        result = -1\n",
    "        for i in l:\n",
    "            index_of_i =l.index(i)\n",
    "            if sum(l[:index_of_i]) == sum(l[index_of_i+1:]):\n",
    "                result = i\n",
    "                break\n",
    "        print(f'find_fulcrum({l}) ➞ {result}')\n",
    "        \n",
    "\n",
    "except Exception as e:\n",
    "    logging.error(e)\n",
    "    \n",
    "find_fulcrum([3, 1, 5, 2, 4, 6, -1])\n",
    "find_fulcrum([1, 2, 4, 9, 10, -10, -9, 3])\n",
    "find_fulcrum([9, 1, 9])\n",
    "find_fulcrum([7, -1, 0, -1, 1, 1, 2, 3])\n",
    "find_fulcrum([8, 8, 8, 8])\n",
    "            \n",
    "            "
   ]
  },
  {
   "cell_type": "markdown",
   "id": "13273d6f",
   "metadata": {},
   "source": [
    "## 4. Given a list of integers representing the color of each sock, determine how many pairs of socks with matching colors there are. For example, there are 7 socks with colors [1, 2, 1, 2, 1, 3, 2]. There is one pair of color 1 and one of color 2. There are three odd socks left, one of each color. The number of pairs is 2.\n",
    "    Create a function that returns an integer representing the number of matching pairs of socks that are available.\n",
    "    Examples:\n",
    "    sock_merchant([10, 20, 20, 10, 10, 30, 50, 10, 20]) ➞ 3\n",
    "    sock_merchant([50, 20, 30, 90, 30, 20, 50, 20, 90]) ➞ 4\n",
    "    sock_merchant([]) ➞ 0"
   ]
  },
  {
   "cell_type": "code",
   "execution_count": 22,
   "id": "5827f08f",
   "metadata": {},
   "outputs": [
    {
     "name": "stdout",
     "output_type": "stream",
     "text": [
      "sock_merchant([10, 20, 20, 10, 10, 30, 50, 10, 20]) ➞ 3\n",
      "sock_merchant([50, 20, 30, 90, 30, 20, 50, 20, 90]) ➞ 4\n",
      "sock_merchant([]) ➞ 0\n"
     ]
    }
   ],
   "source": [
    "try:\n",
    "    def sock_merchant(l):\n",
    "        l_new = l.copy()\n",
    "        count = 0\n",
    "        pair = 0\n",
    "        l_set = set(l_new)\n",
    "        for i in l_set:\n",
    "            count = l_new.count(i)\n",
    "            pair += count//2\n",
    "        print(f'sock_merchant({l}) ➞ {pair}')\n",
    "        logging.info(f'sock_merchant({l}) ➞ {pair}')\n",
    "except Exception as e:\n",
    "    logging.error(e)\n",
    "sock_merchant([10, 20, 20, 10, 10, 30, 50, 10, 20])\n",
    "sock_merchant([50, 20, 30, 90, 30, 20, 50, 20, 90])\n",
    "sock_merchant([])        \n",
    "        \n",
    "        "
   ]
  },
  {
   "cell_type": "markdown",
   "id": "13504db7",
   "metadata": {},
   "source": [
    "## 5. Create a function that takes a string containing integers as well as other characters and return the sum of the negative integers only.\n",
    "    Examples:\n",
    "    negative_sum(\"-12 13%14&-11\") ➞ -23\n",
    "    # -12 + -11 = -23\n",
    "    negative_sum(\"22 13%14&-11-22 13 12\") ➞ -33\n",
    "    # -11 + -22 = -33"
   ]
  },
  {
   "cell_type": "code",
   "execution_count": 29,
   "id": "16d7dd2d",
   "metadata": {},
   "outputs": [
    {
     "name": "stdout",
     "output_type": "stream",
     "text": [
      "negative_sum(\"-12 13%14&-11\") ➞ -23\n",
      "negative_sum(\"22 13%14&-11-22 13 12\") ➞ -33\n"
     ]
    }
   ],
   "source": [
    "import re\n",
    "try:\n",
    "    def negative_sum(s):\n",
    "        pattern = '-\\d+'\n",
    "        result = sum([int(i) for i in re.findall(pattern,s)])\n",
    "        print(f'negative_sum(\"{s}\") ➞ {result}')\n",
    "        logging.info(f'negative_sum(\"{s}\") ➞ {result}')\n",
    "        \n",
    "except Exception as e:\n",
    "    logging.error(e)\n",
    "\n",
    "negative_sum(\"-12 13%14&-11\")\n",
    "negative_sum(\"22 13%14&-11-22 13 12\")\n",
    "                        \n",
    "                \n",
    "        "
   ]
  }
 ],
 "metadata": {
  "kernelspec": {
   "display_name": "Python 3 (ipykernel)",
   "language": "python",
   "name": "python3"
  },
  "language_info": {
   "codemirror_mode": {
    "name": "ipython",
    "version": 3
   },
   "file_extension": ".py",
   "mimetype": "text/x-python",
   "name": "python",
   "nbconvert_exporter": "python",
   "pygments_lexer": "ipython3",
   "version": "3.9.7"
  }
 },
 "nbformat": 4,
 "nbformat_minor": 5
}
