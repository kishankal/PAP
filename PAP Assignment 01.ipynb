{
 "cells": [
  {
   "cell_type": "code",
   "execution_count": 2,
   "id": "550c6207",
   "metadata": {},
   "outputs": [],
   "source": [
    "import logging\n",
    "\n",
    "# Create and configure logger\n",
    "logging.basicConfig(filename=\"PAP_1.log\",\n",
    "                    format='%(asctime)s %(levelname)s %(message)s :',\n",
    "                    filemode='w',\n",
    "                    level = logging.INFO)\n",
    "logging.info('this message is logging')\n",
    " "
   ]
  },
  {
   "cell_type": "markdown",
   "id": "0145c616",
   "metadata": {},
   "source": [
    "## 1.Write a function that takes a list of lists and returns the value of all of the symbols in it, where each symbol adds or takes something from the total score. Symbol values:\n",
    "    # = 5, O = 3, X = 1, ! = -1, !! = -3 !!! = -5\n",
    "    A list of lists containing 2 #s, a O, and a !!! would equal (0 + 5 + 5 + 3 - 5) 8. If the final score is negative, return 0 (e.g. 3 #s, 3 !!s, 2 !!!s and a X would be (0 + 5 + 5 + 5 - 3 - 3 - 3 - 5 - 5 + 1) -3, so return 0.\n",
    "    Examples:\n",
    "    check_score([[\"#\", \"!\"],[\"!!\", \"X\"]]) ➞ 2\n",
    "    check_score([[\"!!!\", \"O\", \"!\"],[\"X\", \"#\", \"!!!\"],[\"!!\", \"X\", \"O\"]]) ➞ 0"
   ]
  },
  {
   "cell_type": "code",
   "execution_count": 25,
   "id": "ddfe3cca",
   "metadata": {},
   "outputs": [
    {
     "data": {
      "text/plain": [
       "2"
      ]
     },
     "execution_count": 25,
     "metadata": {},
     "output_type": "execute_result"
    }
   ],
   "source": [
    "## Without logging\n",
    "\n",
    "def check_score(l):\n",
    "    check_dict = {'#':5,'O':3,'X':1,'!':-1,'!!':-3,'!!!':-5}\n",
    "    sum_ = 0\n",
    "    \n",
    "    for i in l:\n",
    "        if type(i) == list:\n",
    "            for j in i:\n",
    "                if type(j) == list:\n",
    "                    for k in j:\n",
    "                        sum_ = sum_ + check_dict[k]\n",
    "                else:\n",
    "                    sum_ = sum_ + check_dict[j]\n",
    "        else :\n",
    "            sum_ = sum_ + check_dict[i]\n",
    "    if sum_ > 0:\n",
    "        return sum_\n",
    "    else :\n",
    "        return 0\n",
    "check_score([[\"#\", \"!\"],[\"!!\", \"X\"]])\n",
    "#check_score([[\"!!!\", \"O\", \"!\"],[\"X\", \"#\", \"!!!\"],[\"!!\", \"X\", \"O\"]])"
   ]
  },
  {
   "cell_type": "code",
   "execution_count": 24,
   "id": "9087344b",
   "metadata": {},
   "outputs": [
    {
     "data": {
      "text/plain": [
       "0"
      ]
     },
     "execution_count": 24,
     "metadata": {},
     "output_type": "execute_result"
    }
   ],
   "source": [
    "## with logging\n",
    "try :\n",
    "    \n",
    "    def check_score(l):\n",
    "        check_dict = {'#':5,'O':3,'X':1,'!':-1,'!!':-3,'!!!':-5}\n",
    "        sum_ = 0\n",
    "    \n",
    "        for i in l:\n",
    "            if type(i) == list:\n",
    "                for j in i:\n",
    "                    if type(j) == list:\n",
    "                        for k in j:\n",
    "                            sum_ = sum_ + check_dict[k]\n",
    "                    else:\n",
    "                        sum_ = sum_ + check_dict[j]\n",
    "            else :\n",
    "                sum_ = sum_ + check_dict[i]\n",
    "        if sum_ > 0:\n",
    "            logging.info(sum_)\n",
    "            return sum_\n",
    "        else :\n",
    "            logging.info(sum_)\n",
    "            return 0\n",
    "except Exception as e :\n",
    "    logging.error(e)\n",
    "\n",
    "    \n",
    "#check_score([[\"#\", \"!\"],[\"!!\", \"X\"]])  \n",
    "check_score([[\"!!!\", \"O\", \"!\"],[\"X\", \"#\", \"!!!\"],[\"!!\", \"X\", \"O\"]])"
   ]
  },
  {
   "cell_type": "markdown",
   "id": "af0c5759",
   "metadata": {},
   "source": [
    "## 2.Create a function that takes a variable number of arguments, each argument representing the number of items in a group, and returns the number of permutations (combinations) of items that you could get by taking one item from each group.\n",
    "    Examples:\n",
    "    combinations(2, 3) ➞ 6\n",
    "    combinations(3, 7, 4) ➞ 84\n",
    "    combinations(2, 3, 4, 5) ➞ 120"
   ]
  },
  {
   "cell_type": "code",
   "execution_count": 5,
   "id": "a466923a",
   "metadata": {},
   "outputs": [
    {
     "name": "stdout",
     "output_type": "stream",
     "text": [
      "combinations(2, 3) ➞ 6\n",
      "combinations(3, 7, 4) ➞ 84\n",
      "combinations(2, 3, 4, 5) ➞ 120\n"
     ]
    }
   ],
   "source": [
    "try :\n",
    "    def combinations(*args):\n",
    "        out_num = 1\n",
    "        for ele in args:\n",
    "            out_num *=ele\n",
    "        logging.info(f'combinations{args} ➞ {out_num}')\n",
    "        print(f'combinations{args} ➞ {out_num}')\n",
    "        \n",
    "except Exception as e:\n",
    "    logging.error(e)\n",
    "    print(e)\n",
    "\n",
    "combinations(2, 3)\n",
    "combinations(3, 7, 4)\n",
    "combinations(2, 3, 4, 5)"
   ]
  },
  {
   "cell_type": "markdown",
   "id": "c72992f3",
   "metadata": {},
   "source": [
    "## 3.Create a function that takes a string as an argument and returns the Morse code equivalent.\n",
    "    Examples:\n",
    "    encode_morse(\"EDABBIT CHALLENGE\") ➞ \". -.. .- -... -... .. - -.-. .... .- .-.. .-... -. --. .\"\n",
    "    encode_morse(\"HELP ME !\") ➞ \".... . .-.. .--. -- . -.-.--\"\n",
    "    This dictionary can be used for coding:\n",
    "    char_to_dots = {\n",
    "    'A': '.-', 'B': '-...', 'C': '-.-.', 'D': '-..', 'E': '.', 'F': '..-.',\n",
    "    'G': '--.', 'H': '....', 'I': '..', 'J': '.---', 'K': '-.-', 'L': '.-..',\n",
    "    'M': '--', 'N': '-.', 'O': '---', 'P': '.--.', 'Q': '--.-', 'R': '.-.',\n",
    "    'S': '...', 'T': '-', 'U': '..-', 'V': '...-', 'W': '.--', 'X': '-..-',\n",
    "    'Y': '-.--', 'Z': '--..', ' ': ' ', '0': '-----',\n",
    "    '1': '.----', '2': '..---', '3': '...--', '4': '....-', '5': '.....',\n",
    "    '6': '-....', '7': '--...', '8': '---..', '9': '----.',\n",
    "    '&': '.-...', \"'\": '.----.', '@': '.--.-.', ')': '-.--.-', '(': '-.--.',\n",
    "    ':': '---...', ',': '--..--', '=': '-...-', '!': '-.-.--', '.': '.-.-.-',\n",
    "    '-': '-....-', '+': '.-.-.', '\"': '.-..-.', '?': '..--..', '/': '-..-.'\n",
    "    }"
   ]
  },
  {
   "cell_type": "code",
   "execution_count": 12,
   "id": "583b2fd1",
   "metadata": {},
   "outputs": [
    {
     "name": "stdout",
     "output_type": "stream",
     "text": [
      "enter a string for converting it into a morse code : EDABBIT CHALLENGE\n",
      ". -.. .- -... -... .. -  -.-. .... .- .-.. .-.. . -. --. . \n",
      "enter a string for converting it into a morse code : HELP ME !\n",
      ".... . .-.. .--.  -- .  -.-.-- \n",
      "enter a string for converting it into a morse code : kishan kalariya\n",
      "-.- .. ... .... .- -.  -.- .- .-.. .- .-. .. -.-- .- \n"
     ]
    }
   ],
   "source": [
    "try :\n",
    "    def encode_morse(s):\n",
    "        sp = ''\n",
    "        upper_s = s.upper()\n",
    "        char_to_dots = {\n",
    "        'A': '.-', 'B': '-...', 'C': '-.-.', 'D': '-..', 'E': '.', 'F': '..-.',\n",
    "        'G': '--.', 'H': '....', 'I': '..', 'J': '.---', 'K': '-.-', 'L': '.-..',\n",
    "        'M': '--', 'N': '-.', 'O': '---', 'P': '.--.', 'Q': '--.-', 'R': '.-.',\n",
    "        'S': '...', 'T': '-', 'U': '..-', 'V': '...-', 'W': '.--', 'X': '-..-',\n",
    "        'Y': '-.--', 'Z': '--..', ' ': ' ', '0': '-----',\n",
    "        '1': '.----', '2': '..---', '3': '...--', '4': '....-', '5': '.....',\n",
    "        '6': '-....', '7': '--...', '8': '---..', '9': '----.',\n",
    "        '&': '.-...', \"'\": '.----.', '@': '.--.-.', ')': '-.--.-', '(': '-.--.',\n",
    "        ':': '---...', ',': '--..--', '=': '-...-', '!': '-.-.--', '.': '.-.-.-',\n",
    "        '-': '-....-', '+': '.-.-.', '\"': '.-..-.', '?': '..--..', '/': '-..-.'\n",
    "        }\n",
    "        for i in upper_s:\n",
    "            if i != ' ':\n",
    "                sp += char_to_dots[i] + ' '\n",
    "            else :\n",
    "                sp += ' '\n",
    "        logging.info(sp)\n",
    "        print(sp)\n",
    "except Exception as e:\n",
    "    logging.error(e)\n",
    "for j in range(3):\n",
    "    s = input(\"enter a string for converting it into a morse code : \")\n",
    "    encode_morse(s)\n",
    "        "
   ]
  },
  {
   "cell_type": "markdown",
   "id": "f1f91b92",
   "metadata": {},
   "source": [
    "## 4.Write a function that takes a number and returns True if it's a prime; False otherwise. The number can be 2^64-1 (2 to the power of 63, not XOR). With the standard technique it would be O(2^64-1), which is much too large for the 10 second time limit.\n",
    "    Examples:\n",
    "    prime(7) ➞ True\n",
    "    prime(56963) ➞ True\n",
    "    prime(5151512515524) ➞ False"
   ]
  },
  {
   "cell_type": "code",
   "execution_count": 14,
   "id": "f2cf86a7",
   "metadata": {},
   "outputs": [
    {
     "name": "stdout",
     "output_type": "stream",
     "text": [
      "Enter a number for finding a prime number7\n",
      "prime(7) ➞ True\n",
      "Enter a number for finding a prime number56963\n",
      "prime(56963) ➞ True\n",
      "Enter a number for finding a prime number5151512515524\n",
      "prime(5151512515524) ➞ False\n"
     ]
    }
   ],
   "source": [
    "try :\n",
    "    \n",
    "    def prime(in_num):\n",
    "        out_bool = False\n",
    "    \n",
    "        if ((in_num-1)%6 == 0) or ((in_num+1)%6 == 0):\n",
    "            out_bool = True\n",
    "        \n",
    "        logging.info(f'prime({in_num}) ➞ {out_bool}')\n",
    "        print(f'prime({in_num}) ➞ {out_bool}')\n",
    "    \n",
    "except Exception as e:\n",
    "    logging.error(e)\n",
    "    \n",
    "for i in range(3):\n",
    "    n = int(input('Enter a number for finding a prime number'))\n",
    "    prime(n)\n",
    "    "
   ]
  },
  {
   "cell_type": "markdown",
   "id": "2e9c99f0",
   "metadata": {},
   "source": [
    "## 5.Create a function that converts a word to a bitstring and then to a boolean list based on the following criteria:\n",
    "    1. Locate the position of the letter in the English alphabet (from 1 to 26).\n",
    "    2. Odd positions will be represented as 1 and 0 otherwise.\n",
    "    3. Convert the represented positions to boolean values, 1 for True and 0 for False.\n",
    "    4. Store the conversions into an array.\n",
    "\n",
    "    Examples:\n",
    "    to_boolean_list(\"deep\") ➞ [False, True, True, False]\n",
    "    # deep converts to 0110\n",
    "    # d is the 4th alphabet - 0\n",
    "    # e is the 5th alphabet - 1\n",
    "    # e is the 5th alphabet - 1\n",
    "    # p is the 16th alphabet - 0\n",
    "    to_boolean_list(\"loves\") ➞ [False, True, False, True, True]\n",
    "    to_boolean_list(\"tesh\") ➞ [False, True, True, False]"
   ]
  },
  {
   "cell_type": "code",
   "execution_count": 19,
   "id": "97604138",
   "metadata": {},
   "outputs": [
    {
     "name": "stdout",
     "output_type": "stream",
     "text": [
      "to_boolean_list(deep) ➞ ['False', 'True', 'True', 'False']\n",
      "to_boolean_list(loves) ➞ ['False', 'True', 'False', 'True', 'True']\n",
      "to_boolean_list(tesh) ➞ ['False', 'True', 'True', 'False']\n"
     ]
    }
   ],
   "source": [
    "try :\n",
    "    def to_boolean_list(s):\n",
    "        l = []\n",
    "        lowwer_s = s.lower()\n",
    "        for i in lowwer_s:\n",
    "            if (ord(i) - 96)%2 !=0:\n",
    "                l.append('True')\n",
    "            else :\n",
    "                l.append('False')\n",
    "        logging.info(l)\n",
    "        print(f'to_boolean_list({s}) ➞ {l}')\n",
    "\n",
    "except Exception as e:\n",
    "    logging.error(e)\n",
    "\n",
    "to_boolean_list(\"deep\")\n",
    "to_boolean_list(\"loves\")\n",
    "to_boolean_list(\"tesh\")\n",
    "\n",
    "        \n",
    "        "
   ]
  },
  {
   "cell_type": "code",
   "execution_count": null,
   "id": "91fec201",
   "metadata": {},
   "outputs": [],
   "source": []
  }
 ],
 "metadata": {
  "kernelspec": {
   "display_name": "Python 3 (ipykernel)",
   "language": "python",
   "name": "python3"
  },
  "language_info": {
   "codemirror_mode": {
    "name": "ipython",
    "version": 3
   },
   "file_extension": ".py",
   "mimetype": "text/x-python",
   "name": "python",
   "nbconvert_exporter": "python",
   "pygments_lexer": "ipython3",
   "version": "3.9.7"
  }
 },
 "nbformat": 4,
 "nbformat_minor": 5
}
