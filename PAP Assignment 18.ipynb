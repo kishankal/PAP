{
 "cells": [
  {
   "cell_type": "code",
   "execution_count": 1,
   "id": "dbc4f6c1",
   "metadata": {},
   "outputs": [],
   "source": [
    "import logging\n",
    "\n",
    "# Create and configure logger\n",
    "logging.basicConfig(filename=\"PAP_1.log\",\n",
    "                    format='%(asctime)s %(levelname)s %(message)s :',\n",
    "                    filemode='w',\n",
    "                    level = logging.INFO)\n",
    "logging.info('this message is logging')"
   ]
  },
  {
   "cell_type": "markdown",
   "id": "50d5987a",
   "metadata": {},
   "source": [
    "## 1. A robot has been given a list of movement instructions. Each instruction is either left, right, up or down, followed by a distance to move. The robot starts at [0, 0]. You want to calculate where the robot will end up and return its final position as a list.\n",
    "    To illustrate, if the robot is given the following instructions: [\"right 10\", \"up 50\", \"left 30\", \"down 10\"]\n",
    "    It will end up 20 left and 40 up from where it started, so we return [-20, 40].\n",
    "\n",
    "    Examples:\n",
    "    track_robot([\"right 10\", \"up 50\", \"left 30\", \"down 10\"]) ➞ [-20, 40]\n",
    "    track_robot([]) ➞ [0, 0]\n",
    "    // If there are no instructions, the robot doesn't move.\n",
    "    track_robot([\"right 100\", \"right 100\", \"up 500\", \"up 10000\"]) ➞ [200, 10500]"
   ]
  },
  {
   "cell_type": "code",
   "execution_count": 6,
   "id": "9e1b2a34",
   "metadata": {},
   "outputs": [
    {
     "name": "stdout",
     "output_type": "stream",
     "text": [
      "track_robot(['right 10', 'up 50', 'left 30', 'down 10']) ➞ [-20, 40]\n",
      "track_robot([]) ➞ [0, 0]\n",
      "track_robot(['right 100', 'right 100', 'up 500', 'up 10000']) ➞ [200, 10500]\n"
     ]
    }
   ],
   "source": [
    "try:\n",
    "    def track_robot(l):\n",
    "        result = [0,0]\n",
    "        for i in l:\n",
    "            i = i.split(' ')\n",
    "            if i[0] in ['right','left']:\n",
    "                result[0] = result[0] - int(i[1]) if i[0] == 'left' else result[0] + int(i[1])\n",
    "            else:\n",
    "                result[1] = result[1] - int(i[1]) if i[0] == 'down' else result[1] + int(i[1])\n",
    "        print(f'track_robot({l}) ➞ {result}')\n",
    "        logging.info(f'track_robot({l}) ➞ {result}')\n",
    "        \n",
    "except Exception as e:\n",
    "    logging.error()\n",
    "    \n",
    "track_robot([\"right 10\", \"up 50\", \"left 30\", \"down 10\"])\n",
    "track_robot([])\n",
    "track_robot([\"right 100\", \"right 100\", \"up 500\", \"up 10000\"])"
   ]
  },
  {
   "cell_type": "markdown",
   "id": "02f4b45d",
   "metadata": {},
   "source": [
    "## 2. Write a function that will return the longest word in a sentence. In cases where more than one word is found, return the first one.\n",
    "    Examples:\n",
    "    find_longest(\"A thing of beauty is a joy forever.\") ➞ \"forever\"\n",
    "    find_longest(\"Forgetfulness is by all means powerless!\") ➞ \"forgetfulness\"\n",
    "    find_longest(\"\\\"Strengths\\\" is the longest and most commonly used word that contains only a single vowel.\") ➞             \"strengths\""
   ]
  },
  {
   "cell_type": "code",
   "execution_count": 30,
   "id": "3b0c498b",
   "metadata": {},
   "outputs": [
    {
     "name": "stdout",
     "output_type": "stream",
     "text": [
      "find_longest(\"A thing of beauty is a joy forever.\") ➞ \"forever\"\n",
      "find_longest(\"Forgetfulness is by all means powerless!\") ➞ \"Forgetfulness\"\n",
      "find_longest(\"\"Strengths\" is the longest and most commonly used word that contains only a single vowel.\") ➞ \"Strengths\"\n"
     ]
    }
   ],
   "source": [
    "try:\n",
    "    def find_longest(s):\n",
    "        s_new = s\n",
    "        r = '\":;<>,.?/{[!@#$%^&*(_-*/+)]}\"'\n",
    "        for i in s:\n",
    "            if i in r:\n",
    "                s = s.replace(i,'')\n",
    "        s = s.split(' ')\n",
    "        result = max(s,key = len)\n",
    "        print(f'find_longest(\"{s_new}\") ➞ \"{result}\"')\n",
    "        logging.info(f'find_longest(\"{s_new}\") ➞ \"{result}\"')\n",
    "        \n",
    "except Exception as e:\n",
    "    logging.error(e)\n",
    "    \n",
    "find_longest(\"A thing of beauty is a joy forever.\")\n",
    "find_longest(\"Forgetfulness is by all means powerless!\")\n",
    "find_longest(\"\\\"Strengths\\\" is the longest and most commonly used word that contains only a single vowel.\")"
   ]
  },
  {
   "cell_type": "markdown",
   "id": "e77eea28",
   "metadata": {},
   "source": [
    "## 3. Create a function to check if a candidate is qualified in an imaginary coding interview of an imaginary tech startup.\n",
    "    The criteria for a candidate to be qualified in the coding interview is:\n",
    "\n",
    "    The candidate should have complete all the questions.\n",
    "    The maximum time given to complete the interview is 120 minutes.\n",
    "    The maximum time given for very easy questions is 5 minutes each.\n",
    "    The maximum time given for easy questions is 10 minutes each.\n",
    "    The maximum time given for medium questions is 15 minutes each.\n",
    "    The maximum time given for hard questions is 20 minutes each.\n",
    "    If all the above conditions are satisfied, return \"qualified\", else return \"disqualified\".\n",
    "    \n",
    "    You will be given a list of time taken by a candidate to solve a particular question and the total time taken by the       candidate to complete the interview.\n",
    "\n",
    "    Given a list , in a true condition will always be in the format [very easy, very easy, easy, easy, medium, medium,         hard, hard].\n",
    "\n",
    "    The maximum time to complete the interview includes a buffer time of 20 minutes.\n",
    "\n",
    "    Examples:\n",
    "    interview([5, 5, 10, 10, 15, 15, 20, 20], 120) ➞ \"qualified\"\n",
    "    interview([2, 3, 8, 6, 5, 12, 10, 18], 64) ➞  \"qualified\"\n",
    "    interview([5, 5, 10, 10, 25, 15, 20, 20], 120) ➞ \"disqualified\"\n",
    "    # Exceeded the time limit for a medium question.\n",
    "    interview([5, 5, 10, 10, 15, 15, 20], 120) ➞ \"disqualified\"\n",
    "    # Did not complete all the questions.\n",
    "    interview([5, 5, 10, 10, 15, 15, 20, 20], 130) ➞ \"disqualified\"\n",
    "    # Solved all the questions in their respected time limits but exceeded the total time limit of the interview.\n",
    "    \n"
   ]
  },
  {
   "cell_type": "code",
   "execution_count": 41,
   "id": "1fd74837",
   "metadata": {},
   "outputs": [
    {
     "name": "stdout",
     "output_type": "stream",
     "text": [
      "interview([5, 5, 10, 10, 15, 15, 20, 20], 120) ➞ qualified\n",
      "interview([2, 3, 8, 6, 5, 12, 10, 18], 64) ➞ qualified\n",
      "interview([5, 5, 10, 10, 25, 15, 20, 20], 120) ➞ disqualified\n",
      "interview([5, 5, 10, 10, 15, 15, 20], 120) ➞ disqualified\n",
      "interview([5, 5, 10, 10, 15, 15, 20, 20], 130) ➞ disqualified\n"
     ]
    }
   ],
   "source": [
    "try:\n",
    "    def interview(l,n):\n",
    "        x = 5\n",
    "        count = 0\n",
    "        result = 'disqualified'\n",
    "        if len(l) < 8 or n > 120:\n",
    "            result = 'disqualified'\n",
    "        else:\n",
    "            for i in l:\n",
    "                if i <= x:\n",
    "                    result = 'qualified'\n",
    "                    count += 1\n",
    "                    if count%2 == 0:\n",
    "                        x +=5\n",
    "                    \n",
    "                else:\n",
    "                    result = 'disqualified'\n",
    "                    break\n",
    "                    \n",
    "        print(f'interview{l,n} ➞ {result}')\n",
    "        logging.info(f'interview{l,n} ➞ {result}')\n",
    "            \n",
    "except Exception as e:\n",
    "    logging.error(e)\n",
    "    \n",
    "interview([5, 5, 10, 10, 15, 15, 20, 20], 120)\n",
    "interview([2, 3, 8, 6, 5, 12, 10, 18], 64)\n",
    "interview([5, 5, 10, 10, 25, 15, 20, 20], 120)\n",
    "interview([5, 5, 10, 10, 15, 15, 20], 120)\n",
    "interview([5, 5, 10, 10, 15, 15, 20, 20], 130)"
   ]
  },
  {
   "cell_type": "markdown",
   "id": "b3e257fc",
   "metadata": {},
   "source": [
    "## 4. Write a function that divides a list into chunks of size n, where n is the length of each chunk.\n",
    "    Examples:\n",
    "    chunkify([2, 3, 4, 5], 2) ➞ [[2, 3], [4, 5]]\n",
    "    chunkify([2, 3, 4, 5, 6], 2) ➞ [[2, 3], [4, 5], [6]]\n",
    "    chunkify([2, 3, 4, 5, 6, 7], 3) ➞ [[2, 3, 4], [5, 6, 7]]\n",
    "    chunkify([2, 3, 4, 5, 6, 7], 1) ➞ [[2], [3], [4], [5], [6], [7]]\n",
    "    chunkify([2, 3, 4, 5, 6, 7], 7) ➞ [[2, 3, 4, 5, 6, 7]]"
   ]
  },
  {
   "cell_type": "code",
   "execution_count": 51,
   "id": "b8617b5f",
   "metadata": {},
   "outputs": [
    {
     "name": "stdout",
     "output_type": "stream",
     "text": [
      "chunkify([2, 3, 4, 5], 2) ➞ [[2, 3], [4, 5]]\n",
      "chunkify([2, 3, 4, 5, 6], 2) ➞ [[2, 3], [4, 5], [6]]\n",
      "chunkify([2, 3, 4, 5, 6, 7], 3) ➞ [[2, 3, 4], [5, 6, 7]]\n",
      "chunkify([2, 3, 4, 5, 6, 7], 1) ➞ [[2], [3], [4], [5], [6], [7]]\n",
      "chunkify([2, 3, 4, 5, 6, 7], 7) ➞ [[2, 3, 4, 5, 6, 7]]\n"
     ]
    }
   ],
   "source": [
    "try:\n",
    "    def chunkify(l,n):\n",
    "        result = []\n",
    "        l_new = []\n",
    "        x = 0\n",
    "        if n < len(l):\n",
    "            for i in range(len(l)):\n",
    "                l_new.append(l[i])\n",
    "                if (i+1)%n == 0:\n",
    "                    result.append(l_new)\n",
    "                    l_new = []\n",
    "                elif i == len(l)-1:\n",
    "                    result.append(l_new)\n",
    "                    \n",
    "        else:\n",
    "            result.append(l)\n",
    "                \n",
    "        print(f'chunkify{l, n} ➞ {result}')\n",
    "        logging.info(f'chunkify{l, n} ➞ {result}')\n",
    "                \n",
    "except Exception as e:\n",
    "    logging.error(e)\n",
    "    \n",
    "chunkify([2, 3, 4, 5], 2)   \n",
    "chunkify([2, 3, 4, 5, 6], 2)\n",
    "chunkify([2, 3, 4, 5, 6, 7], 3)\n",
    "chunkify([2, 3, 4, 5, 6, 7], 1)\n",
    "chunkify([2, 3, 4, 5, 6, 7], 7)"
   ]
  },
  {
   "cell_type": "code",
   "execution_count": 61,
   "id": "f4f77141",
   "metadata": {},
   "outputs": [
    {
     "name": "stdout",
     "output_type": "stream",
     "text": [
      "chunkify([2, 3, 4, 5], 2) ➞ [[2, 3], [4, 5]]\n",
      "chunkify([2, 3, 4, 5, 6], 2) ➞ [[2, 3], [4, 5], [6]]\n",
      "chunkify([2, 3, 4, 5, 6, 7], 3) ➞ [[2, 3, 4], [5, 6, 7]]\n",
      "chunkify([2, 3, 4, 5, 6, 7], 1) ➞ [[2], [3], [4], [5], [6], [7]]\n",
      "chunkify([2, 3, 4, 5, 6, 7], 7) ➞ [[2, 3, 4, 5, 6, 7]]\n"
     ]
    }
   ],
   "source": [
    "## mwthod 2 :\n",
    "def chunkify(l,n):\n",
    "    result = []\n",
    "    for i in range(0,len(l),n):\n",
    "        result.append(l[i:i+n])\n",
    "    print(f'chunkify{l, n} ➞ {result}')\n",
    "    \n",
    "chunkify([2, 3, 4, 5], 2)   \n",
    "chunkify([2, 3, 4, 5, 6], 2)\n",
    "chunkify([2, 3, 4, 5, 6, 7], 3)\n",
    "chunkify([2, 3, 4, 5, 6, 7], 1)\n",
    "chunkify([2, 3, 4, 5, 6, 7], 7)   "
   ]
  },
  {
   "cell_type": "markdown",
   "id": "f25bc3dd",
   "metadata": {},
   "source": [
    "## 5. You are given a list of strings consisting of grocery items, with prices in parentheses. Return a list of prices in float format.\n",
    "    Examples:\n",
    "    get_prices([\"salad ($4.99)\"]) ➞ [4.99]\n",
    "    \n",
    "    get_prices([\n",
    "                  \"artichokes ($1.99)\",\n",
    "                  \"rotiserrie chicken ($5.99)\",\n",
    "                  \"gum ($0.75)\"\n",
    "                ]) ➞ [1.99, 5.99, 0.75]\n",
    "    \n",
    "    get_prices([\n",
    "                  \"ice cream ($5.99)\",\n",
    "                  \"banana ($0.20)\",\n",
    "                  \"sandwich ($8.50)\",\n",
    "                  \"soup ($1.99)\"\n",
    "                ]) ➞ [5.99, 0.2, 8.50, 1.99]\n",
    "    \n"
   ]
  },
  {
   "cell_type": "code",
   "execution_count": 68,
   "id": "979f0786",
   "metadata": {},
   "outputs": [
    {
     "name": "stdout",
     "output_type": "stream",
     "text": [
      "['1.99', '5.99', '0.75']\n",
      "['5.99', '0.20', '8.50', '1.99']\n"
     ]
    }
   ],
   "source": [
    "try:\n",
    "    def get_prices(l):\n",
    "        s = ''\n",
    "        l_new = []\n",
    "        for i in l:\n",
    "            i = i.split(' ')\n",
    "            s = i[-1]\n",
    "            for j in ['(',')','$']:\n",
    "                s = s.replace(j,'')\n",
    "            l_new.append(s)\n",
    "        print(f'get_prices({l}) ➞ {l_new}')\n",
    "        logging.info(f'get_prices({l}) ➞ {l_new}')\n",
    "        \n",
    "except Exception as e:\n",
    "    logging.error(e)\n",
    "    \n",
    "get_prices([\n",
    "              \"artichokes ($1.99)\",\n",
    "                  \"rotiserrie chicken ($5.99)\",\n",
    "              \"gum ($0.75)\"\n",
    "            ])\n",
    "\n",
    "get_prices([\n",
    "              \"ice cream ($5.99)\",\n",
    "                  \"banana ($0.20)\",\n",
    "              \"sandwich ($8.50)\",\n",
    "                  \"soup ($1.99)\"\n",
    "            ]) "
   ]
  },
  {
   "cell_type": "code",
   "execution_count": 69,
   "id": "ab97f505",
   "metadata": {},
   "outputs": [
    {
     "name": "stdout",
     "output_type": "stream",
     "text": [
      "get_prices(['salad ($4.99)']) ➞ [4.99]\n",
      "get_prices(['artichokes ($1.99)', 'rotiserrie chicken ($5.99)', 'gum ($0.75)']) ➞ [1.99, 5.99, 0.75]\n",
      "get_prices(['ice cream ($5.99)', 'banana ($0.20)', 'sandwich ($8.50)', 'soup ($1.99)']) ➞ [5.99, 0.2, 8.5, 1.99]\n"
     ]
    }
   ],
   "source": [
    "## method 2\n",
    "def get_prices(l):\n",
    "    l_new = []\n",
    "    for ele in l:\n",
    "        l_new.append(float((ele.split('$')[-1]).split(')')[0]))\n",
    "    print(f'get_prices({l}) ➞ {l_new}')\n",
    "        \n",
    "get_prices([\"salad ($4.99)\"])\n",
    "get_prices([\"artichokes ($1.99)\",\"rotiserrie chicken ($5.99)\",\"gum ($0.75)\"])\n",
    "get_prices([\"ice cream ($5.99)\",\"banana ($0.20)\",\"sandwich ($8.50)\",\"soup ($1.99)\"])"
   ]
  }
 ],
 "metadata": {
  "kernelspec": {
   "display_name": "Python 3 (ipykernel)",
   "language": "python",
   "name": "python3"
  },
  "language_info": {
   "codemirror_mode": {
    "name": "ipython",
    "version": 3
   },
   "file_extension": ".py",
   "mimetype": "text/x-python",
   "name": "python",
   "nbconvert_exporter": "python",
   "pygments_lexer": "ipython3",
   "version": "3.9.7"
  }
 },
 "nbformat": 4,
 "nbformat_minor": 5
}
