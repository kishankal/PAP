{
 "cells": [
  {
   "cell_type": "markdown",
   "id": "345a2642",
   "metadata": {},
   "source": [
    "## 1.Write a function that takes a positive integer num and calculates how many dots exist in a pentagonal shape around the center dot on the Nth iteration.\n",
    "    In the image below you can see the first iteration is only a single dot. On the second, there are 6 dots. On the third,     there are 16 dots, and on the fourth there are 31 dots.\n",
    "\n",
    "    pentagonal(1) ➞ 1\n",
    "    pentagonal(2) ➞ 6\n",
    "    pentagonal(3) ➞ 16\n",
    "    pentagonal(8) ➞ 141"
   ]
  },
  {
   "cell_type": "code",
   "execution_count": 5,
   "id": "11e7fdb5",
   "metadata": {},
   "outputs": [],
   "source": [
    "import logging\n",
    "\n",
    "# Create and configure logger\n",
    "logging.basicConfig(filename=\"PAP_1.log\",\n",
    "                    format='%(asctime)s %(levelname)s %(message)s :',\n",
    "                    filemode='w',\n",
    "                    level = logging.INFO)\n",
    "logging.info('this message is logging')\n",
    " "
   ]
  },
  {
   "cell_type": "code",
   "execution_count": 12,
   "id": "3e78e6f7",
   "metadata": {},
   "outputs": [
    {
     "name": "stdout",
     "output_type": "stream",
     "text": [
      "enter a number for pentagonal dots : 8\n",
      "pentagonal(1) ➞ 1\n",
      "pentagonal(2) ➞ 6\n",
      "pentagonal(3) ➞ 16\n",
      "pentagonal(4) ➞ 31\n",
      "pentagonal(5) ➞ 51\n",
      "pentagonal(6) ➞ 76\n",
      "pentagonal(7) ➞ 106\n",
      "pentagonal(8) ➞ 141\n"
     ]
    }
   ],
   "source": [
    "try :\n",
    "    def pentagonal(n):\n",
    "        mul_ = 1\n",
    "        if n >= 1:\n",
    "            for i in range(n):\n",
    "                mul_ += 5*i \n",
    "            logging.info(f'pentagonal({n}) ➞ {mul_}')\n",
    "            print(f'pentagonal({n}) ➞ {mul_}')\n",
    "        else :\n",
    "            print(\"Enter a Positive Number as Input\")\n",
    "except Exception as e:\n",
    "    logging.error(e)\n",
    "\n",
    "n = int(input(\"enter a number for pentagonal dots : \"))\n",
    "for j in range(1,n+1):\n",
    "    pentagonal(j)"
   ]
  },
  {
   "cell_type": "markdown",
   "id": "a0b0eeaf",
   "metadata": {},
   "source": [
    "## 2.. Make a function that encrypts a given input with these steps:\n",
    "    Input: \"apple\"\n",
    "    Step 1: Reverse the input: \"elppa\"\n",
    "    Step 2: Replace all vowels using the following chart:\n",
    "    a => 0\n",
    "    e => 1\n",
    "    i => 2\n",
    "    o => 2\n",
    "    u => 3\n",
    "    # \"1lpp0\"\n",
    "    Step 3: Add \"aca\" to the end of the word: \"1lpp0aca\"\n",
    "    Output: \"1lpp0aca\"\n",
    "    Examples:\n",
    "    encrypt(\"banana\") ➞ \"0n0n0baca\"\n",
    "    encrypt(\"karaca\") ➞ \"0c0r0kaca\"\n",
    "    encrypt(\"burak\") ➞ \"k0r3baca\"\n",
    "    encrypt(\"alpaca\") ➞ \"0c0pl0aca\""
   ]
  },
  {
   "cell_type": "code",
   "execution_count": 25,
   "id": "1c1c287f",
   "metadata": {},
   "outputs": [
    {
     "name": "stdout",
     "output_type": "stream",
     "text": [
      "Enter a string : apple\n",
      "encrypt(apple) ➞ 1lpp0aca\n",
      "Enter a string : banana\n",
      "encrypt(banana) ➞ 0n0n0baca\n",
      "Enter a string : karaca\n",
      "encrypt(karaca) ➞ 0c0r0kaca\n"
     ]
    }
   ],
   "source": [
    "try :\n",
    "    def encrypt(s):\n",
    "        s_new = s.lower()\n",
    "        vowels = {'a':'0','e':'1','i':'2','o':'2','u':'2'}\n",
    "        s_new = s_new[::-1]\n",
    "        for i in s_new:\n",
    "            if i in vowels.keys():\n",
    "                s_new = s_new.replace(i,vowels[i])\n",
    "        s_new += 'aca' \n",
    "        logging.info(f'encrypt({s}) ➞ {s_new}')\n",
    "        print(f'encrypt({s}) ➞ {s_new}')\n",
    "except Exception as e :\n",
    "    logging.error(e)\n",
    "for i in range(3):\n",
    "    s = input('Enter a string : ')\n",
    "    encrypt(s)\n",
    "        "
   ]
  },
  {
   "cell_type": "markdown",
   "id": "952e5ed5",
   "metadata": {},
   "source": [
    "## 3.Given the month and year as numbers, return whether that month contains a Friday 13th.(i.e You can check Python's datetime module)\n",
    "    Examples:\n",
    "    has_friday_13(3, 2020) ➞ True\n",
    "    has_friday_13(10, 2017) ➞ True\n",
    "    has_friday_13(1, 1985) ➞ False"
   ]
  },
  {
   "cell_type": "code",
   "execution_count": 27,
   "id": "97faed87",
   "metadata": {},
   "outputs": [
    {
     "name": "stdout",
     "output_type": "stream",
     "text": [
      "Enter a month number in integer : 3\n",
      "Enter a year number in integer like 202X: 2020\n",
      "has_friday_13(3, 2020) ➞ True\n",
      "Enter a month number in integer : 10\n",
      "Enter a year number in integer like 202X: 2017\n",
      "has_friday_13(10, 2017) ➞ True\n",
      "Enter a month number in integer : 1\n",
      "Enter a year number in integer like 202X: 1985\n",
      "has_friday_13(1, 1985) ➞ False\n"
     ]
    }
   ],
   "source": [
    "import datetime\n",
    "try:\n",
    "    def has_friday_13(month,year):\n",
    "        flag = False\n",
    "        if datetime.datetime(year,month,13).strftime('%A') == 'Friday':\n",
    "            flag = True\n",
    "            \n",
    "        logging.info(f'has_friday_13{month,year} ➞ {flag}')\n",
    "        print(f'has_friday_13{month,year} ➞ {flag}')\n",
    "\n",
    "except Exception as e:\n",
    "    logging.error(e)\n",
    "    \n",
    "for i in range(3):\n",
    "    month = int(input(\"Enter a month number in integer : \"))\n",
    "    year = int(input(\"Enter a year number in integer like 202X: \"))\n",
    "    has_friday_13(month,year)\n",
    "\n",
    "    "
   ]
  },
  {
   "cell_type": "markdown",
   "id": "3cc174bc",
   "metadata": {},
   "source": [
    "## 4.Write a regular expression that will help us count how many bad cookies are produced every day. You must use RegEx negative lookbehind.\n",
    "    Examples:\n",
    "    lst = [\"bad cookie\", \"good cookie\", \"bad cookie\", \"good cookie\", \"good cookie\"]\n",
    "    pattern = \"yourregularexpressionhere\"\n",
    "    len(re.findall(pattern, \", \".join(lst))) ➞ 2"
   ]
  },
  {
   "cell_type": "code",
   "execution_count": 28,
   "id": "0326084b",
   "metadata": {},
   "outputs": [
    {
     "name": "stdout",
     "output_type": "stream",
     "text": [
      "No of Bad cookies produced per day ➞ 2\n"
     ]
    }
   ],
   "source": [
    "import re\n",
    "lst = [\"bad cookie\", \"good cookie\", \"bad cookie\", \"good cookie\", \"good cookie\"]\n",
    "pattern = r'(?<!good)\\scookie'# Regex Negative lookbehind expression\n",
    "data = re.findall(pattern,' '.join(lst))\n",
    "print(f'No of Bad cookies produced per day ➞ {len(data)}')"
   ]
  },
  {
   "cell_type": "markdown",
   "id": "e68445b3",
   "metadata": {},
   "source": [
    "## 5.. Given a list of words in the singular form, return a set of those words in the plural form if they appear more than once in the list.\n",
    "    Examples:\n",
    "    pluralize([\"cow\", \"pig\", \"cow\", \"cow\"]) ➞ { \"cows\", \"pig\" }\n",
    "    pluralize([\"table\", \"table\", \"table\"]) ➞ { \"tables\" }\n",
    "    pluralize([\"chair\", \"pencil\", \"arm\"]) ➞ { \"chair\", \"pencil\", \"arm\" }"
   ]
  },
  {
   "cell_type": "code",
   "execution_count": 29,
   "id": "447801fd",
   "metadata": {},
   "outputs": [
    {
     "name": "stdout",
     "output_type": "stream",
     "text": [
      "pluralize(['cow', 'pig', 'cow', 'cow'])  ➞ {'cows', 'pig'}\n",
      "pluralize(['table', 'table', 'table'])  ➞ {'tables'}\n",
      "pluralize(['chair', 'pencil', 'arm'])  ➞ {'chair', 'pencil', 'arm'}\n"
     ]
    }
   ],
   "source": [
    "try :\n",
    "    def pluralize(l):\n",
    "        set_ = set()\n",
    "        for i in  set(l):\n",
    "            if l.count(i) > 1:\n",
    "                set_.add(i+'s')\n",
    "            else:\n",
    "                set_.add(i)\n",
    "        logging.info(f'pluralize({l})  ➞ {set_}')\n",
    "        print(f'pluralize({l})  ➞ {set_}')\n",
    "        \n",
    "except Exception as e:\n",
    "    logging.error(e)\n",
    "    \n",
    "pluralize([\"cow\", \"pig\", \"cow\", \"cow\"])\n",
    "pluralize([\"table\", \"table\", \"table\"])\n",
    "pluralize([\"chair\", \"pencil\", \"arm\"])"
   ]
  },
  {
   "cell_type": "code",
   "execution_count": null,
   "id": "1e5db59d",
   "metadata": {},
   "outputs": [],
   "source": []
  }
 ],
 "metadata": {
  "kernelspec": {
   "display_name": "Python 3 (ipykernel)",
   "language": "python",
   "name": "python3"
  },
  "language_info": {
   "codemirror_mode": {
    "name": "ipython",
    "version": 3
   },
   "file_extension": ".py",
   "mimetype": "text/x-python",
   "name": "python",
   "nbconvert_exporter": "python",
   "pygments_lexer": "ipython3",
   "version": "3.9.7"
  }
 },
 "nbformat": 4,
 "nbformat_minor": 5
}
