{
 "cells": [
  {
   "cell_type": "code",
   "execution_count": 1,
   "id": "14625a57",
   "metadata": {},
   "outputs": [],
   "source": [
    "import logging\n",
    "\n",
    "# Create and configure logger\n",
    "logging.basicConfig(filename=\"PAP_1.log\",\n",
    "                    format='%(asctime)s %(levelname)s %(message)s :',\n",
    "                    filemode='w',\n",
    "                    level = logging.INFO)\n",
    "logging.info('this message is logging')"
   ]
  },
  {
   "cell_type": "markdown",
   "id": "a9e704b2",
   "metadata": {},
   "source": [
    "## 1.In mathematics, the Fibonacci numbers, commonly denoted Fn, form a sequence, called the Fibonacci sequence, such that each number is the sum of the two preceding ones, starting from 0 and 1:\n",
    "    The beginning of the sequence is this: 0, 1, 1, 2, 3, 5, 8, 13, 21, 34, 55, 89, 144, ...\n",
    "    The function fastFib(num) returns the fibonacci number Fn, of the given num as an argument.\n",
    "    Examples:\n",
    "    fib_fast(5) ➞ 5\n",
    "    fib_fast(10) ➞ 55\n",
    "    fib_fast(20) ➞ 6765\n",
    "    fib_fast(50) ➞ 12586269025"
   ]
  },
  {
   "cell_type": "code",
   "execution_count": null,
   "id": "edfa3d1c",
   "metadata": {},
   "outputs": [
    {
     "name": "stdout",
     "output_type": "stream",
     "text": [
      "\n",
      " enter a number to find fibbonaci series value : 5\n",
      "\n",
      " Fibonacci sequence for 5 is 5\n",
      "\n",
      " enter a number to find fibbonaci series value : 10\n",
      "\n",
      " Fibonacci sequence for 10 is 55\n",
      "\n",
      " enter a number to find fibbonaci series value : 20\n",
      "\n",
      " Fibonacci sequence for 20 is 6765\n",
      "\n",
      " enter a number to find fibbonaci series value : 50\n"
     ]
    }
   ],
   "source": [
    "try :\n",
    "    def fib_fast(n):\n",
    "        if n == 0:\n",
    "            return 0\n",
    "        elif n == 1:\n",
    "            return 1    \n",
    "        else :\n",
    "            return (fib_fast(n-1) + fib_fast(n-2))\n",
    "        \n",
    "except Exception as e :\n",
    "    logging.error(e)\n",
    "    \n",
    "for i in range(5):\n",
    "    \n",
    "    n = int(input(\"\\n enter a number to find fibbonaci series value : \"))\n",
    "    \n",
    "    # check if the number of terms is valid\n",
    "    if n <= 0:\n",
    "        print(\"\\n Plese enter a positive integer\")\n",
    "    elif i>4:\n",
    "        break\n",
    "    else:\n",
    "        print(f\"\\n Fibonacci sequence for {n} is {fib_fast(n)}\")\n",
    "        "
   ]
  },
  {
   "cell_type": "markdown",
   "id": "34e5c0d3",
   "metadata": {},
   "source": [
    "## 2.Create a function that takes a strings characters as ASCII and returns each characters hexadecimal value as a string.\n",
    "    Examples:\n",
    "    convert_to_hex(\"hello world\") ➞ \"68 65 6c 6c 6f 20 77 6f 72 6c 64\"\n",
    "    convert_to_hex(\"Big Boi\") ➞ \"42 69 67 20 42 6f 69\"\n",
    "    convert_to_hex(\"Marty Poppinson\") ➞ \"4d 61 72 74 79 20 50 6f 70 70 69 6e 73 6f 6e\""
   ]
  },
  {
   "cell_type": "code",
   "execution_count": 12,
   "id": "547c84c5",
   "metadata": {},
   "outputs": [
    {
     "name": "stdout",
     "output_type": "stream",
     "text": [
      "enter a string for converting it into hexadecimal : hello world\n",
      "68 65 6c 6c 6f 20 77 6f 72 6c 64 \n",
      "enter a string for converting it into hexadecimal : Big Boi\n",
      "42 69 67 20 42 6f 69 \n",
      "enter a string for converting it into hexadecimal : Marty Poppinson\n",
      "4d 61 72 74 79 20 50 6f 70 70 69 6e 73 6f 6e \n"
     ]
    }
   ],
   "source": [
    "try :\n",
    "    def convert_to_hex(s):\n",
    "        hex_string = ''\n",
    "        for i in s:\n",
    "            hex_string += format(ord(i) , 'x') + ' '\n",
    "        print(hex_string)\n",
    "        logging.info(hex_string)\n",
    "except Exception as e:\n",
    "    logging.error(e)\n",
    "\n",
    "for j in range(3):\n",
    "    s = input(\"enter a string for converting it into hexadecimal : \")\n",
    "    convert_to_hex(s)"
   ]
  },
  {
   "cell_type": "markdown",
   "id": "e05de640",
   "metadata": {},
   "source": [
    "## 3.Someone has attempted to censor my strings by replacing every vowel with a *, l*k* th*s. Luckily, I've been able to find the vowels that were removed.\n",
    "    Given a censored string and a string of the censored vowels, return the original uncensored string.\n",
    "    Examples:\n",
    "    uncensor(\"Wh*r* d*d my v*w*ls g*?\", \"eeioeo\") ➞ \"Where did my vowels go?\"\n",
    "    uncensor(\"abcd\", \"\") ➞ \"abcd\"\n",
    "    uncensor(\"*PP*RC*S*\", \"UEAE\") ➞ \"UPPERCASE\""
   ]
  },
  {
   "cell_type": "code",
   "execution_count": 15,
   "id": "dc95d36e",
   "metadata": {},
   "outputs": [
    {
     "name": "stdout",
     "output_type": "stream",
     "text": [
      "uncensor('Wh*r* d*d my v*w*ls g*?', 'eeioeo') ➞ Where did my vowels go?\n",
      "uncensor('abcd', '') ➞ abcd\n",
      "uncensor('*PP*RC*S*', 'UEAE') ➞ UPPERCASE\n"
     ]
    }
   ],
   "source": [
    "def uncensor(in_string,in_vowels):\n",
    "    window = 0\n",
    "    out_string = ''\n",
    "    for ele in in_string:\n",
    "        if ele == '*':\n",
    "            out_string += in_vowels[window]\n",
    "            window +=1\n",
    "        else:\n",
    "            out_string += ele\n",
    "    print(f'uncensor{in_string,in_vowels} ➞ {out_string}')\n",
    "\n",
    "uncensor(\"Wh*r* d*d my v*w*ls g*?\", \"eeioeo\")\n",
    "uncensor(\"abcd\", \"\")\n",
    "uncensor(\"*PP*RC*S*\", \"UEAE\") "
   ]
  },
  {
   "cell_type": "markdown",
   "id": "82097fd6",
   "metadata": {},
   "source": [
    "## 4.Write a function that takes an IP address and returns the domain name using PTR DNS records.\n",
    "    Examples:\n",
    "    get_domain(\"8.8.8.8\") ➞ \"dns.google\"\n",
    "    get_domain(\"8.8.4.4\") ➞ \"dns.google\""
   ]
  },
  {
   "cell_type": "code",
   "execution_count": 20,
   "id": "a0c0a45d",
   "metadata": {
    "scrolled": true
   },
   "outputs": [
    {
     "name": "stdout",
     "output_type": "stream",
     "text": [
      "enter a ip_address : 8.8.8.8\n",
      "socket.get_domain('8.8.8.8') ➞ ('dns.google', [], ['8.8.8.8']) ➞ dns.google\n",
      "enter a ip_address : 8.8.4.4\n",
      "socket.get_domain('8.8.4.4') ➞ ('dns.google', [], ['8.8.4.4']) ➞ dns.google\n"
     ]
    }
   ],
   "source": [
    "import socket\n",
    "try: \n",
    "    def get_domain(ip):\n",
    "        print(f\"socket.get_domain('{ip}') ➞ {socket.gethostbyaddr(ip)} ➞ {socket.gethostbyaddr(ip)[0]}\")\n",
    "        logging.info(f\"socket.get_domain('{ip}') ➞ {socket.gethostbyaddr(ip)} ➞ {socket.gethostbyaddr(ip)[0]}\")\n",
    "\n",
    "except Exception as e:\n",
    "    logging.error(e)\n",
    "for i in range(2):\n",
    "    s = input(\"enter a ip_address : \")\n",
    "    get_domain(s)"
   ]
  },
  {
   "cell_type": "markdown",
   "id": "6f7c41df",
   "metadata": {},
   "source": [
    "## 5.Create a function that takes an integer n and returns the factorial of factorials. See below examples for a better understanding:\n",
    "    Examples:\n",
    "    fact_of_fact(4) ➞ 288\n",
    "    # 4! * 3! * 2! * 1! = 288\n",
    "    fact_of_fact(5) ➞ 34560\n",
    "    fact_of_fact(6) ➞ 24883200"
   ]
  },
  {
   "cell_type": "code",
   "execution_count": 22,
   "id": "fee82b41",
   "metadata": {},
   "outputs": [
    {
     "name": "stdout",
     "output_type": "stream",
     "text": [
      "fact_of_fact(4) ➞ 288\n",
      "fact_of_fact(5) ➞ 34560\n",
      "fact_of_fact(6) ➞ 24883200\n"
     ]
    }
   ],
   "source": [
    "try:\n",
    "    def fact_of_fact(in_num):\n",
    "    # Internal Function to generate factorial of a Number\n",
    "        def get_factorial(n):\n",
    "            if n == 1:\n",
    "                return 1\n",
    "            else:\n",
    "                return n*get_factorial(n-1)      \n",
    "        out_num = 1\n",
    "        for ele in range(1,in_num+1):\n",
    "            out_num *= get_factorial(ele)\n",
    "        print(f'fact_of_fact({in_num}) ➞ {out_num}')\n",
    "except Exception as e:\n",
    "    logging.error(e)\n",
    "\n",
    "for i in range(3):\n",
    "    p = int(input('enter a number to find factorial : '))\n",
    "\n",
    "fact_of_fact(4)\n",
    "fact_of_fact(5)\n",
    "fact_of_fact(6)"
   ]
  },
  {
   "cell_type": "code",
   "execution_count": null,
   "id": "24bbaee3",
   "metadata": {},
   "outputs": [],
   "source": []
  }
 ],
 "metadata": {
  "kernelspec": {
   "display_name": "Python 3 (ipykernel)",
   "language": "python",
   "name": "python3"
  },
  "language_info": {
   "codemirror_mode": {
    "name": "ipython",
    "version": 3
   },
   "file_extension": ".py",
   "mimetype": "text/x-python",
   "name": "python",
   "nbconvert_exporter": "python",
   "pygments_lexer": "ipython3",
   "version": "3.9.7"
  }
 },
 "nbformat": 4,
 "nbformat_minor": 5
}
