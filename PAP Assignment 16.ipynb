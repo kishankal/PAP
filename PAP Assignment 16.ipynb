{
 "cells": [
  {
   "cell_type": "code",
   "execution_count": 6,
   "id": "d0ffbc27",
   "metadata": {},
   "outputs": [],
   "source": [
    "import logging\n",
    "\n",
    "# Create and configure logger\n",
    "logging.basicConfig(filename=\"PAP_1.log\",\n",
    "                    format='%(asctime)s %(levelname)s %(message)s :',\n",
    "                    filemode='w',\n",
    "                    level = logging.INFO)\n",
    "logging.info('this message is logging')"
   ]
  },
  {
   "cell_type": "markdown",
   "id": "2cfc24c2",
   "metadata": {},
   "source": [
    "## 1. Rondo Form is a type of musical structure, in which there is a recurring theme/refrain, notated as A. Here are the rules for valid rondo forms:\n",
    "    Rondo forms always start and end with an A section.\n",
    "    In between the A sections, there should be contrasting sections notated as B, then C, then D, etc... No letter should       be skipped.\n",
    "    There shouldn't be any repeats in the sequence (such as ABBACCA).\n",
    "    Create a function which validates whether a given string is a valid Rondo Form.\n",
    "\n",
    "    Examples:\n",
    "    valid_rondo(\"ABACADAEAFAGAHAIAJA\") ➞ True\n",
    "    valid_rondo(\"ABA\") ➞ True\n",
    "    valid_rondo(\"ABBACCA\") ➞ False\n",
    "    valid_rondo(\"ACAC\") ➞ False\n",
    "    valid_rondo(\"A\") ➞ False\n",
    "    "
   ]
  },
  {
   "cell_type": "code",
   "execution_count": 8,
   "id": "d7432eb0",
   "metadata": {
    "scrolled": true
   },
   "outputs": [
    {
     "name": "stdout",
     "output_type": "stream",
     "text": [
      "valid_rondo(ABACADAEAFAGAHAIAJA) ➞ True\n",
      "valid_rondo(ABA) ➞ True\n",
      "valid_rondo(ABBACCA) ➞ False\n",
      "valid_rondo(ACAC) ➞ False\n",
      "valid_rondo(A) ➞ False\n"
     ]
    }
   ],
   "source": [
    "try:\n",
    "    def valid_rondo(s):\n",
    "        result = False\n",
    "        s_new = s.replace('A','')\n",
    "        s_new = list(s_new)\n",
    "        if len(s_new) == 1:\n",
    "            result = True\n",
    "        else:\n",
    "            for i in range(len(s_new)-1):\n",
    "                if ord(s_new[i]) < ord(s_new[i+1]):\n",
    "                    result = True\n",
    "                else:\n",
    "                    result = False\n",
    "                    break\n",
    "        print(f\"valid_rondo({s}) ➞ {result}\")\n",
    "        logging.info(f\"valid_rondo({s}) ➞ {result}\")\n",
    "            \n",
    "except Exeption as se:\n",
    "    logging.error(e)\n",
    "\n",
    "valid_rondo(\"ABACADAEAFAGAHAIAJA\")\n",
    "valid_rondo(\"ABA\")\n",
    "valid_rondo(\"ABBACCA\")\n",
    "valid_rondo(\"ACAC\")\n",
    "valid_rondo(\"A\")"
   ]
  },
  {
   "cell_type": "markdown",
   "id": "6022eb72",
   "metadata": {},
   "source": [
    "## 2. Create a function that returns the whole of the first sentence which contains a specific word. Include the full stop at the end of the sentence.\n",
    "    Examples:\n",
    "    txt = \"I have a cat. I have a mat. Things are going swell.\"\n",
    "    sentence_searcher(txt, \"have\") ➞ \"I have a cat.\"\n",
    "    sentence_searcher(txt, \"MAT\") ➞ \"I have a mat.\"\n",
    "    sentence_searcher(txt, \"things\") ➞ \"Things are going swell.\"\n",
    "    sentence_searcher(txt, \"flat\") ➞ \"\"\n"
   ]
  },
  {
   "cell_type": "code",
   "execution_count": 30,
   "id": "4e58f6d9",
   "metadata": {},
   "outputs": [
    {
     "name": "stdout",
     "output_type": "stream",
     "text": [
      "sentence_searcher('I have a cat. I have a mat. Things are going swell.', 'have') ➞ I have a cat.\n",
      "sentence_searcher('I have a cat. I have a mat. Things are going swell.', 'MAT') ➞ I have a mat.\n",
      "sentence_searcher('I have a cat. I have a mat. Things are going swell.', 'things') ➞ Things are going swell.\n",
      "sentence_searcher('I have a cat. I have a mat. Things are going swell.', 'flat') ➞ \n"
     ]
    }
   ],
   "source": [
    "try:\n",
    "    def sentence_searcher(txt,s2):\n",
    "        \n",
    "        l = []\n",
    "        a = 0 \n",
    "        flag = 0\n",
    "        \n",
    "        for i in range(len(txt)):\n",
    "            if txt[i] == '.':\n",
    "                l.append(txt[a:i+1:1])\n",
    "                a = i + 2 \n",
    "        for j in l:\n",
    "            if s2.lower() in j.lower():\n",
    "                print(f'sentence_searcher{txt,s2} ➞ {j}')\n",
    "                logging.info(f'sentence_searcher{txt,s2} ➞ {j}')\n",
    "                break\n",
    "            else:\n",
    "                flag += 1 \n",
    "        if flag == len(l):\n",
    "            print(f'sentence_searcher{txt,s2} ➞ {\"\"}')\n",
    "            logging.info(f'sentence_searcher{txt,s2} ➞ {\"\"}')\n",
    "            \n",
    "            \n",
    "except Exception as e:\n",
    "    logging.error(e)\n",
    "    \n",
    "txt = \"I have a cat. I have a mat. Things are going swell.\"\n",
    "\n",
    "sentence_searcher(txt, \"have\")\n",
    "sentence_searcher(txt, \"MAT\")\n",
    "sentence_searcher(txt, \"things\")\n",
    "sentence_searcher(txt, \"flat\")"
   ]
  },
  {
   "cell_type": "markdown",
   "id": "d5fa34f3",
   "metadata": {},
   "source": [
    "## 3. Given a number, find the \"round \"of each digit of the number. An integer is called \"round\" if all its digits except the leftmost (most significant) are equal to zero.\n",
    "    - Round numbers: 4000, 1, 9, 800, 90\n",
    "    - Not round numbers: 110, 707, 222, 1001\n",
    "    Create a function that takes a number and returns the \"round\" of each digit (except if the digit is zero) as a string.     Check out the following examples for more clarification.\n",
    "    \n",
    "    Examples:\n",
    "    sum_round(101) ➞ \"1 100\"\n",
    "    sum_round(1234) ➞ \"4 30 200 1000\"\n",
    "    sum_round(54210) ➞ \"10 200 4000 50000\""
   ]
  },
  {
   "cell_type": "code",
   "execution_count": 45,
   "id": "5fa40cc9",
   "metadata": {},
   "outputs": [
    {
     "name": "stdout",
     "output_type": "stream",
     "text": [
      "enter a number : 101\n",
      "1 100\n",
      "enter a number : 1234\n",
      "4 30 200 1000\n",
      "enter a number : 54210\n",
      "10 200 4000 50000\n"
     ]
    }
   ],
   "source": [
    "try:\n",
    "    def sum_round(n):\n",
    "        l = []\n",
    "        x = 0\n",
    "        for i in str(n)[::-1]:\n",
    "            if i != '0':\n",
    "                l.append((i + '0'*x))\n",
    "            x += 1\n",
    "        print(' '.join(l))\n",
    "        logging.info(' '.join(l))\n",
    "        \n",
    "except Exception as e:\n",
    "    logging.error(e)\n",
    "    \n",
    "for i in range(3):\n",
    "    n = int(input(\"enter a number : \"))\n",
    "    sum_round(n)\n",
    "#sum_round(101)\n",
    "#sum_round(1234)\n",
    "#sum_round(54210)"
   ]
  },
  {
   "cell_type": "markdown",
   "id": "2a5c762e",
   "metadata": {},
   "source": [
    "## 4. Your task, is to create N x N multiplication table, of size n provided in parameter.\n",
    "    For example, when n is 5, the multiplication table is:\n",
    "\n",
    "    1, 2, 3, 4, 5\n",
    "    2, 4, 6, 8, 10\n",
    "    3, 6, 9, 12, 15\n",
    "    4, 8, 12, 16, 20\n",
    "    5, 10, 15, 20, 25\n",
    "    This example will result in:[[1, 2, 3, 4, 5], [2, 4, 6, 8, 10], [3, 6, 9, 12, 15], [4, 8, 12, 16, 20], [5, 10, 15, 20,     25]]\n",
    "    Examples:\n",
    "    multiplication_table(1) ➞ [[1]]\n",
    "    multiplication_table(3) ➞ [[1, 2, 3], [2, 4, 6], [3, 6, 9]]"
   ]
  },
  {
   "cell_type": "code",
   "execution_count": 7,
   "id": "b7e9595f",
   "metadata": {},
   "outputs": [
    {
     "name": "stdout",
     "output_type": "stream",
     "text": [
      "Emter a number : 1\n",
      "[[1]]\n",
      "Emter a number : 3\n",
      "[[1, 2, 3], [2, 4, 6], [3, 6, 9]]\n",
      "Emter a number : 5\n",
      "[[1, 2, 3, 4, 5], [2, 4, 6, 8, 10], [3, 6, 9, 12, 15], [4, 8, 12, 16, 20], [5, 10, 15, 20, 25]]\n"
     ]
    }
   ],
   "source": [
    "try:\n",
    "    def multiplication_table(n):\n",
    "        l = []\n",
    "        \n",
    "        for i in range(1,n+1):\n",
    "            l_new = []\n",
    "            for j in range(1,n+1):\n",
    "                l_new.append(i*j)\n",
    "            l.append(l_new)\n",
    "        print(l)\n",
    "        logging.info(l)\n",
    "                    \n",
    "except Execption as e:\n",
    "    logging.error(e)\n",
    "    \n",
    "for j in range(3):  \n",
    "    n = int(input('Emter a number : '))\n",
    "    multiplication_table(n)"
   ]
  },
  {
   "cell_type": "markdown",
   "id": "f03c9192",
   "metadata": {},
   "source": [
    "## 5. Create a function that returns True if two lines rhyme and False otherwise. For the purposes of this exercise, two lines rhyme if the last word from each sentence contains the same vowels.\n",
    "    Examples:\n",
    "    does_rhyme(\"Sam I am!\", \"Green eggs and ham.\") ➞ True\n",
    "    does_rhyme(\"Sam I am!\", \"Green eggs and HAM.\") ➞ True\n",
    "    # Capitalization and punctuation should not matter.\n",
    "    does_rhyme(\"You are off to the races\", \"a splendid day.\") ➞ False\n",
    "    does_rhyme(\"and frequently do?\", \"you gotta move.\") ➞ False\n"
   ]
  },
  {
   "cell_type": "code",
   "execution_count": 19,
   "id": "cbf9b1d7",
   "metadata": {},
   "outputs": [
    {
     "name": "stdout",
     "output_type": "stream",
     "text": [
      "does_rhyme(Sam I am!,Green eggs and ham.) ➞ True\n",
      "does_rhyme(Sam I am!,Green eggs and HAM.) ➞ True\n",
      "does_rhyme(You are off to the races,a splendid day.) ➞ False\n",
      "does_rhyme(and frequently do?,you gotta move.) ➞ False\n"
     ]
    }
   ],
   "source": [
    "try:\n",
    "    def does_rhyme(s1,s2):\n",
    "        vowels = ['a','e','i','o','u']\n",
    "        l1 = [i.lower() for i in s1.split()[-1] if i.lower() in vowels]\n",
    "        l2 = [i.lower() for i in s2.split()[-1] if i.lower() in vowels]\n",
    "        if l1 == l2:\n",
    "            print(f\"does_rhyme({s1},{s2}) ➞ {True}\")\n",
    "            logging.info(f\"does_rhyme({s1},{s2}) ➞ {True}\")\n",
    "        else:\n",
    "            print(f\"does_rhyme({s1},{s2}) ➞ {False}\")\n",
    "            logging.info(f\"does_rhyme({s1},{s2}) ➞ {False}\")\n",
    "            \n",
    "except Exception as e:\n",
    "    logging.error(e)\n",
    "does_rhyme(\"Sam I am!\", \"Green eggs and ham.\")\n",
    "does_rhyme(\"Sam I am!\", \"Green eggs and HAM.\")\n",
    "does_rhyme(\"You are off to the races\", \"a splendid day.\")\n",
    "does_rhyme(\"and frequently do?\", \"you gotta move.\")"
   ]
  }
 ],
 "metadata": {
  "kernelspec": {
   "display_name": "Python 3 (ipykernel)",
   "language": "python",
   "name": "python3"
  },
  "language_info": {
   "codemirror_mode": {
    "name": "ipython",
    "version": 3
   },
   "file_extension": ".py",
   "mimetype": "text/x-python",
   "name": "python",
   "nbconvert_exporter": "python",
   "pygments_lexer": "ipython3",
   "version": "3.9.7"
  }
 },
 "nbformat": 4,
 "nbformat_minor": 5
}
