{
 "cells": [
  {
   "cell_type": "code",
   "execution_count": 1,
   "id": "02446c7b",
   "metadata": {},
   "outputs": [],
   "source": [
    "import logging\n",
    "\n",
    "# Create and configure logger\n",
    "logging.basicConfig(filename=\"PAP_1.log\",\n",
    "                    format='%(asctime)s %(levelname)s %(message)s :',\n",
    "                    filemode='w',\n",
    "                    level = logging.INFO)\n",
    "logging.info('this message is logging')"
   ]
  },
  {
   "cell_type": "markdown",
   "id": "61e3e1b7",
   "metadata": {},
   "source": [
    "## 1. Write four functions that directly mutate a list:\n",
    "    repeat(lst, n): Repeat lst n times.\n",
    "    add(lst, x): Adds x to the end of the lst.\n",
    "    remove(lst, m, n): Removes all elements between indices m and n inclusive in lst.\n",
    "    concat(lst, x): concatenates lst with x (another list). Examples:\n",
    "    lst = [1, 2, 3, 4]\n",
    "    repeat(lst, 3) ➞ [1, 2, 3, 4, 1, 2, 3, 4, 1, 2, 3, 4]\n",
    "    add(lst, 1) ➞ [1, 2, 3, 4, 1, 2, 3, 4, 1, 2, 3, 4, 1]\n",
    "    remove(lst, 1, 12) ➞ [1]\n",
    "    concat(lst, [3, 4]) ➞ [1, 3, 4]"
   ]
  },
  {
   "cell_type": "code",
   "execution_count": 13,
   "id": "2e385e01",
   "metadata": {},
   "outputs": [
    {
     "name": "stdout",
     "output_type": "stream",
     "text": [
      "repeat(3) ➞ [1, 2, 3, 4, 1, 2, 3, 4, 1, 2, 3, 4]\n",
      "add(1) ➞ [1, 2, 3, 4, 1, 2, 3, 4, 1, 2, 3, 4, 1]\n",
      "remove(lst, 1, 12) ➞ [1]\n",
      "concat([3, 4]) ➞ [1, 3, 4]\n"
     ]
    }
   ],
   "source": [
    "try:\n",
    "    lst = [1, 2, 3, 4]\n",
    "\n",
    "    def repeat(l,n):\n",
    "        global lst\n",
    "        lst = lst*n\n",
    "        return lst\n",
    "    \n",
    "    def add(l,n):\n",
    "        global lst\n",
    "        lst.append(n)\n",
    "        return lst\n",
    "    \n",
    "    def remove(l,start,end):\n",
    "        global lst\n",
    "        for i in lst[start:end+1]:\n",
    "            lst.remove(i)\n",
    "        return lst\n",
    "    \n",
    "    def concat(l,in_lstist):\n",
    "        global lst\n",
    "        lst = lst+in_lstist\n",
    "        return lst\n",
    "    \n",
    "except Exception as e:\n",
    "    lstogging.error(e)\n",
    "    \n",
    "print(f'repeat(3) ➞ {repeat(lstst,3)}')\n",
    "print(f'add(1) ➞ {add(lstst,1)}')\n",
    "print(f'remove(lst, 1, 12) ➞ {remove(lstst,1,12)}')\n",
    "print(f'concat([3, 4]) ➞ {concat(lstst,[3, 4])}')"
   ]
  },
  {
   "cell_type": "markdown",
   "id": "6bc59dfb",
   "metadata": {},
   "source": [
    "## 2. The classic game of Mastermind is played on a tray on which the Mastermind conceals a code and the Guesser has 10 tries to guess it. The code is a sequence of 4 (or 6, sometimes more) pegs of different colors. Each guess is a corresponding sequence of 4 (or more) pegs of different colors. A guess is \"correct\" when the color of every peg in the guess exactly matches the corresponding peg in the Mastermind's code.\n",
    "    After each guess by the Guesser, the Mastermind will give a score comprising black & white pegs, not arranged in any       order:\n",
    "\n",
    "    Black peg == guess peg matches the color of a code peg in the same position.\n",
    "    White peg == guess peg matches the color of a code peg in another position.\n",
    "    Create a function that takes two strings, code and guess as arguments, and returns the score in a dictionary.\n",
    "\n",
    "    The code and guess are strings of numeric digits\n",
    "    The color of the pegs are represented by numeric digits\n",
    "    no \"peg\" may be double-scored\n",
    "    Examples:\n",
    "    guess_score(\"1423\", \"5678\") ➞ {\"black\": 0, \"white\": 0}\n",
    "    guess_score(\"1423\", \"2222\") ➞ {\"black\": 1, \"white\": 0}\n",
    "    guess_score(\"1423\", \"1234\") ➞ {\"black\": 1, \"white\": 3}\n",
    "    guess_score(\"1423\", \"2211\") ➞ {\"black\": 0, \"white\": 2}"
   ]
  },
  {
   "cell_type": "code",
   "execution_count": 7,
   "id": "b0239864",
   "metadata": {},
   "outputs": [
    {
     "name": "stdout",
     "output_type": "stream",
     "text": [
      "guess_score('1423', '5678') ➞ {'Black': 0, 'White': 0}\n",
      "guess_score('1423', '2222') ➞ {'Black': 1, 'White': 0}\n",
      "guess_score('1423', '1234') ➞ {'Black': 1, 'White': 3}\n",
      "guess_score('1423', '2211') ➞ {'Black': 0, 'White': 2}\n"
     ]
    }
   ],
   "source": [
    "try:\n",
    "    def guess_score(s1,s2):\n",
    "        black, white = 0,0\n",
    "        result = {}\n",
    "        l = []\n",
    "        \n",
    "        for i in range(len(s1)):\n",
    "            if s1[i] == s2[i]:\n",
    "                black += 1\n",
    "                l.append(i)\n",
    "        result['Black'] = black\n",
    "        \n",
    "        for i in range(len(s1)):\n",
    "            if i in l:\n",
    "                continue\n",
    "            else:\n",
    "                if s1[i] in s2:\n",
    "                    white += 1\n",
    "        result['White'] = white\n",
    "        print(f'guess_score{s1,s2} ➞ {result}')\n",
    "except Exception as e:\n",
    "    logging.error(e)\n",
    "    \n",
    "guess_score(\"1423\", \"5678\")\n",
    "guess_score(\"1423\", \"2222\")\n",
    "guess_score(\"1423\", \"1234\") \n",
    "guess_score(\"1423\", \"2211\")"
   ]
  },
  {
   "cell_type": "markdown",
   "id": "51b2f739",
   "metadata": {},
   "source": [
    "## 3. Create a function that takes a list lst and a number N and returns a list of two integers from lst whose product equals N.\n",
    "    Examples:\n",
    "    two_product([1, 2, -1, 4, 5], 20) ➞ [4, 5]\n",
    "    two_product([1, 2, 3, 4, 5], 10) ➞ [2, 5]\n",
    "    two_product([100, 12, 4, 1, 2], 15) ➞ None"
   ]
  },
  {
   "cell_type": "code",
   "execution_count": 38,
   "id": "f59cf3d2",
   "metadata": {},
   "outputs": [
    {
     "name": "stdout",
     "output_type": "stream",
     "text": [
      "[4, 5]\n",
      "[2, 5]\n",
      "None\n"
     ]
    }
   ],
   "source": [
    "try:\n",
    "    def two_product(l,num):\n",
    "        result = 'None'\n",
    "        for i in l:\n",
    "            if str(num/i)[2:4] == '0':\n",
    "                x = int(str(num/i)[0:1])\n",
    "                if x in l:\n",
    "                    result = [int(num/i),i]\n",
    "        print(result)\n",
    "except Exception as e:\n",
    "    logging.error(e)\n",
    "    \n",
    "two_product([1, 2, -1, 4, 5], 20)\n",
    "two_product([1, 2, 3, 4, 5], 10)\n",
    "two_product([100, 12, 4, 1, 2], 15)"
   ]
  },
  {
   "cell_type": "markdown",
   "id": "cbb4dfcf",
   "metadata": {},
   "source": [
    "## 4. In this challenge, sort a list containing a series of dates given as strings. Each date is given in the format DD-MM-YYYY_HH:MM:\n",
    "    \"12-02-2012_13:44\"\n",
    "\n",
    "    The priority of criteria used for sorting will be:\n",
    "    \n",
    "    Year\n",
    "    Month\n",
    "    Day\n",
    "    Hours\n",
    "    Minutes\n",
    "    Given a list lst and a string mode, implement a function that returns:\n",
    "    \n",
    "    if mode is equal to \"ASC\", the list lst sorted in ascending order.\n",
    "    if mode is equal to \"DSC\", the list lst sorted in descending order.\n",
    "    Examples:\n",
    "    \n",
    "    sort_dates([\"10-02-2018_12:30\", \"10-02-2016_12:30\", \"10-02-2018_12:15\"], \"ASC\") ➞ [\"10-02-2016_12:30\", \"10-02-             2018_12:15\", \"10-02-2018_12:30\"]\n",
    "\n",
    "    sort_dates([\"10-02-2018_12:30\", \"10-02-2016_12:30\", \"10-02-2018_12:15\"], \"DSC\") ➞ [\"10-02-2018_12:30\", \"10-02-             2018_12:15\", \"10-02-2016_12:30\"]\n",
    "\n",
    "    sort_dates([\"09-02-2000_10:03\", \"10-02-2000_18:29\", \"01-01-1999_00:55\"], \"ASC\") ➞ [\"01-01-1999_00:55\", \"09-02-             2000_10:03\", \"10-02-2000_18:29\"]"
   ]
  },
  {
   "cell_type": "code",
   "execution_count": 45,
   "id": "91b08b76",
   "metadata": {},
   "outputs": [
    {
     "name": "stdout",
     "output_type": "stream",
     "text": [
      "sort_dates(['10-02-2018_12:30', '10-02-2016_12:30', '10-02-2018_12:15'], 'ASC')➞ ['10-02-2016_12:30', '10-02-2018_12:15', '10-02-2018_12:30']\n",
      "sort_dates(['10-02-2018_12:30', '10-02-2016_12:30', '10-02-2018_12:15'], 'DSC')➞ ['10-02-2018_12:30', '10-02-2018_12:15', '10-02-2016_12:30']\n",
      "sort_dates(['09-02-2000_10:03', '10-02-2000_18:29', '01-01-1999_00:55'], 'ASC')➞ ['01-01-1999_00:55', '09-02-2000_10:03', '10-02-2000_18:29']\n"
     ]
    }
   ],
   "source": [
    "from datetime import datetime\n",
    "try:\n",
    "    def sort_dates(l,s):\n",
    "        l_clone = l.copy()\n",
    "        l_unix = []\n",
    "        for i in l:\n",
    "            l_unix.append(datetime.strptime(i, \"%d-%m-%Y_%H:%M\").timestamp())\n",
    "        l_unix = sorted(l_unix) if s == 'ASC' else sorted(l_unix, reverse=True)\n",
    "        result = []\n",
    "        for i in l_unix:\n",
    "            result.append(datetime.fromtimestamp(i).strftime(\"%d-%m-%Y_%H:%M\"))\n",
    "        print(f'sort_dates{l_clone,s}➞ {result}')\n",
    "\n",
    "\n",
    "except Exception as e:\n",
    "    logging.error(e)\n",
    "    \n",
    "sort_dates([\"10-02-2018_12:30\", \"10-02-2016_12:30\", \"10-02-2018_12:15\"], \"ASC\")\n",
    "sort_dates([\"10-02-2018_12:30\", \"10-02-2016_12:30\", \"10-02-2018_12:15\"], \"DSC\")\n",
    "sort_dates([\"09-02-2000_10:03\", \"10-02-2000_18:29\", \"01-01-1999_00:55\"], \"ASC\")"
   ]
  },
  {
   "cell_type": "markdown",
   "id": "e1d78951",
   "metadata": {},
   "source": [
    "## 5. Write a function that selects all words that have all the same vowels (in any order and/or number) as the first word, including the first word.\n",
    "    Examples:\n",
    "    same_vowel_group([\"toe\", \"ocelot\", \"maniac\"]) ➞ [\"toe\", \"ocelot\"]\n",
    "    same_vowel_group([\"many\", \"carriage\", \"emit\", \"apricot\", \"animal\"]) ➞ [\"many\", \"carriage\", \"apricot\", \"animal\"]\n",
    "    same_vowel_group([\"hoops\", \"chuff\", \"bot\", \"bottom\"]) ➞ [\"hoops\", \"bot\", \"bottom\"]"
   ]
  },
  {
   "cell_type": "code",
   "execution_count": 46,
   "id": "d9ab15d7",
   "metadata": {},
   "outputs": [
    {
     "name": "stdout",
     "output_type": "stream",
     "text": [
      "same_vowel_group(['toe', 'ocelot', 'maniac']) ➞ ['toe', 'ocelot']\n",
      "same_vowel_group(['many', 'carriage', 'emit', 'apricot', 'animal']) ➞ ['many', 'carriage', 'apricot', 'animal']\n",
      "same_vowel_group(['hoops', 'chuff', 'bot', 'bottom']) ➞ ['hoops', 'bot', 'bottom']\n"
     ]
    }
   ],
   "source": [
    "try:\n",
    "    def same_vowel_group(l):\n",
    "        vowels = ['a','e','i','o','u']\n",
    "        first_i = sorted(set([x for x in l[0] if x in vowels]))\n",
    "        result = []\n",
    "        for i in range(0,len(l)):\n",
    "            vowels_in_word = [x for x in l[i] if x in first_i]\n",
    "            if sorted(first_i) == sorted(set(vowels_in_word)):\n",
    "                result.append(l[i])\n",
    "        print(f'same_vowel_group({l}) ➞ {result}')\n",
    "        \n",
    "except Exception as e:\n",
    "    logging.error(e)\n",
    "    \n",
    "same_vowel_group([\"toe\", \"ocelot\", \"maniac\"])\n",
    "same_vowel_group([\"many\", \"carriage\", \"emit\", \"apricot\", \"animal\"])\n",
    "same_vowel_group([\"hoops\", \"chuff\", \"bot\", \"bottom\"])\n",
    "\n"
   ]
  },
  {
   "cell_type": "markdown",
   "id": "e678da40",
   "metadata": {},
   "source": [
    "## 6. Create a function that takes a list of more than three numbers and returns the Least Common Multiple (LCM).\n",
    "    Examples:\n",
    "    lcm_of_list([1, 2, 3, 4, 5, 6, 7, 8, 9, 10]) ➞ 2520\n",
    "    lcm_of_list([13, 6, 17, 18, 19, 20, 37]) ➞ 27965340\n",
    "    lcm_of_list([44, 64, 12, 17, 65]) ➞ 2333760"
   ]
  },
  {
   "cell_type": "code",
   "execution_count": 47,
   "id": "05344360",
   "metadata": {},
   "outputs": [
    {
     "name": "stdout",
     "output_type": "stream",
     "text": [
      "lcm_of_list([1, 2, 3, 4, 5, 6, 7, 8, 9, 10]) ➞ 2520\n",
      "lcm_of_list([13, 6, 17, 18, 19, 20, 37]) ➞ 27965340\n",
      "lcm_of_list([44, 64, 12, 17, 65]) ➞ 2333760\n"
     ]
    }
   ],
   "source": [
    "import math\n",
    "try:\n",
    "    def lcm_of_list(l):\n",
    "        result = l[0]\n",
    "        for i in range(1,len(l)):\n",
    "            result = (result*l[i])//math.gcd(result,l[i])\n",
    "        print(f'lcm_of_list({l}) ➞ {result}')\n",
    "        \n",
    "except Exception as e:\n",
    "    logging.error(e)\n",
    "    \n",
    "lcm_of_list([1, 2, 3, 4, 5, 6, 7, 8, 9, 10])\n",
    "lcm_of_list([13, 6, 17, 18, 19, 20, 37])\n",
    "lcm_of_list([44, 64, 12, 17, 65])"
   ]
  }
 ],
 "metadata": {
  "kernelspec": {
   "display_name": "Python 3 (ipykernel)",
   "language": "python",
   "name": "python3"
  },
  "language_info": {
   "codemirror_mode": {
    "name": "ipython",
    "version": 3
   },
   "file_extension": ".py",
   "mimetype": "text/x-python",
   "name": "python",
   "nbconvert_exporter": "python",
   "pygments_lexer": "ipython3",
   "version": "3.9.7"
  }
 },
 "nbformat": 4,
 "nbformat_minor": 5
}
