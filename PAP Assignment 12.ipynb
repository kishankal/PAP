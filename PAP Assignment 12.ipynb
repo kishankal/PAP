{
 "cells": [
  {
   "cell_type": "code",
   "execution_count": 1,
   "id": "971f7582",
   "metadata": {},
   "outputs": [],
   "source": [
    "import logging\n",
    "\n",
    "# Create and configure logger\n",
    "logging.basicConfig(filename=\"PAP_1.log\",\n",
    "                    format='%(asctime)s %(levelname)s %(message)s :',\n",
    "                    filemode='w',\n",
    "                    level = logging.INFO)\n",
    "logging.info('this message is logging')"
   ]
  },
  {
   "cell_type": "markdown",
   "id": "a5e8bb3e",
   "metadata": {},
   "source": [
    "## 1. For this challenge, forget how to add two numbers together. The best explanation on what to do for this function is this meme:"
   ]
  },
  {
   "cell_type": "markdown",
   "id": "41fc056f",
   "metadata": {},
   "source": [
    "    Examples:\n",
    "    meme_sum(26, 39) ➞ 515\n",
    "    # 2+3 = 5, 6+9 = 15\n",
    "    # 26 + 39 = 515\n",
    "    meme_sum(122, 81) ➞ 1103\n",
    "    # 1+0 = 1, 2+8 = 10, 2+1 = 3\n",
    "    # 122 + 81 = 1103\n",
    "    meme_sum(1222, 30277) ➞ 31499"
   ]
  },
  {
   "cell_type": "code",
   "execution_count": 2,
   "id": "5496e268",
   "metadata": {},
   "outputs": [
    {
     "name": "stdout",
     "output_type": "stream",
     "text": [
      "meme_sum('26', '39') ➞ 515\n",
      "meme_sum('122', '081') ➞ 1103\n",
      "meme_sum('01222', '30277') ➞ 31499\n"
     ]
    }
   ],
   "source": [
    "try:\n",
    "    def meme_sum(a,b):\n",
    "        a,b = str(a),str(b)\n",
    "        result = ''\n",
    "        while len(a) != len(b):\n",
    "            if len(a) < len(b):\n",
    "                a ='0'+a\n",
    "            else:\n",
    "                b='0'+b\n",
    "        for i in range(len(a)):\n",
    "            result += str(int(a[i])+int(b[i]))\n",
    "        print(f'meme_sum{a,b} ➞ {result}')\n",
    "        logging.info(f'meme_sum{a,b} ➞ {result}')\n",
    "        \n",
    "except Exception as e:\n",
    "    logging.error(e)\n",
    "\n",
    "meme_sum(26, 39)\n",
    "meme_sum(122, 81)\n",
    "meme_sum(1222, 30277) "
   ]
  },
  {
   "cell_type": "markdown",
   "id": "a15ab380",
   "metadata": {},
   "source": [
    "## 2. Given an integer, create a function that returns the next prime. If the number is prime, return the number itself.\n",
    "    Examples:\n",
    "    next_prime(12) ➞ 13\n",
    "    next_prime(24) ➞ 29\n",
    "    next_prime(11) ➞ 11\n",
    "    # 11 is a prime, so we return the number itself."
   ]
  },
  {
   "cell_type": "code",
   "execution_count": 7,
   "id": "aa12c54b",
   "metadata": {},
   "outputs": [
    {
     "name": "stdout",
     "output_type": "stream",
     "text": [
      "next_pime(12) ➞ 13\n",
      "next_pime(24) ➞ 29\n",
      "next_pime(11) ➞ 11\n"
     ]
    }
   ],
   "source": [
    "import math\n",
    "try:\n",
    "    def next_prime(n_new):\n",
    "        n = n_new\n",
    "    \n",
    "        while True:\n",
    "            flag = 1\n",
    "            div_ = math.floor(math.sqrt(n))\n",
    "            if n == 1 and n == 2:\n",
    "                print(f\"next_pime({n}) ➞ 2\")\n",
    "                logging.info(f\"next_pime({n}) ➞ 2\")\n",
    "                break\n",
    "            \n",
    "            if n > 2 and n%2 == 0:\n",
    "                flag = 0\n",
    "            for i in range(3,div_ + 1,2):\n",
    "                if n%i == 0:\n",
    "                    flag = 0\n",
    "            if flag == 0:\n",
    "                n = n+1\n",
    "            if flag == 1:\n",
    "                print(f\"next_pime({n_new}) ➞ {n}\")\n",
    "                logging.info(f\"next_pime({n_new}) ➞ {n}\")\n",
    "                break\n",
    "            \n",
    "except Exception as e:\n",
    "    logging.error(e)\n",
    "    \n",
    "next_prime(12)\n",
    "next_prime(24)\n",
    "next_prime(11)\n",
    "\n",
    "            "
   ]
  },
  {
   "cell_type": "markdown",
   "id": "c92cb9d9",
   "metadata": {},
   "source": [
    "## 3. If a person traveled up a hill for 18mins at 20mph and then traveled back down the same path at 60mph then their average speed traveled was 30mph.\n",
    "    Write a function that returns the average speed traveled given an uphill time, uphill rate and a downhill rate. Uphill     time is given in minutes. Return the rate as an integer (mph). No rounding is necessary.\n",
    "\n",
    "    Examples:\n",
    "    ave_spd(18, 20, 60) ➞ 30\n",
    "    ave_spd(30, 10, 30) ➞ 15\n",
    "    ave_spd(30, 8, 24) ➞ 12"
   ]
  },
  {
   "cell_type": "code",
   "execution_count": 9,
   "id": "a739fc37",
   "metadata": {},
   "outputs": [
    {
     "name": "stdout",
     "output_type": "stream",
     "text": [
      "ave_spd(18, 20, 60) ➞ 30\n",
      "ave_spd(30, 10, 30) ➞ 15\n",
      "ave_spd(30, 8, 24) ➞ 12\n"
     ]
    }
   ],
   "source": [
    "try:\n",
    "    def ave_spd(up_hill_time,up_hill_speed,down_hill_speed):\n",
    "        distance = up_hill_speed*(up_hill_time/60)\n",
    "        down_time = distance/down_hill_speed\n",
    "        result = (2*distance)/((up_hill_time/60)+down_time)\n",
    "        print(f'ave_spd{up_hill_time,up_hill_speed,down_hill_speed} ➞ {int(result)}')\n",
    "            \n",
    "except Exception as e:\n",
    "    logging.error(e)\n",
    "    \n",
    "ave_spd(18, 20, 60)\n",
    "ave_spd(30, 10, 30)\n",
    "ave_spd(30, 8, 24)"
   ]
  },
  {
   "cell_type": "markdown",
   "id": "ffda04d2",
   "metadata": {},
   "source": [
    "## 4. The Kempner Function, applied to a composite number, permits to find the smallest integer greater than zero whose factorial is exactly divided by the number.\n",
    "    kempner(6) ➞ 3\n",
    "    1! = 1 % 6 > 0\n",
    "    2! = 2 % 6 > 0\n",
    "    3! = 6 % 6 === 0\n",
    "\n",
    "    kempner(10) ➞ 5\n",
    "    1! = 1 % 10 > 0\n",
    "    2! = 2 % 10 > 0\n",
    "    3! = 6 % 10 > 0\n",
    "    4! = 24 % 10 > 0\n",
    "    5! = 120 % 10 === 0\n",
    "\n",
    "    A Kempner Function applied to a prime will always return the prime itself.\n",
    "    kempner(2) ➞ 2\n",
    "    kempner(5) ➞ 5\n",
    "    \n",
    "    Given an integer n, implement a Kempner Function.\n",
    "    \n",
    "    Examples:\n",
    "    kempner(6) ➞ 3\n",
    "    kempner(10) ➞ 5\n",
    "    kempner(2) ➞ 2"
   ]
  },
  {
   "cell_type": "code",
   "execution_count": 4,
   "id": "b4aafb4c",
   "metadata": {},
   "outputs": [
    {
     "name": "stdout",
     "output_type": "stream",
     "text": [
      "kempner(6) ➞ 3\n",
      "kempner(10) ➞ 5\n",
      "kempner(5) ➞ 5\n",
      "kempner(2) ➞ 2\n"
     ]
    }
   ],
   "source": [
    "try:\n",
    "    def kempner(n):\n",
    "        #first let form a factorial of n nunber\n",
    "        def fact(i):\n",
    "            \n",
    "            if i == 1:\n",
    "                return 1\n",
    "            elif i == 2:\n",
    "                return 2\n",
    "            else:\n",
    "                return i*fact(i-1)\n",
    "        k = 0\n",
    "        while True:\n",
    "            k += 1\n",
    "            if fact(k)%n == 0:\n",
    "                print(f'kempner({n}) ➞ {k}')\n",
    "                logging.info(f'kempner({n}) ➞ {k}')\n",
    "                break\n",
    "                \n",
    "except Exception as e:\n",
    "    logging.error(e)\n",
    "    \n",
    "kempner(6)\n",
    "kempner(10)\n",
    "kempner(5)\n",
    "kempner(2)"
   ]
  },
  {
   "cell_type": "markdown",
   "id": "1447de19",
   "metadata": {},
   "source": [
    "## 5. You work in a factory, and your job is to take items from a conveyor belt and pack them into boxes. Each box can hold a maximum of 10 kgs. Given a list containing the weight (in kg) of each item, how many boxes would you need to pack all of the items?\n",
    "    Examples:\n",
    "    boxes([2, 1, 2, 5, 4, 3, 6, 1, 1, 9, 3, 2]) ➞ 5\n",
    "    # Box 1 = [2, 1, 2, 5] (10kg)\n",
    "    # Box 2 = [4, 3] (7kg)\n",
    "    # Box 3 = [6, 1, 1] (8kg)\n",
    "    # Box 4 = [9] (9kg)\n",
    "    # Box 5 = [3, 2] (5kg)"
   ]
  },
  {
   "cell_type": "code",
   "execution_count": 10,
   "id": "2a66cc72",
   "metadata": {},
   "outputs": [
    {
     "ename": "SyntaxError",
     "evalue": "invalid syntax (Temp/ipykernel_7792/2501038851.py, line 14)",
     "output_type": "error",
     "traceback": [
      "\u001b[1;36m  File \u001b[1;32m\"C:\\Users\\kalar\\AppData\\Local\\Temp/ipykernel_7792/2501038851.py\"\u001b[1;36m, line \u001b[1;32m14\u001b[0m\n\u001b[1;33m    elif sum >=10:\u001b[0m\n\u001b[1;37m    ^\u001b[0m\n\u001b[1;31mSyntaxError\u001b[0m\u001b[1;31m:\u001b[0m invalid syntax\n"
     ]
    }
   ],
   "source": [
    "try:\n",
    "    def boxes(l):\n",
    "        sum_ = 0\n",
    "        i = 0\n",
    "        count = 0\n",
    "        while True:\n",
    "            sum += l[i]\n",
    "            if sum < 10:\n",
    "                if i < len(l):\n",
    "                    i += 1\n",
    "                else :\n",
    "                    break\n",
    "                    \n",
    "                elif sum >=10:\n",
    "                    count += 1\n",
    "                    sum = 0\n",
    "                    if i < len(l):\n",
    "                        i += 1\n",
    "                \n",
    "                \n",
    "except Exception as e:\n",
    "    logging.error(e)\n",
    "    \n",
    "boxes([2, 1, 2, 5, 4, 3, 6, 1, 1, 9, 3, 2])\n",
    "boxes([5, 5, 5, 5, 5, 5, 2, 3, 4, 5, 6])\n"
   ]
  },
  {
   "cell_type": "code",
   "execution_count": null,
   "id": "f1fb800d",
   "metadata": {},
   "outputs": [],
   "source": []
  }
 ],
 "metadata": {
  "kernelspec": {
   "display_name": "Python 3 (ipykernel)",
   "language": "python",
   "name": "python3"
  },
  "language_info": {
   "codemirror_mode": {
    "name": "ipython",
    "version": 3
   },
   "file_extension": ".py",
   "mimetype": "text/x-python",
   "name": "python",
   "nbconvert_exporter": "python",
   "pygments_lexer": "ipython3",
   "version": "3.9.7"
  }
 },
 "nbformat": 4,
 "nbformat_minor": 5
}
