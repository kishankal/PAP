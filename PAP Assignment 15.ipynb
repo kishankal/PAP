{
 "cells": [
  {
   "cell_type": "code",
   "execution_count": 1,
   "id": "6ec8ff1c",
   "metadata": {},
   "outputs": [],
   "source": [
    "import logging\n",
    "\n",
    "# Create and configure logger\n",
    "logging.basicConfig(filename=\"PAP_1.log\",\n",
    "                    format='%(asctime)s %(levelname)s %(message)s :',\n",
    "                    filemode='w',\n",
    "                    level = logging.INFO)\n",
    "logging.info('this message is logging')"
   ]
  },
  {
   "cell_type": "markdown",
   "id": "1d0e501f",
   "metadata": {},
   "source": [
    "## 1. Write a function that returns True if a given name can generate an array of words.\n",
    "    Examples:\n",
    "    anagram(\"Justin Bieber\", [\"injures\", \"ebb\", \"it\"]) ➞ True\n",
    "    anagram(\"Natalie Portman\", [\"ornamental\", \"pita\"]) ➞ True\n",
    "    anagram(\"Chris Pratt\", [\"chirps\", \"rat\"]) ➞ False\n",
    "    # Not all letters are used\n",
    "    anagram(\"Jeff Goldblum\", [\"jog\", \"meld\", \"bluffs\"]) ➞ False\n",
    "    # \"s\" does not exist in the original name"
   ]
  },
  {
   "cell_type": "code",
   "execution_count": 17,
   "id": "17275b71",
   "metadata": {},
   "outputs": [
    {
     "name": "stdout",
     "output_type": "stream",
     "text": [
      "anagram('Justin Bieber', ['injures', 'ebb', 'it']) ➞ True\n",
      "anagram('Natalie Portman', ['ornamental', 'pita']) ➞ True\n",
      "anagram('Chris Pratt', ['chirps', 'rat']) ➞ False\n",
      "anagram('Jeff Goldblum', ['jog', 'meld', 'bluffs']) ➞ False\n"
     ]
    }
   ],
   "source": [
    "try:\n",
    "    def anagram(s,list_):\n",
    "        s_new = s.lower()\n",
    "        l = []\n",
    "        flag = 0\n",
    "        for i in s_new:\n",
    "            l.append(i)\n",
    "        l.remove(' ')\n",
    "        for i in list_:\n",
    "            for j in i:\n",
    "                if j in l:\n",
    "                    l.remove(j)\n",
    "                else :\n",
    "                    flag = 1\n",
    "                    break\n",
    "        if len(l) !=0 or flag == 1:\n",
    "            print(f'anagram{s,list_} ➞ {False}')\n",
    "            logging.info(f'anagram{s,list_} ➞ {False}')\n",
    "        else:\n",
    "            print(f'anagram{s,list_} ➞ {True}')\n",
    "            logging.info(f'anagram{s,list_} ➞ {True}')\n",
    "except Exception as e:\n",
    "    logging.error(e)\n",
    "    \n",
    "anagram(\"Justin Bieber\", [\"injures\", \"ebb\", \"it\"])\n",
    "anagram(\"Natalie Portman\", [\"ornamental\", \"pita\"])\n",
    "anagram(\"Chris Pratt\", [\"chirps\", \"rat\"])\n",
    "anagram(\"Jeff Goldblum\", [\"jog\", \"meld\", \"bluffs\"])"
   ]
  },
  {
   "cell_type": "markdown",
   "id": "3528e114",
   "metadata": {},
   "source": [
    "## 2. Given an array of users, each defined by an object with the following properties: name, score, reputation create a function that sorts the array to form the correct leaderboard.\n",
    "    The leaderboard takes into consideration the score of each user of course, but an emphasis is put on their reputation       in the community, so to get the trueScore, you should add the reputation multiplied by 2 to the score.\n",
    "\n",
    "    Once you know the trueScore of each user, sort the array according to it in descending order.\n",
    "\n",
    "    Examples:\n",
    "    leaderboards([\n",
    "      { \"name\": \"a\", \"score\": 100, \"reputation\": 20 },\n",
    "      { \"name\": \"b\", \"score\": 90, \"reputation\": 40 },\n",
    "      { \"name\": \"c\", \"score\": 115, \"reputation\": 30 },\n",
    "                 ]) ➞ [\n",
    "      { \"name\": \"c\", \"score\": 115, \"reputation\": 30 },  # trueScore = 175\n",
    "      { \"name\": \"b\", \"score\": 90, \"reputation\": 40 },   # trueScore = 170\n",
    "      { \"name\": \"a\", \"score\": 100, \"reputation\": 20 }   # trueScore = 140\n",
    "                  ]"
   ]
  },
  {
   "cell_type": "code",
   "execution_count": 23,
   "id": "7d531a2e",
   "metadata": {},
   "outputs": [
    {
     "name": "stdout",
     "output_type": "stream",
     "text": [
      "{'name': 'c', 'score': 115, 'reputation': 30}\n",
      "{'name': 'b', 'score': 90, 'reputation': 40}\n",
      "{'name': 'a', 'score': 100, 'reputation': 20}\n"
     ]
    }
   ],
   "source": [
    "try:\n",
    "    def leaderboards(l):\n",
    "        d = {}\n",
    "        l_new = []\n",
    "        for i in l:  ## keys are truescore and values are dict.\n",
    "            d[(i['reputation'])*2 + i['score']] = i\n",
    "        for i in sorted(d.keys(),reverse = True):\n",
    "            l_new.append(d[i])\n",
    "        for i in l_new:\n",
    "            print(i)\n",
    "            logging.info(i)\n",
    "        \n",
    "except Exception as e:\n",
    "    logging.eror(e)\n",
    "leaderboards([\n",
    "  { \"name\": \"a\", \"score\": 100, \"reputation\": 20 },\n",
    "  { \"name\": \"b\", \"score\": 90, \"reputation\": 40 },\n",
    "  { \"name\": \"c\", \"score\": 115, \"reputation\": 30 },\n",
    "])"
   ]
  },
  {
   "cell_type": "markdown",
   "id": "30aa3058",
   "metadata": {},
   "source": [
    "## 3. Create a function that, given a phrase and a number of letters guessed, returns a string with hyphens - for every letter of the phrase not guessed, and each letter guessed in place.\n",
    "    Examples:\n",
    "    hangman(\"helicopter\", [\"o\", \"e\", \"s\"]) ➞ \"-e---o--e-\"\n",
    "    hangman(\"tree\", [\"r\", \"t\", \"e\"]) ➞ \"tree\"\n",
    "    hangman(\"Python rules\", [\"a\", \"n\", \"p\", \"r\", \"z\"]) ➞ \"P----n r----\"\n",
    "    hangman(\"He\"s a very naughty boy!\", [\"e\", \"a\", \"y\"]) ➞ \"-e\"- a -e-y -a----y –y!\""
   ]
  },
  {
   "cell_type": "code",
   "execution_count": 36,
   "id": "878854cd",
   "metadata": {},
   "outputs": [
    {
     "name": "stdout",
     "output_type": "stream",
     "text": [
      "hangman('helicopter', ['o', 'e', 's']) ➞ -e---o--e-\n",
      "hangman('tree', ['r', 't', 'e']) ➞ tree\n",
      "hangman('Python rules', ['a', 'n', 'p', 'r', 'z']) ➞ p----n r----\n",
      "hangman('He\"s a very naughty boy!', ['e', 'a', 'y']) ➞ -e\"- a -e-y -a----y --y!\n"
     ]
    }
   ],
   "source": [
    "try:\n",
    "    def hangman(s,l):\n",
    "        s_new = s.lower()\n",
    "        for i in s:\n",
    "            if not i in l:\n",
    "                if not i in ['\"',\"!\",\" \"]:\n",
    "                         s_new = s_new.replace(i,'-')\n",
    "        print(f'hangman{s,l} ➞ {s_new}')\n",
    "        logging.info(f'hangman{s,l} ➞ {s_new}')\n",
    "        \n",
    "except Exception as e:\n",
    "    logging.error(e)\n",
    "    \n",
    "hangman(\"helicopter\", [\"o\", \"e\", \"s\"])\n",
    "hangman(\"tree\", [\"r\", \"t\", \"e\"])\n",
    "hangman(\"Python rules\", [\"a\", \"n\", \"p\", \"r\", \"z\"])\n",
    "hangman(\"He\\\"s a very naughty boy!\", [\"e\", \"a\", \"y\"])\n",
    "                "
   ]
  },
  {
   "cell_type": "markdown",
   "id": "b5c5c82d",
   "metadata": {},
   "source": [
    "## 4. The Collatz sequence is as follows:\n",
    "    Start with some given integer n.\n",
    "    If it is even, the next number will be n divided by 2.\n",
    "    If it is odd, multiply it by 3 and add 1 to make the next number.\n",
    "    The sequence stops when it reaches 1.\n",
    "    According to the Collatz conjecture, it will always reach 1. If that's true, you can construct a finite sequence           following the aforementioned method for any given integer.\n",
    "\n",
    "    Write a function that takes in an integer n and returns the highest integer in the corresponding Collatz sequence.\n",
    "    \n",
    "    Examples:\n",
    "    max_collatz(10) ➞ 16\n",
    "    # Collatz sequence: 10, 5, 16, 8, 4, 2, 1\n",
    "    \n",
    "    max_collatz(32) ➞ 32\n",
    "    # Collatz sequence: 32, 16, 8, 4, 2, 1\n",
    "    \n",
    "    max_collatz(85) ➞ 256\n",
    "    # Collatz sequence: 85, 256, 128, 64, 32, 16, 8, 4, 2, 1\n",
    "\n"
   ]
  },
  {
   "cell_type": "code",
   "execution_count": 14,
   "id": "d5c7b524",
   "metadata": {},
   "outputs": [
    {
     "name": "stdout",
     "output_type": "stream",
     "text": [
      "max_collatz(10) ➞ 16\n",
      "max_collatz(32) ➞ 32\n",
      "max_collatz(85) ➞ 256\n"
     ]
    }
   ],
   "source": [
    "try:\n",
    "    def max_collatz(n):\n",
    "        n_new = n\n",
    "        l = []\n",
    "        l.append(n_new)\n",
    "        while True:\n",
    "            if n_new == 1:\n",
    "                print(f\"max_collatz({n}) ➞ {max(l)}\")\n",
    "                logging.info(f\"max_collatz({n}) ➞ {max(l)}\")\n",
    "                \n",
    "                break\n",
    "            \n",
    "            elif n_new%2 == 0:\n",
    "                n_new = n_new//2\n",
    "                l.append(n_new)\n",
    "                \n",
    "            else:\n",
    "                n_new = n_new*3 + 1\n",
    "                l.append(n_new)\n",
    "                \n",
    "except Exception as e:\n",
    "    logging.error(e)\n",
    "\n",
    "max_collatz(10)    \n",
    "max_collatz(32)    \n",
    "max_collatz(85)   "
   ]
  },
  {
   "cell_type": "markdown",
   "id": "261d742b",
   "metadata": {},
   "source": [
    "## 5. Write a function that sorts a list of integers by their digit length in descending order, then settles ties by sorting numbers with the same digit length in ascending order.\n",
    "    Examples:\n",
    "    digit_sort([77, 23, 5, 7, 101]) ➞ [101, 23, 77, 5, 7]\n",
    "    digit_sort([1, 5, 9, 2, 789, 563, 444]) ➞ [444, 563, 789, 1, 2, 5, 9]\n",
    "    digit_sort([53219, 3772, 564, 32, 1]) ➞ [53219, 3772, 564, 32, 1]"
   ]
  },
  {
   "cell_type": "code",
   "execution_count": 22,
   "id": "59c63688",
   "metadata": {},
   "outputs": [
    {
     "name": "stdout",
     "output_type": "stream",
     "text": [
      "digit_sort([77, 23, 5, 7, 101]) ➞ [101, 23, 77, 5, 7]\n",
      "digit_sort([1, 5, 9, 2, 789, 563, 444]) ➞ [444, 563, 789, 1, 2, 5, 9]\n",
      "digit_sort([53219, 3772, 564, 32, 1]) ➞ [53219, 3772, 564, 32, 1]\n"
     ]
    }
   ],
   "source": [
    "try:\n",
    "    def digit_sort(l):\n",
    "        output = []\n",
    "        max_len = len(str(max(l)))\n",
    "        while True:\n",
    "            l_new = []\n",
    "            for i in l:\n",
    "                if len(str(i)) == max_len:\n",
    "                    l_new.append(i)\n",
    "            \n",
    "            if l_new != []:\n",
    "                for i in sorted(l_new):\n",
    "                    output.append(i)\n",
    "                \n",
    "            max_len -= 1\n",
    "            if max_len == 0:\n",
    "                break\n",
    "        print(f'digit_sort({l}) ➞ {output}')\n",
    "        logging.info(f'digit_sort({l}) ➞ {output}')\n",
    "                       \n",
    "except Exception as e:\n",
    "    logging.error(e)\n",
    "    \n",
    "digit_sort([77, 23, 5, 7, 101])\n",
    "digit_sort([1, 5, 9, 2, 789, 563, 444])\n",
    "digit_sort([53219, 3772, 564, 32, 1])"
   ]
  }
 ],
 "metadata": {
  "kernelspec": {
   "display_name": "Python 3 (ipykernel)",
   "language": "python",
   "name": "python3"
  },
  "language_info": {
   "codemirror_mode": {
    "name": "ipython",
    "version": 3
   },
   "file_extension": ".py",
   "mimetype": "text/x-python",
   "name": "python",
   "nbconvert_exporter": "python",
   "pygments_lexer": "ipython3",
   "version": "3.9.7"
  }
 },
 "nbformat": 4,
 "nbformat_minor": 5
}
