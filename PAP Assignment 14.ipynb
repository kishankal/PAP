{
 "cells": [
  {
   "cell_type": "code",
   "execution_count": 1,
   "id": "bfc62c62",
   "metadata": {},
   "outputs": [],
   "source": [
    "import logging\n",
    "\n",
    "# Create and configure logger\n",
    "logging.basicConfig(filename=\"PAP_1.log\",\n",
    "                    format='%(asctime)s %(levelname)s %(message)s :',\n",
    "                    filemode='w',\n",
    "                    level = logging.INFO)\n",
    "logging.info('this message is logging')"
   ]
  },
  {
   "cell_type": "markdown",
   "id": "fdc10735",
   "metadata": {},
   "source": [
    "## 1. Given a list of numbers, create a function that removes 25% from every number in the list except the smallest number, and adds the total amount removed to the smallest number.\n",
    "    Examples:\n",
    "    show_the_love([4, 1, 4]) ➞ [3, 3, 3]\n",
    "    show_the_love([16, 10, 8]) ➞ [12, 7.5, 14.5]\n",
    "    show_the_love([2, 100]) ➞ [27, 75]"
   ]
  },
  {
   "cell_type": "code",
   "execution_count": 4,
   "id": "6a729680",
   "metadata": {},
   "outputs": [
    {
     "data": {
      "text/plain": [
       "1"
      ]
     },
     "execution_count": 4,
     "metadata": {},
     "output_type": "execute_result"
    }
   ],
   "source": [
    "min([11,1,2])"
   ]
  },
  {
   "cell_type": "code",
   "execution_count": 18,
   "id": "8d34d5fa",
   "metadata": {},
   "outputs": [
    {
     "name": "stdout",
     "output_type": "stream",
     "text": [
      "show_the_love([4, 1, 4]) ➞ [3.0, 3.0, 3.0]\n",
      "show_the_love([16, 10, 8]) ➞ [12.0, 7.5, 14.5]\n",
      "show_the_love([2, 100]) ➞ [27.0, 75.0]\n"
     ]
    }
   ],
   "source": [
    "\n",
    "try:\n",
    "    def show_the_love(l):\n",
    "        l_new = l.copy()\n",
    "        sum_num = 0\n",
    "        for i in range(len(l_new)):\n",
    "            if l_new[i] is not min(l_new):\n",
    "                sum_num += l_new[i]/4\n",
    "                l_new[i] =  l_new[i]-(l_new[i]/4)\n",
    "        l_new[l_new.index(min(l_new))] = sum_num + min(l_new)\n",
    "        print(f'show_the_love({l}) ➞ {l_new}')\n",
    "        logging.info(f'show_the_love({l}) ➞ {l_new}')\n",
    "        \n",
    "except Exception as e:\n",
    "    logging.error(e)\n",
    "    \n",
    "show_the_love([4, 1, 4])\n",
    "show_the_love([16, 10, 8])\n",
    "show_the_love([2, 100])"
   ]
  },
  {
   "cell_type": "markdown",
   "id": "cd236c2f",
   "metadata": {},
   "source": [
    "## 2. Create a function that takes in two words as input and returns a list of three elements, in the following order:\n",
    "    1.Shared letters between two words. 2.Letters unique to word 1. 3.Letters unique to word 2.\n",
    "                                    \n",
    "    Each element should have unique letters, and have each letter be alphabetically sorted.\n",
    "    \n",
    "    Examples:\n",
    "    letters(\"sharp\", \"soap\") ➞ [\"aps\", \"hr\", \"o\"]\n",
    "    letters(\"board\", \"bored\") ➞ [\"bdor\", \"a\", \"e\"]\n",
    "    letters(\"happiness\", \"envelope\") ➞ [\"enp\", \"ahis\", \"lov\"]\n",
    "    letters(\"kerfuffle\", \"fluffy\") ➞ [\"flu\", \"ekr\", \"y\"]\n",
    "    # Even with multiple matching letters (e.g. 3 f's), there should\n",
    "    # only exist a single \"f\" in your first element.\n",
    "    letters(\"match\", \"ham\") ➞ [\"ahm\", \"ct\", \"\"]\n",
    "    # \"ham\" does not contain any letters that are not found already\n",
    "    # in \"match\"."
   ]
  },
  {
   "cell_type": "code",
   "execution_count": 5,
   "id": "cab7b1ce",
   "metadata": {},
   "outputs": [
    {
     "name": "stdout",
     "output_type": "stream",
     "text": [
      "letters(('sharp', 'soap')) ➞ ['aps', 'hr', 'o']\n",
      "letters(('board', 'bored')) ➞ ['bdor', 'a', 'e']\n",
      "letters(('happiness', 'envelope')) ➞ ['enp', 'ahis', 'lov']\n",
      "letters(('kerfuffle', 'fluffy')) ➞ ['flu', 'ekr', 'y']\n",
      "letters(('match', 'ham')) ➞ ['ahm', 'ct', '']\n"
     ]
    }
   ],
   "source": [
    "try:\n",
    "    def letters(s1,s2):\n",
    "        a = set(s1)\n",
    "        b = set(s2)\n",
    "        l = []\n",
    "        l.append(''.join(sorted(a.intersection(b))))\n",
    "        l.append(''.join(sorted(a.difference(b))))\n",
    "        l.append(''.join(sorted(b.difference(a))))\n",
    "        print(f'letters({s1,s2}) ➞ {l}')\n",
    "        logging.info(f'letters({s1,s2}) ➞ {l}')\n",
    "            \n",
    "        \n",
    "except Exception as e:\n",
    "    logging.error(e)\n",
    "    \n",
    "letters(\"sharp\", \"soap\")\n",
    "letters(\"board\", \"bored\")\n",
    "letters(\"happiness\", \"envelope\")\n",
    "letters(\"kerfuffle\", \"fluffy\")\n",
    "letters(\"match\", \"ham\")"
   ]
  },
  {
   "cell_type": "markdown",
   "id": "1e941675",
   "metadata": {},
   "source": [
    "## 3. Write a function that pairs the first number in an array with the last, the second number with the second to last, etc.\n",
    "    Examples:\n",
    "    pairs([1, 2, 3, 4, 5, 6, 7]) ➞ [[1, 7], [2, 6], [3, 5], [4, 4]]\n",
    "    pairs([1, 2, 3, 4, 5, 6]) ➞ [[1, 6], [2, 5], [3, 4]]\n",
    "    pairs([5, 9, 8, 1, 2]) ➞ [[5, 2], [9, 1], [8, 8]]\n",
    "    pairs([]) ➞ []"
   ]
  },
  {
   "cell_type": "code",
   "execution_count": 6,
   "id": "448aad6e",
   "metadata": {},
   "outputs": [
    {
     "name": "stdout",
     "output_type": "stream",
     "text": [
      "pairs([1, 2, 3, 4, 5, 6, 7]) ➞ [[1, 7], [2, 6], [3, 5], [4, 4]]\n",
      "pairs([1, 2, 3, 4, 5, 6]) ➞ [[1, 6], [2, 5], [3, 4]]\n",
      "pairs([5, 9, 8, 1, 2]) ➞ [[5, 2], [9, 1], [8, 8]]\n",
      "pairs([]) ➞ []\n"
     ]
    }
   ],
   "source": [
    "try:\n",
    "    def pairs(l):\n",
    "        l_r = l.copy()\n",
    "        l_new = []\n",
    "        while True:\n",
    "            if len(l) > 0:\n",
    "                if len(l) == 1:\n",
    "                    l_new.append([l[0],l.pop(0)])\n",
    "                else:\n",
    "                    l_new.append([l.pop(0),l.pop(-1)])\n",
    "            else:\n",
    "                break            \n",
    "        print(f'pairs({l_r}) ➞ {l_new}')\n",
    "        logging.info(f'pairs({l_r}) ➞ {l_new}')\n",
    "    \n",
    "except Exception as e:\n",
    "    logging.error(e)\n",
    "    \n",
    "pairs([1, 2, 3, 4, 5, 6, 7])\n",
    "pairs([1, 2, 3, 4, 5, 6])\n",
    "pairs([5, 9, 8, 1, 2])\n",
    "pairs([])"
   ]
  },
  {
   "cell_type": "markdown",
   "id": "d69d4265",
   "metadata": {},
   "source": [
    "## 4. Write a function that adds two numbers. The catch, however, is that the numbers will be strings.\n",
    "    Examples:\n",
    "    add_str_nums(\"4\", \"5\") ➞ \"9\"\n",
    "    add_str_nums(\"abcdefg\", \"3\") ➞ \"-1\"\n",
    "    add_str_nums(\"1\", \"\") ➞ \"1\"\n",
    "    add_str_nums(\"1874682736267235927359283579235789257\", \"32652983572985729\") ➞ \"1874682736267235927391936562808774986\""
   ]
  },
  {
   "cell_type": "code",
   "execution_count": 3,
   "id": "8f7c7da8",
   "metadata": {},
   "outputs": [
    {
     "name": "stdout",
     "output_type": "stream",
     "text": [
      "add_str_nums(\"4\", \"5\") ➞ 9\n",
      "add_str_nums(\"abcdefg\", \"3\") ➞ -1\n",
      "add_str_nums(\"1\", \"0\") ➞ 1\n",
      "add_str_nums(\"1874682736267235927359283579235789257\", \"32652983572985729\") ➞ 1874682736267235927391936562808774986\n"
     ]
    }
   ],
   "source": [
    "try:\n",
    "    def add_str_nums(s1,s2):\n",
    "        sum_ = 0\n",
    "        \n",
    "        s1 = s1 if len(s1) > 0 else \"0\"\n",
    "        s2 = s2 if len(s2) > 0 else \"0\"\n",
    "        \n",
    "        if s1.isdigit() == False or s2.isdigit() == False:\n",
    "            sum_ = -1\n",
    "        else:\n",
    "            sum_ = int(s1) + int(s2)\n",
    "        print(f'add_str_nums(\"{s1}\", \"{s2}\") ➞ {sum_}')\n",
    "        logging.info(f'add_str_nums(\"{s1}\", \"{s2}\") ➞ {sum_}')\n",
    "    \n",
    "except Exception as e:\n",
    "    logging.error(e)\n",
    "    \n",
    "    \n",
    "add_str_nums(\"4\", \"5\")\n",
    "add_str_nums(\"abcdefg\", \"3\")\n",
    "add_str_nums(\"1\", \"\")\n",
    "add_str_nums(\"1874682736267235927359283579235789257\", \"32652983572985729\")"
   ]
  },
  {
   "cell_type": "markdown",
   "id": "a142ebdf",
   "metadata": {},
   "source": [
    "## 5. lPaeesh le pemu mnxit ehess rtnisg! Oh, sorry, that was supposed to say: Please help me unmix these strings!\n",
    "    Somehow my strings have all become mixed up; every pair of characters has been swapped. Help me undo this so I can         understand my strings again.\n",
    "\n",
    "    Examples:\n",
    "    unmix(\"123456\") ➞ \"214365\"\n",
    "    unmix(\"hTsii  s aimex dpus rtni.g\") ➞ \"This is a mixed up string.\"\n",
    "    unmix(\"badce\") ➞ \"abcde\""
   ]
  },
  {
   "cell_type": "code",
   "execution_count": 17,
   "id": "d5402af7",
   "metadata": {},
   "outputs": [
    {
     "name": "stdout",
     "output_type": "stream",
     "text": [
      "unmix(123456) ➞ 214365\n",
      "unmix(hTsii  s aimex dpus rtni.g) ➞ This is a mixed up string.\n",
      "unmix(badce) ➞ abcde\n"
     ]
    }
   ],
   "source": [
    "try:\n",
    "    def unmix(s):\n",
    "       \n",
    "        l = []\n",
    "        result = ''\n",
    "        for i in s:\n",
    "            l.append(i)\n",
    "        len_ = len(l)\n",
    "        while len(l) != 0:\n",
    "            if len(l) == 1:\n",
    "                result += l.pop(0)\n",
    "            else:\n",
    "                result += l.pop(1)\n",
    "                result += l.pop(0)\n",
    "        print(f'unmix({s}) ➞ {result}')\n",
    "        logging.info(f'unmix({s}) ➞ {result}')\n",
    "        \n",
    "except Exception as e:\n",
    "    logging.error(e)\n",
    "    \n",
    "unmix(\"123456\")\n",
    "unmix(\"hTsii  s aimex dpus rtni.g\")\n",
    "unmix(\"badce\")                "
   ]
  }
 ],
 "metadata": {
  "kernelspec": {
   "display_name": "Python 3 (ipykernel)",
   "language": "python",
   "name": "python3"
  },
  "language_info": {
   "codemirror_mode": {
    "name": "ipython",
    "version": 3
   },
   "file_extension": ".py",
   "mimetype": "text/x-python",
   "name": "python",
   "nbconvert_exporter": "python",
   "pygments_lexer": "ipython3",
   "version": "3.9.7"
  }
 },
 "nbformat": 4,
 "nbformat_minor": 5
}
