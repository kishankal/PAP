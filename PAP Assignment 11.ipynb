{
 "cells": [
  {
   "cell_type": "code",
   "execution_count": 5,
   "id": "b074e364",
   "metadata": {},
   "outputs": [],
   "source": [
    "import logging\n",
    "\n",
    "# Create and configure logger\n",
    "logging.basicConfig(filename=\"PAP_1.log\",\n",
    "                    format='%(asctime)s %(levelname)s %(message)s :',\n",
    "                    filemode='w',\n",
    "                    level = logging.INFO)\n",
    "logging.info('this message is logging')"
   ]
  },
  {
   "cell_type": "markdown",
   "id": "e1146d28",
   "metadata": {},
   "source": [
    "## 1. Create a function that takes a list and returns a new list containing only prime numbers.\n",
    "    Examples:\n",
    "    filter_primes([7, 9, 3, 9, 10, 11, 27]) ➞ [7, 3, 11]\n",
    "    filter_primes([10007, 1009, 1007, 27, 147, 77, 1001, 70]) ➞ [10007, 1009]\n",
    "    filter_primes([1009, 10, 10, 10, 3, 33, 9, 4, 1, 61, 63, 69, 1087, 1091, 1093, 1097]) ➞ [1009, 3, 61, 1087, 1091,         1093, 1097]"
   ]
  },
  {
   "cell_type": "code",
   "execution_count": 13,
   "id": "12df132e",
   "metadata": {},
   "outputs": [
    {
     "name": "stdout",
     "output_type": "stream",
     "text": [
      "filter_primes([7, 9, 3, 9, 10, 11, 27]) ➞ [7, 3, 11]\n",
      "filter_primes([10007, 1009, 1007, 27, 147, 77, 1001, 70]) ➞ [10007, 1009]\n",
      "filter_primes([1009, 10, 10, 10, 3, 33, 9, 4, 1, 61, 63, 69, 1087, 1091, 1093, 1097]) ➞ [1009, 3, 61, 1087, 1091, 1093, 1097]\n"
     ]
    }
   ],
   "source": [
    "try:\n",
    "    def filter_primes(l):\n",
    "        l_new = []\n",
    "        for i in l:\n",
    "            if i in [2,3]:\n",
    "                l_new.append(i)\n",
    "            elif ((i+1)%6 == 0) or ((i-1)%6 == 0) and i != 1:\n",
    "                l_new.append(i)\n",
    "        result = l_new.copy()\n",
    "        for j in result:\n",
    "            for k in range(2,j):\n",
    "                if j%k == 0:\n",
    "                    l_new.remove(j)\n",
    "                    break\n",
    "        print(f\"filter_primes({l}) ➞ {l_new}\")\n",
    "        logging.info(f\"filter_primes({l}) ➞ {l_new}\")\n",
    "        \n",
    "except Exception as e:\n",
    "    logging.error()\n",
    "\n",
    "filter_primes([7, 9, 3, 9, 10, 11, 27])\n",
    "filter_primes([10007, 1009, 1007, 27, 147, 77, 1001, 70])\n",
    "filter_primes([1009, 10, 10, 10, 3, 33, 9, 4, 1, 61, 63, 69, 1087, 1091, 1093, 1097])"
   ]
  },
  {
   "cell_type": "markdown",
   "id": "187116cd",
   "metadata": {},
   "source": [
    "## 2. Once a water balloon pops, is soaks the area around it. The ground gets drier the further away you travel from the balloon.\n",
    "    The effect of a water balloon popping can be modeled using a list. Create a function that takes a list which takes the     pre-pop state and returns the state after the balloon is popped. The pre-pop state will contain at most a single           balloon, whose size is represented by the only non-zero element.\n",
    "\n",
    "    Examples:\n",
    "    pop([0, 0, 0, 0, 4, 0, 0, 0, 0]) ➞ [0, 1, 2, 3, 4, 3, 2, 1, 0]\n",
    "    pop([0, 0, 0, 3, 0, 0, 0]) ➞ [0, 1, 2, 3, 2, 1, 0]\n",
    "    pop([0, 0, 2, 0, 0]) ➞ [0, 1, 2, 1, 0]\n",
    "    pop([0]) ➞ [0]"
   ]
  },
  {
   "cell_type": "code",
   "execution_count": 39,
   "id": "866e3f2d",
   "metadata": {},
   "outputs": [
    {
     "name": "stdout",
     "output_type": "stream",
     "text": [
      "pop([0, 0, 0, 0, 4, 0, 0, 0, 0]) ➞ [0, 1, 2, 3, 4, 3, 2, 1, 0]\n",
      "pop([0, 0, 0, 3, 0, 0, 0]) ➞ [0, 1, 2, 3, 2, 1, 0]\n",
      "pop([0, 0, 2, 0, 0]) ➞ [0, 1, 2, 1, 0]\n",
      "pop([0]) ➞ [0]\n",
      "pop([0]) ➞ [0]\n"
     ]
    }
   ],
   "source": [
    "try:\n",
    "    def pop(l):\n",
    "        l_new = []\n",
    "        result = []\n",
    "        mid = 0\n",
    "        \n",
    "        if len(l) in [1,3]:\n",
    "            print(f\"pop({l}) ➞ {l}\")\n",
    "            logging.info(f\"pop({l}) ➞ {l}\")\n",
    "       \n",
    "        elif len(l)%2 != 0:\n",
    "            mid = l[(len(l)//2)]\n",
    "            for i in range(mid):\n",
    "                l_new.append(i)\n",
    "        result = l_new + [mid] + l_new[::-1]\n",
    "        print(f\"pop({l}) ➞ {result}\")\n",
    "        logging.info(f\"pop({l}) ➞ {result}\")\n",
    "except Exception as e:\n",
    "    logging.error(e)\n",
    "\n",
    "pop([0, 0, 0, 0, 4, 0, 0, 0, 0])\n",
    "pop([0, 0, 0, 3, 0, 0, 0])\n",
    "pop([0, 0, 2, 0, 0])\n",
    "pop([0])\n",
    "        \n",
    "            \n",
    "            "
   ]
  },
  {
   "cell_type": "markdown",
   "id": "e5b16cc4",
   "metadata": {},
   "source": [
    "## 3. \"Loves me, loves me not\" is a traditional game in which a person plucks off all the petals of a flower one by one, saying the phrase \"Loves me\" and \"Loves me not\" when determining whether the one that they love, loves them back.\n",
    "    Given a number of petals, return a string which repeats the phrases \"Loves me\" and \"Loves me not\" for every alternating     petal, and return the last phrase in all caps. Remember to put a comma and space between phrases.\n",
    "\n",
    "    Examples:\n",
    "    loves_me(3) ➞ \"Loves me, Loves me not, LOVES ME\"\n",
    "    loves_me(6) ➞ \"Loves me, Loves me not, Loves me, Loves me not, Loves me, LOVES ME NOT\"\n",
    "    loves_me(1) ➞ \"LOVES ME\""
   ]
  },
  {
   "cell_type": "code",
   "execution_count": 49,
   "id": "60caadd7",
   "metadata": {},
   "outputs": [
    {
     "name": "stdout",
     "output_type": "stream",
     "text": [
      "Enter a number : 3\n",
      "loves_me(3) ➞ Love me, Love me not, LOVE ME\n",
      "Enter a number : 6\n",
      "loves_me(6) ➞ Love me, Love me not, Love me, Love me not, Love me, LOVE ME NOT\n",
      "Enter a number : 1\n",
      "loves_me(1) ➞ LOVE ME\n"
     ]
    }
   ],
   "source": [
    "# method 1\n",
    "try:\n",
    "    def loves_me(n):\n",
    "        st = 'Love me'\n",
    "        st1 = 'Love me not'\n",
    "        l = []\n",
    "        for i in range(1,n+1):\n",
    "            if i != n:\n",
    "                if i%2 == 0:\n",
    "                    l.append(st1)\n",
    "                else:\n",
    "                    l.append(st)\n",
    "            else:\n",
    "                if i%2 == 0:\n",
    "                    l.append(st1.upper())\n",
    "                else:\n",
    "                    l.append(st.upper())\n",
    "        print(f\"loves_me({n}) ➞ {', '.join(l)}\")\n",
    "        logging.info(f\"loves_me({n}) ➞ {', '.join(l)}\")\n",
    "except Exception as e:\n",
    "    logging.error(e)\n",
    "\n",
    "for i in range(3):\n",
    "    n = int(input(\"Enter a number : \"))\n",
    "    loves_me(n)\n",
    "                \n",
    "            "
   ]
  },
  {
   "cell_type": "code",
   "execution_count": 50,
   "id": "5050767f",
   "metadata": {},
   "outputs": [
    {
     "name": "stdout",
     "output_type": "stream",
     "text": [
      "loves_me(3) ➞ Loves me, Loves me not, LOVES ME\n",
      "loves_me(6) ➞ Loves me, Loves me not, Loves me, Loves me not, Loves me, LOVES ME NOT\n",
      "loves_me(1) ➞ LOVES ME\n"
     ]
    }
   ],
   "source": [
    "# method 2\n",
    "def loves_me(n):\n",
    "    result = []\n",
    "    for i in range(n):\n",
    "        if i%2 ==0:\n",
    "            result.append('Loves me')\n",
    "        else:\n",
    "            result.append('Loves me not')\n",
    "    result[-1] = result[-1].upper()\n",
    "    print(f'loves_me({n}) ➞ {\", \".join(result)}')\n",
    "    \n",
    "loves_me(3)\n",
    "loves_me(6)\n",
    "loves_me(1)"
   ]
  },
  {
   "cell_type": "markdown",
   "id": "df951683",
   "metadata": {},
   "source": [
    "## 4. Write a function that sorts each string in a list by the letter in alphabetic ascending order (a-z).\n",
    "    Examples:\n",
    "    sort_by_letter([\"932c\", \"832u32\", \"2344b\"]) ➞ [\"2344b\", \"932c\", \"832u32\"]\n",
    "    sort_by_letter([\"99a\", \"78b\", \"c2345\", \"11d\"]) ➞ [\"99a\", \"78b\", \"c2345\", \"11d\"]\n",
    "    sort_by_letter([\"572z\", \"5y5\", \"304q2\"]) ➞ [\"304q2\", \"5y5\", \"572z\"]\n",
    "    sort_by_letter([]) ➞ []"
   ]
  },
  {
   "cell_type": "code",
   "execution_count": 53,
   "id": "ff80aff1",
   "metadata": {},
   "outputs": [
    {
     "name": "stdout",
     "output_type": "stream",
     "text": [
      "sort_by_letter(['932c', '832u32', '2344b']) ➞ ['2344b', '932c', '832u32']\n",
      "sort_by_letter(['99a', '78b', 'c2345', '11d']) ➞ ['99a', '78b', 'c2345', '11d']\n",
      "sort_by_letter(['572z', '5y5', '304q2']) ➞ ['304q2', '5y5', '572z']\n",
      "sort_by_letter([]) ➞ []\n"
     ]
    }
   ],
   "source": [
    "try:\n",
    "    def sort_by_letter(l):\n",
    "        l_new = []\n",
    "        result = []\n",
    "        for i in l:\n",
    "            for j in i:\n",
    "                if j.isalpha():\n",
    "                    l_new.append(j)\n",
    "        l_new.sort()\n",
    "        for i in l_new:\n",
    "            for j in l:\n",
    "                if i in j:\n",
    "                    result.append(j)\n",
    "        print(f\"sort_by_letter({l}) ➞ {result}\")\n",
    "        logging.info(f\"sort_by_letter({l}) ➞ {result}\")\n",
    "except Exception as e:\n",
    "    logging.error(e)\n",
    "sort_by_letter([\"932c\", \"832u32\", \"2344b\"])\n",
    "sort_by_letter([\"99a\", \"78b\", \"c2345\", \"11d\"])\n",
    "sort_by_letter([\"572z\", \"5y5\", \"304q2\"])\n",
    "sort_by_letter([])\n",
    "\n",
    "                "
   ]
  },
  {
   "cell_type": "markdown",
   "id": "0d043dc7",
   "metadata": {},
   "source": [
    "## 5. There are three cups on a table, at positions A, B, and C. At the start, there is a ball hidden under the cup at position B.\n",
    "    image.png\n",
    "\n",
    "    However, I perform several swaps on the cups, which is notated as two letters. For example, if I swap the cups at           positions A and B, I could notate this as AB or BA.\n",
    "\n",
    "    Create a function that returns the letter position that the ball is at, once I finish swapping the cups. The swaps will     be given to you as a list.\n",
    "\n",
    "    Examples:\n",
    "    cup_swapping([\"AB\", \"CA\", \"AB\"]) ➞ \"C\"\n",
    "    # Ball begins at position B.\n",
    "    # Cups A and B swap, so the ball is at position A.\n",
    "    # Cups C and A swap, so the ball is at position C.\n",
    "    # Cups A and B swap, but the ball is at position C, so it doesn't move."
   ]
  },
  {
   "cell_type": "code",
   "execution_count": null,
   "id": "93e15114",
   "metadata": {},
   "outputs": [],
   "source": [
    "def cup_swapping(swap_list,intitial_ball_pos):\n",
    "    ball_position = intitial_ball_pos\n",
    "    for ele in swap_list:\n",
    "        if ball_position in ele:\n",
    "            ball_position = ele.replace(ball_position,'')\n",
    "    print(f'cup_swapping({swap_list}) ➞ {ball_position}')\n",
    "            \n",
    "cup_swapping([\"AB\", \"CA\", \"AB\"],'B')\n",
    "cup_swapping([\"AB\", \"CA\", \"AB\"],'C')\n",
    "cup_swapping([\"AC\", \"BC\", \"AB\"],'A')"
   ]
  },
  {
   "cell_type": "code",
   "execution_count": null,
   "id": "5e27f8a3",
   "metadata": {},
   "outputs": [],
   "source": [
    "def cup_swapping(l):\n",
    "    ball_position = l[0][1]\n",
    "    for i in range(1,len(l)):\n",
    "        if i != len(l):\n",
    "            if \n",
    "            "
   ]
  }
 ],
 "metadata": {
  "kernelspec": {
   "display_name": "Python 3 (ipykernel)",
   "language": "python",
   "name": "python3"
  },
  "language_info": {
   "codemirror_mode": {
    "name": "ipython",
    "version": 3
   },
   "file_extension": ".py",
   "mimetype": "text/x-python",
   "name": "python",
   "nbconvert_exporter": "python",
   "pygments_lexer": "ipython3",
   "version": "3.9.7"
  }
 },
 "nbformat": 4,
 "nbformat_minor": 5
}
