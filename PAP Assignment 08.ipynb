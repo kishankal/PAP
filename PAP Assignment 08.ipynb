{
 "cells": [
  {
   "cell_type": "code",
   "execution_count": 5,
   "id": "6d07d152",
   "metadata": {},
   "outputs": [],
   "source": [
    "import logging\n",
    "\n",
    "# Create and configure logger\n",
    "logging.basicConfig(filename=\"PAP_1.log\",\n",
    "                    format='%(asctime)s %(levelname)s %(message)s :',\n",
    "                    filemode='w',\n",
    "                    level = logging.INFO)\n",
    "logging.info('this message is logging')"
   ]
  },
  {
   "cell_type": "markdown",
   "id": "c4a76c5b",
   "metadata": {},
   "source": [
    "## 1. Given a sentence as txt, return True if any two adjacent words have this property: One word ends with a vowel, while the word immediately after begins with a vowel (a e i o u).\n",
    "    Examples:\n",
    "    vowel_links(\"a very large appliance\") ➞ True\n",
    "    vowel_links(\"go to edabit\") ➞ True\n",
    "    vowel_links(\"an open fire\") ➞ False\n",
    "    vowel_links(\"a sudden applause\") ➞ False"
   ]
  },
  {
   "cell_type": "code",
   "execution_count": 8,
   "id": "7d2bd6dd",
   "metadata": {},
   "outputs": [
    {
     "name": "stdout",
     "output_type": "stream",
     "text": [
      "Enter a txt : a sudden applause\n",
      "vowel_links(a sudden applause) ➞ False\n",
      "Enter a txt : go to edabit\n",
      "vowel_links(go to edabit) ➞ True\n",
      "Enter a txt : a very large appliance\n",
      "vowel_links(a very large appliance) ➞ True\n",
      "Enter a txt : a sudden applause\n",
      "vowel_links(a sudden applause) ➞ False\n"
     ]
    }
   ],
   "source": [
    "try:\n",
    "    \n",
    "    def vowel_links(s):\n",
    "        l = s.split(\" \")\n",
    "        vowel = ['a','e','i','o','u']\n",
    "        end,start,result = False, False,False\n",
    "        for i in range(len(l)):\n",
    "            temp = True if l[i][-1] in vowel else False\n",
    "            start = True if l[i][0] in vowel else False\n",
    "            if start == end == True:\n",
    "                result=True\n",
    "                break\n",
    "            end=temp\n",
    "        print(f'vowel_links({s}) ➞ {result}')\n",
    "        logging.info(f'vowel_links({s}) ➞ {result}')\n",
    "\n",
    "except Exception as e:\n",
    "    logging.error(e)\n",
    "    \n",
    "for i in range(4):\n",
    "    s = input('Enter a txt : ')\n",
    "    vowel_links(s)"
   ]
  },
  {
   "cell_type": "markdown",
   "id": "3f9d11be",
   "metadata": {},
   "source": [
    "## 2. You are given three inputs: a string, one letter, and a second letter. Write a function that returns True if every instance of the first letter occurs before every instance of the second letter.\n",
    "    Examples:\n",
    "    first_before_second(\"a rabbit jumps joyfully\", \"a\", \"j\") ➞ True\n",
    "    # Every instance of \"a\" occurs before every instance of \"j\".\n",
    "\n",
    "    first_before_second(\"knaves knew about waterfalls\", \"k\", \"w\") ➞  True\n",
    "\n",
    "    first_before_second(\"happy birthday\", \"a\", \"y\") ➞ False\n",
    "    # The \"a\" in \"birthday\" occurs after the \"y\" in \"happy\".\n",
    "\n",
    "    first_before_second(\"precarious kangaroos\", \"k\", \"a\") ➞ False"
   ]
  },
  {
   "cell_type": "code",
   "execution_count": 16,
   "id": "4341f59f",
   "metadata": {},
   "outputs": [
    {
     "name": "stdout",
     "output_type": "stream",
     "text": [
      "True\n",
      "True\n",
      "False\n",
      "False\n"
     ]
    }
   ],
   "source": [
    "## method 1\n",
    "def first_before_second(s,l1,l2):\n",
    "    l = s.split()\n",
    "    y,x = False,False\n",
    "    \n",
    "    for i in range(len(l)):\n",
    "        if l[i][0] == l1:\n",
    "            x = i\n",
    "            break\n",
    "    for i in range(len(l)):\n",
    "        if l[i][0] == l2:\n",
    "            y = i\n",
    "            break\n",
    "    if x < y:\n",
    "        print(True)\n",
    "    else : \n",
    "        print(False)\n",
    "first_before_second(\"a rabbit jumps joyfully\", \"a\", \"j\")\n",
    "first_before_second(\"knaves knew about waterfalls\", \"k\", \"w\")\n",
    "first_before_second(\"happy birthday\", \"a\", \"y\")\n",
    "first_before_second(\"precarious kangaroos\", \"k\", \"a\")\n"
   ]
  },
  {
   "cell_type": "code",
   "execution_count": 25,
   "id": "098bf61d",
   "metadata": {},
   "outputs": [
    {
     "name": "stdout",
     "output_type": "stream",
     "text": [
      "first_before_second_index(a rabbit jumps joyfully, a, j) ➞ True\n",
      "first_before_second_index(knaves knew about waterfalls, k, w) ➞ True\n",
      "first_before_second_index(happy birthday, a, y) ➞ False\n",
      "first_before_second_index(precarious kangaroos, k, a) ➞ False\n",
      "\n",
      "first_before_second_find(a rabbit jumps joyfully, a, j) ➞ True\n",
      "first_before_second_find(knaves knew about waterfalls, k, w) ➞ True\n",
      "first_before_second_find(happy birthday, a, y) ➞ False\n",
      "first_before_second_find(precarious kangaroos, k, a) ➞ False\n"
     ]
    }
   ],
   "source": [
    "## method 2\n",
    "def first_before_second_index(s,l1,l2):\n",
    "    last_occur_first = s.rindex(l1)\n",
    "    first_occur_second = s.index(l2)\n",
    "    result = True if last_occur_first < first_occur_second else False\n",
    "    print(f'first_before_second_index({s}, {l1}, {l2}) ➞ {result}')\n",
    "## method 3\n",
    "def first_before_second_find(s,l1,l2):\n",
    "    last_occur_first = s.rfind(l1)\n",
    "    first_occur_second = s.find(l2)\n",
    "    result = True if last_occur_first < first_occur_second else False\n",
    "    print(f'first_before_second_find({s}, {l1}, {l2}) ➞ {result}')\n",
    "\n",
    "first_before_second_index(\"a rabbit jumps joyfully\", \"a\", \"j\")\n",
    "first_before_second_index(\"knaves knew about waterfalls\", \"k\", \"w\")\n",
    "first_before_second_index(\"happy birthday\", \"a\", \"y\")\n",
    "first_before_second_index(\"precarious kangaroos\", \"k\", \"a\")\n",
    "print()\n",
    "first_before_second_find(\"a rabbit jumps joyfully\", \"a\", \"j\")\n",
    "first_before_second_find(\"knaves knew about waterfalls\", \"k\", \"w\")\n",
    "first_before_second_find(\"happy birthday\", \"a\", \"y\")\n",
    "first_before_second_find(\"precarious kangaroos\", \"k\", \"a\")\n"
   ]
  },
  {
   "cell_type": "markdown",
   "id": "37df7e62",
   "metadata": {},
   "source": [
    "## 3. Create a function that returns the characters from a list or string r on odd or even positions, depending on the specifier s. The specifier will be \"odd\" for items on odd positions (1, 3, 5, ...) and \"even\" for items on even positions (2, 4, 6, ...).\n",
    "    Examples:\n",
    "    char_at_pos([2, 4, 6, 8, 10], \"even\") ➞ [4, 8]\n",
    "    # 4 & 8 occupy the 2nd & 4th positions\n",
    "\n",
    "    char_at_pos(\"EDABIT\", \"odd\") ➞ \"EAI\"\n",
    "    # \"E\", \"A\" and \"I\" occupy the 1st, 3rd and 5th positions\n",
    "\n",
    "    char_at_pos([\"A\", \"R\", \"B\", \"I\", \"T\", \"R\", \"A\", \"R\", \"I\", \"L\", \"Y\"], \"odd\") ➞ [\"A\", \"B\", \"T\", \"A\", \"I\", \"Y\"]"
   ]
  },
  {
   "cell_type": "code",
   "execution_count": 32,
   "id": "a4b88ad1",
   "metadata": {},
   "outputs": [
    {
     "name": "stdout",
     "output_type": "stream",
     "text": [
      "char_at_pos([2, 4, 6, 8, 10], 'even') ➞ [4, 8]\n",
      "char_at_pos('EDABIT', 'odd') ➞ \"EAI\"\n",
      "char_at_pos(['A', 'R', 'B', 'I', 'T', 'R', 'A', 'R', 'I', 'L', 'Y'], 'odd') ➞ ['A', 'B', 'T', 'A', 'I', 'Y']\n"
     ]
    }
   ],
   "source": [
    "try:\n",
    "    def char_at_pos(l,mode):\n",
    "        l_new = []\n",
    "        for ele in range(len(l)):\n",
    "            if mode == 'even' and (ele+1)%2 == 0:\n",
    "                l_new.append(l[ele])\n",
    "            elif mode == 'odd' and (ele+1)%2 != 0:\n",
    "                l_new.append(l[ele])     \n",
    "        if type(l) == list:\n",
    "            print(f'char_at_pos{l,mode} ➞ {l_new}')\n",
    "            logging.info(f'char_at_pos{l,mode} ➞ {l_new}')\n",
    "        elif type(l) == str:\n",
    "            str_new = ''\n",
    "            str_new = str_new.join(l_new)\n",
    "            print(f'char_at_pos{l,mode} ➞ \"{str_new}\"')\n",
    "            logging.info(f'char_at_pos{l,mode} ➞ {str_new}')\n",
    "        \n",
    "        \n",
    "except Exception as e:\n",
    "    logging.error(e)\n",
    "char_at_pos([2, 4, 6, 8, 10], \"even\")\n",
    "char_at_pos(\"EDABIT\", \"odd\")\n",
    "char_at_pos([\"A\", \"R\", \"B\", \"I\", \"T\", \"R\", \"A\", \"R\", \"I\", \"L\", \"Y\"], \"odd\")\n",
    "        \n",
    "        "
   ]
  },
  {
   "cell_type": "markdown",
   "id": "398390df",
   "metadata": {},
   "source": [
    "## 4. Write a function that returns the greatest common divisor of all list elements. If the greatest common divisor is 1, return 1.\n",
    "    Examples:\n",
    "    GCD([10, 20, 40]) ➞ 10\n",
    "    GCD([1, 2, 3, 100]) ➞ 1\n",
    "    GCD([1024, 192, 2048, 512]) ➞ 64"
   ]
  },
  {
   "cell_type": "code",
   "execution_count": 33,
   "id": "33581e64",
   "metadata": {},
   "outputs": [
    {
     "name": "stdout",
     "output_type": "stream",
     "text": [
      "GCD([10, 20, 40]) ➞ 10\n",
      "GCD([1, 2, 3, 100]) ➞ 1\n",
      "GCD([1024, 192, 2048, 512]) ➞ 64\n"
     ]
    }
   ],
   "source": [
    "def GCD(l):\n",
    "    small = min(l)\n",
    "    gcd = -1\n",
    "    for i in range(1, small+1):\n",
    "        result = []\n",
    "        for ele in l:\n",
    "            result.append(ele%i)\n",
    "        if len(set(result)) == 1 and list(set(result))[0] == 0:\n",
    "            gcd = i\n",
    "    print(f'GCD({l}) ➞ {gcd}')\n",
    "    \n",
    "GCD([10, 20, 40])\n",
    "GCD([1, 2, 3, 100])\n",
    "GCD([1024, 192, 2048, 512])"
   ]
  },
  {
   "cell_type": "markdown",
   "id": "f07f2072",
   "metadata": {},
   "source": [
    "## 5. A number/string is a palindrome if the digits/characters are the same when read both forward and backward. Examples include \"racecar\" and 12321. Given a positive number n, check if n or the binary representation of n is palindromic. Return the following:\n",
    "    \"Decimal only.\" if only n is a palindrome.\n",
    "    \"Binary only.\" if only the binary representation of n is a palindrome.\n",
    "    \"Decimal and binary.\" if both are palindromes.\n",
    "    \"Neither!\" if neither are palindromes.\n",
    "    Examples:\n",
    "        \n",
    "    palindrome_type(1306031) ➞ \"Decimal only.\"\n",
    "    # decimal = 1306031\n",
    "    # binary  = \"100111110110110101111\"\n",
    "    \n",
    "    palindrome_type(427787) ➞ \"Binary only.\"\n",
    "    # decimal = 427787\n",
    "    # binary  = \"1101000011100001011\"\n",
    "    \n",
    "        palindrome_type(313) ➞ \"Decimal and binary.\"\n",
    "    # decimal = 313\n",
    "    # binary  = 100111001\n",
    "    \n",
    "    palindrome_type(934) ➞ \"Neither!\"\n",
    "    # decimal = 934\n",
    "    # binary  = \"1110100110\""
   ]
  },
  {
   "cell_type": "code",
   "execution_count": 39,
   "id": "52d5f6cd",
   "metadata": {},
   "outputs": [
    {
     "name": "stdout",
     "output_type": "stream",
     "text": [
      "011000000101\n"
     ]
    }
   ],
   "source": [
    "print(str(bin(2566)[2:])[::-1])"
   ]
  },
  {
   "cell_type": "code",
   "execution_count": 44,
   "id": "78500812",
   "metadata": {},
   "outputs": [
    {
     "name": "stdout",
     "output_type": "stream",
     "text": [
      "011000000101\n"
     ]
    }
   ],
   "source": [
    "print(bin(2566)[2:][::-1])"
   ]
  },
  {
   "cell_type": "code",
   "execution_count": 47,
   "id": "f023add0",
   "metadata": {},
   "outputs": [
    {
     "name": "stdout",
     "output_type": "stream",
     "text": [
      "Enter a number : 1306031\n",
      "palindrome(1306031) ➞ Decimal only.\n",
      "Enter a number : 427787\n",
      "palindrome(427787) ➞ Neither!\n",
      "Enter a number : 313\n",
      "palindrome(313) ➞ Decimal and binary.\n",
      "Enter a number : 934\n",
      "palindrome(934) ➞ Neither!\n"
     ]
    }
   ],
   "source": [
    "try:\n",
    "    def palindrome_type(n):\n",
    "        result = None\n",
    "        if str(n) == str(n)[::-1] and str(bin(n)[2:]) == str(bin(n)[2:])[::-1]:\n",
    "            result = 'Decimal and binary.'\n",
    "        elif str(n) == str(n)[::-1] and str(bin(n)[2:]) != str(bin(n)[2:])[::-1]:\n",
    "            result = 'Decimal only.'\n",
    "        elif str(bin(n)[2:]) != str(bin(n)[2:])[::-1] and str(n) == str(n)[::-1]:\n",
    "            result = 'Binary only.'\n",
    "        else:\n",
    "            result = 'Neither!'\n",
    "        print(f'palindrome({n}) ➞ {result}')\n",
    "        logging.info(f'palindrome({n}) ➞ {result}')\n",
    "except Exception as e:\n",
    "    logging.error(e)\n",
    "for i in range(4):\n",
    "    n = int(input('Enter a number : '))\n",
    "    palindrome_type(n)\n"
   ]
  },
  {
   "cell_type": "code",
   "execution_count": null,
   "id": "2f062cec",
   "metadata": {},
   "outputs": [],
   "source": []
  }
 ],
 "metadata": {
  "kernelspec": {
   "display_name": "Python 3 (ipykernel)",
   "language": "python",
   "name": "python3"
  },
  "language_info": {
   "codemirror_mode": {
    "name": "ipython",
    "version": 3
   },
   "file_extension": ".py",
   "mimetype": "text/x-python",
   "name": "python",
   "nbconvert_exporter": "python",
   "pygments_lexer": "ipython3",
   "version": "3.9.7"
  }
 },
 "nbformat": 4,
 "nbformat_minor": 5
}
