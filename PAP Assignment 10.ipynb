{
 "cells": [
  {
   "cell_type": "code",
   "execution_count": 11,
   "id": "c821cce0",
   "metadata": {},
   "outputs": [],
   "source": [
    "import logging\n",
    "\n",
    "# Create and configure logger\n",
    "logging.basicConfig(filename=\"PAP_1.log\",\n",
    "                    format='%(asctime)s %(levelname)s %(message)s :',\n",
    "                    filemode='w',\n",
    "                    level = logging.INFO)\n",
    "logging.info('this message is logging')"
   ]
  },
  {
   "cell_type": "markdown",
   "id": "fa697781",
   "metadata": {},
   "source": [
    "## 1. Create a function that takes the width, height and character and returns a picture frame as a 2D list.\n",
    "    Examples:\n",
    "    get_frame(4, 5, \"#\") ➞ [\n",
    "      [\"####\"],\n",
    "      [\"#  #\"],\n",
    "      [\"#  #\"],\n",
    "      [\"#  #\"],\n",
    "      [\"####\"]\n",
    "    ]\n",
    "    # Frame is 4 characters wide and 5 characters tall.\n",
    "    \n",
    "    get_frame(10, 3, \"*\") ➞ [\n",
    "      [\"**********\"],\n",
    "      [\"*        *\"],\n",
    "      [\"**********\"]\n",
    "    ]\n",
    "    # Frame is 10 characters and wide and 3 characters tall.\n",
    "    \n",
    "    get_frame(2, 5, \"0\") ➞ \"invalid\"\n",
    "    # Frame's width is not more than 2."
   ]
  },
  {
   "cell_type": "code",
   "execution_count": 8,
   "id": "bd72debb",
   "metadata": {},
   "outputs": [
    {
     "name": "stdout",
     "output_type": "stream",
     "text": [
      "['####']\n",
      "['#  #']\n",
      "['#  #']\n",
      "['#  #']\n",
      "['####']\n",
      "['**********']\n",
      "['*        *']\n",
      "['**********']\n",
      "Invalid\n"
     ]
    }
   ],
   "source": [
    "try:\n",
    "    def get_frame(c,r,s):\n",
    "        l = []\n",
    "        if c <= 2:\n",
    "            print('Invalid')\n",
    "        else:    \n",
    "            for i in range(r):\n",
    "                if i == 0 or i == r -1:\n",
    "                    l.append([s*c])\n",
    "                else:\n",
    "                    l.append([s + ' '*(c-2) + s])\n",
    "            for k in l:\n",
    "                print(k)\n",
    "\n",
    "except Exception as e:\n",
    "    logging.error(e)\n",
    "    \n",
    "get_frame(4, 5, \"#\")\n",
    "get_frame(10, 3, \"*\")\n",
    "get_frame(2, 5, \"0\")\n"
   ]
  },
  {
   "cell_type": "markdown",
   "id": "c3dabacf",
   "metadata": {},
   "source": [
    "## 2. Write three functions:\n",
    "    boolean_and\n",
    "    boolean_or\n",
    "    boolean_xor\n",
    "    These functions should evaluate a list of True and False values, starting from the leftmost element and evaluating         pairwise. Examples:\n",
    "    boolean_and([True, True, False, True]) ➞ False\n",
    "    # [True, True, False, True] => [True, False, True] => [False, True] => False\n",
    "\n",
    "    boolean_or([True, True, False, False]) ➞ True\n",
    "    # [True, True, False, True] => [True, False, False] => [True, False] => True\n",
    "\n",
    "    boolean_xor([True, True, False, False]) ➞ False\n",
    "    # [True, True, False, False] => [False, False, False] => [False, False] => False"
   ]
  },
  {
   "cell_type": "code",
   "execution_count": 1,
   "id": "5b54bfca",
   "metadata": {},
   "outputs": [
    {
     "name": "stdout",
     "output_type": "stream",
     "text": [
      "boolean_and([True, True, False, True]) ➞ False\n",
      "boolean_or([True, True, False, False]) ➞ True\n",
      "boolean_xor([True, True, False, False]) ➞ False\n"
     ]
    }
   ],
   "source": [
    "try:\n",
    "    def boolean_and(l):\n",
    "        l_new = l.copy()\n",
    "        while len(l_new) !=1:\n",
    "            a = l_new.pop(0)\n",
    "            b = l_new.pop(0)\n",
    "            l_new.insert(0,a and b)\n",
    "        print(f'boolean_and({l}) ➞ {l_new[0]}')\n",
    "    def boolean_or(l):\n",
    "        l_new = l.copy()\n",
    "        while len(l_new) !=1:\n",
    "            a = l_new.pop(0)\n",
    "            b = l_new.pop(0)\n",
    "            l_new.insert(0,a or b)\n",
    "        print(f\"boolean_or({l}) ➞ {l_new[0]}\")    \n",
    "    def boolean_xor(l):\n",
    "        l_new = l.copy()\n",
    "        while len(l_new) !=1:\n",
    "            a = l_new.pop(0)\n",
    "            b = l_new.pop(0)\n",
    "            l_new.insert(0,a ^ b)\n",
    "        print(f\"boolean_xor({l}) ➞ {l_new[0]}\")\n",
    "                \n",
    "except Exeception as e:\n",
    "    l_newogging.error(e)\n",
    "    \n",
    "boolean_and([True, True, False, True])\n",
    "boolean_or([True, True, False, False])\n",
    "boolean_xor([True, True, False, False])\n",
    "    "
   ]
  },
  {
   "cell_type": "markdown",
   "id": "5fdf9ed6",
   "metadata": {},
   "source": [
    "## 3. Create a function that creates a box based on dimension n.\n",
    "    Examples:\n",
    "    make_box(5) ➞ [\n",
    "      \"#####\",\n",
    "      \"#   #\",\n",
    "      \"#   #\",\n",
    "      \"#   #\",\n",
    "      \"#####\"\n",
    "    ]\n",
    "\n",
    "    make_box(3) ➞ [\n",
    "      \"###\",\n",
    "      \"# #\",\n",
    "      \"###\"\n",
    "    ]\n",
    "    \n",
    "    make_box(2) ➞ [\n",
    "      \"##\",\n",
    "      \"##\"\n",
    "    ]\n",
    "    \n",
    "    make_box(1) ➞ [\n",
    "      \"#\"\n",
    "    ]"
   ]
  },
  {
   "cell_type": "code",
   "execution_count": 26,
   "id": "6082a94d",
   "metadata": {},
   "outputs": [
    {
     "name": "stdout",
     "output_type": "stream",
     "text": [
      "make_box(5) :\n",
      "#####,\n",
      "#    #,\n",
      "#    #,\n",
      "#    #,\n",
      "#####,\n",
      "make_box(2) :\n",
      "##,\n",
      "##,\n",
      "make_box(1) :\n",
      "#,\n"
     ]
    }
   ],
   "source": [
    "def make_box(n):\n",
    "    result = []\n",
    "    for i in range(1,n+1):\n",
    "        if i == 1 or i == n:\n",
    "            result.append('#'*n)\n",
    "        else:\n",
    "            result.append('#' + ' '*(n-1) + '#')\n",
    "    print(f\"make_box({n}) :\")\n",
    "    for j in result:\n",
    "        print(j,end = ',\\n')\n",
    "        \n",
    "make_box(5)   \n",
    "make_box(2)\n",
    "make_box(1)\n",
    "            "
   ]
  },
  {
   "cell_type": "markdown",
   "id": "1d9157f2",
   "metadata": {},
   "source": [
    "## 4. Given a common phrase, return False if any individual word in the phrase contains duplicate letters. Return True otherwise.\n",
    "    Examples:\n",
    "    no_duplicate_letters(\"Fortune favours the bold.\") ➞ True\n",
    "    no_duplicate_letters(\"You can lead a horse to water, but you can't make him drink.\") ➞ True\n",
    "    no_duplicate_letters(\"Look before you leap.\") ➞ False\n",
    "    # Duplicate letters in \"Look\" and \"before\".\n",
    "    no_duplicate_letters(\"An apple a day keeps the doctor away.\") ➞ False\n",
    "    # Duplicate letters in \"apple\", \"keeps\", \"doctor\", and \"away\"."
   ]
  },
  {
   "cell_type": "code",
   "execution_count": 39,
   "id": "dbe5bc87",
   "metadata": {},
   "outputs": [
    {
     "name": "stdout",
     "output_type": "stream",
     "text": [
      "enter a string : An apple a day keeps the doctor away.\n",
      "False\n",
      "enter a string : Look before you leap.\n",
      "False\n",
      "enter a string : You can lead a horse to water, but you can't make him drink.\n",
      "True\n",
      "enter a string : Fortune favours the bold.\n",
      "True\n"
     ]
    }
   ],
   "source": [
    "try :\n",
    "    def no_duplicate_letters(s):\n",
    "        flag = False\n",
    "        for i in s.split():\n",
    "            i_new = set(i)\n",
    "            if len(i) == len(i_new):\n",
    "                flag = True\n",
    "            else:\n",
    "                flag = False\n",
    "                break\n",
    "        if flag == True:\n",
    "            logging.info(True)\n",
    "            print(True)\n",
    "        else :\n",
    "            print(False)\n",
    "except Exception as e:\n",
    "    logging.error(e)\n",
    "    \n",
    "for i in range(4):\n",
    "    s = input(\"enter a string : \")\n",
    "    no_duplicate_letters(s)"
   ]
  },
  {
   "cell_type": "markdown",
   "id": "bbf4d1f9",
   "metadata": {},
   "source": [
    "## 5. Write a regular expression that will match the states that voted yes to President Trump's impeachment. You must use RegEx positive lookahead.\n",
    "    Examples:\n",
    "    txt = \"Texas = no, California = yes, Florida = yes, Michigan = no\"\n",
    "    pattern = \"yourregularexpressionhere\"\n",
    "    re.findall(pattern, txt) ➞ [\"California\", \"Florida\"]\n",
    "\n"
   ]
  },
  {
   "cell_type": "code",
   "execution_count": 44,
   "id": "ac6892ff",
   "metadata": {},
   "outputs": [
    {
     "name": "stdout",
     "output_type": "stream",
     "text": [
      "re.findall('\\\\w+(?=\\\\s=\\\\syes*)', 'Texas = no, California = yes, Florida = yes, Michigan = no  /n') ➞ ['California', 'Florida']\n"
     ]
    }
   ],
   "source": [
    "import re\n",
    "txt = \"Texas = no, California = yes, Florida = yes, Michigan = no\"\n",
    "pattern = r'\\w+(?=\\s=\\syes*)'\n",
    "match = re.findall(pattern,txt)\n",
    "print(f're.findall{pattern,txt} ➞ {match}')"
   ]
  },
  {
   "cell_type": "code",
   "execution_count": null,
   "id": "c635a264",
   "metadata": {},
   "outputs": [],
   "source": []
  },
  {
   "cell_type": "code",
   "execution_count": null,
   "id": "16c7ac8a",
   "metadata": {},
   "outputs": [],
   "source": []
  }
 ],
 "metadata": {
  "kernelspec": {
   "display_name": "Python 3 (ipykernel)",
   "language": "python",
   "name": "python3"
  },
  "language_info": {
   "codemirror_mode": {
    "name": "ipython",
    "version": 3
   },
   "file_extension": ".py",
   "mimetype": "text/x-python",
   "name": "python",
   "nbconvert_exporter": "python",
   "pygments_lexer": "ipython3",
   "version": "3.9.7"
  }
 },
 "nbformat": 4,
 "nbformat_minor": 5
}
