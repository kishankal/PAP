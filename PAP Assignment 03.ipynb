{
 "cells": [
  {
   "cell_type": "markdown",
   "id": "c67fe178",
   "metadata": {},
   "source": [
    "## 1.Create a function to perform basic arithmetic operations that includes addition, subtraction, multiplication and division on a string number (e.g. \"12 + 24\" or \"23 - 21\" or \"12 // 12\" or \"12 * 21\")."
   ]
  },
  {
   "cell_type": "markdown",
   "id": "73c10a74",
   "metadata": {},
   "source": [
    "    Here, we have 1 followed by a space, operator followed by another space and 2. For the challenge, we are going to have     only two numbers between 1 valid operator. The return value should be a number.\n",
    "    eval() is not allowed. In case of division, whenever the second number equals \"0\" return -1.\n",
    "    For example: \"15 // 0\"  ➞ -1\n",
    "    Examples:\n",
    "    arithmetic_operation(\"12 + 12\") ➞ 24 // 12 + 12 = 24\n",
    "    arithmetic_operation(\"12 - 12\") ➞ 24 // 12 - 12 = 0\n",
    "    arithmetic_operation(\"12 * 12\") ➞ 144 // 12 * 12 = 144\n",
    "    arithmetic_operation(\"12 // 0\") ➞ -1 // 12 / 0 = -1"
   ]
  },
  {
   "cell_type": "code",
   "execution_count": 5,
   "id": "6c0976fa",
   "metadata": {},
   "outputs": [],
   "source": [
    "import logging\n",
    "\n",
    "# Create and configure logger\n",
    "logging.basicConfig(filename=\"PAP_1.log\",\n",
    "                    format='%(asctime)s %(levelname)s %(message)s :',\n",
    "                    filemode='w',\n",
    "                    level = logging.INFO)\n",
    "logging.info('this message is logging')"
   ]
  },
  {
   "cell_type": "code",
   "execution_count": 13,
   "id": "e5756135",
   "metadata": {},
   "outputs": [
    {
     "name": "stdout",
     "output_type": "stream",
     "text": [
      "Enter a string like 26 + 58 for calculation : 12 // 0\n",
      "arithmetic_operation(12 // 0) ➞ -1\n",
      "Enter a string like 26 + 58 for calculation : 12 - 12\n",
      "arithmetic_operation(12 - 12) ➞ 0\n",
      "Enter a string like 26 + 58 for calculation : 12 + 12\n",
      "arithmetic_operation(12 + 12) ➞ 24\n"
     ]
    }
   ],
   "source": [
    "import operator\n",
    "try :\n",
    "    def arithmetic_operation(s):\n",
    "        ops = {'+' : operator.add,'-' : operator.sub,'*' : operator.mul,'//' : operator.floordiv}\n",
    "        s_new = s.split()\n",
    "        cal = ops[s_new[1]](int(s_new[0]),int(s_new[2])) if int(s_new[2]) !=0 else -1\n",
    "        logging.info(f'arithmetic_operation({s_new[0]} {s_new[1]} {s_new[2]}) ➞ {cal}')\n",
    "        print(f'arithmetic_operation({s_new[0]} {s_new[1]} {s_new[2]}) ➞ {cal}')\n",
    "except Exception as e:\n",
    "    logging.error(e)\n",
    "for i in range(3):\n",
    "    s = input(\"Enter a string like 26 + 58 for calculation : \")\n",
    "    arithmetic_operation(s)\n",
    "    "
   ]
  },
  {
   "cell_type": "markdown",
   "id": "13fd20d0",
   "metadata": {},
   "source": [
    "## 2.Write a function that takes the coordinates of three points in the form of a 2d array and returns the perimeter of the triangle. The given points are the vertices of a triangle on a two-dimensional plane.\n",
    "    Examples:\n",
    "    perimeter( [ [15, 7], [5, 22], [11, 1] ] ) ➞ 47.08\n",
    "    perimeter( [ [0, 0], [0, 1], [1, 0] ] ) ➞ 3.42\n",
    "    perimeter( [ [-10, -10], [10, 10 ], [-10, 10] ] ) ➞ 68.28"
   ]
  },
  {
   "cell_type": "code",
   "execution_count": 15,
   "id": "1bce990c",
   "metadata": {},
   "outputs": [
    {
     "name": "stdout",
     "output_type": "stream",
     "text": [
      "perimeter([[15, 7], [5, 22], [11, 1]]) ➞ 47.08\n",
      "perimeter([[0, 0], [0, 1], [1, 0]]) ➞ 3.41\n",
      "perimeter([[-10, -10], [10, 10], [-10, 10]]) ➞ 68.28\n"
     ]
    }
   ],
   "source": [
    "import math\n",
    "try : \n",
    "    def distance(a,b):\n",
    "        return math.sqrt(pow((b[1]-a[1]),2)+pow((b[0]-a[0]),2))\n",
    "\n",
    "    def perimeter(in_array):\n",
    "        perimeter = []\n",
    "        for ele in range(len(in_array)):\n",
    "            if ele == len(in_array)-1:\n",
    "                perimeter.append(distance(in_array[ele],in_array[0]))\n",
    "            else:\n",
    "                perimeter.append(distance(in_array[ele],in_array[ele+1]))\n",
    "        logging.info(f'perimeter({in_array}) ➞ {sum(perimeter):.2f}')\n",
    "        print(f'perimeter({in_array}) ➞ {sum(perimeter):.2f}')\n",
    "except Exception as e:\n",
    "    logging.error(e)\n",
    "\n",
    "perimeter([[15,7],[5,22],[11,1]])\n",
    "perimeter([[0,0],[0,1],[1,0]])\n",
    "perimeter([[-10,-10],[10,10],[-10,10]])"
   ]
  },
  {
   "cell_type": "markdown",
   "id": "6c38a58b",
   "metadata": {},
   "source": [
    "## 3.A city skyline can be represented as a 2-D list with 1s representing buildings. In the example below, the height of the tallest building is 4 (second-most right column).\n",
    "    [[0, 0, 0, 0, 0, 0],\n",
    "    [0, 0, 0, 0, 1, 0],\n",
    "    [0, 0, 1, 0, 1, 0],\n",
    "    [0, 1, 1, 1, 1, 0],\n",
    "    [1, 1, 1, 1, 1, 1]]\n",
    "    Create a function that takes a skyline (2-D list of 0's and 1's) and returns the height of the tallest skyscraper.\n",
    "    Examples:\n",
    "    tallest_skyscraper([[0, 0, 0, 0],[0, 1, 0, 0],[0, 1, 1, 0],[1, 1, 1, 1]]) ➞ 3\n",
    "    tallest_skyscraper([[0, 1, 0, 0],[0, 1, 0, 0],[0, 1, 1, 0],[1, 1, 1, 1]]) ➞ 4\n",
    "    tallest_skyscraper([[0, 0, 0, 0],[0, 0, 0, 0],[1, 1, 1, 0],[1, 1, 1, 1]]) ➞ 2"
   ]
  },
  {
   "cell_type": "code",
   "execution_count": 34,
   "id": "dc5fd953",
   "metadata": {},
   "outputs": [
    {
     "name": "stdout",
     "output_type": "stream",
     "text": [
      "tallest_skyscraper([[0, 0, 0, 0], [0, 1, 0, 0], [0, 1, 1, 0], [1, 1, 1, 1]]) ➞ 3\n",
      "tallest_skyscraper([[0, 1, 0, 0], [0, 1, 0, 0], [0, 1, 1, 0], [1, 1, 1, 1]]) ➞ 4\n",
      "tallest_skyscraper([[0, 0, 0, 0], [0, 0, 0, 0], [1, 1, 1, 0], [1, 1, 1, 1]]) ➞ 2\n"
     ]
    }
   ],
   "source": [
    "try :\n",
    "    def tallest_skyscraper(l):\n",
    "        flag = 0\n",
    "        count = 0\n",
    "        a = len(l)\n",
    "        for i in l:\n",
    "            for j in i:\n",
    "                if j == 1:\n",
    "                    flag = 1\n",
    "            if flag == 0:\n",
    "                count += 1 \n",
    "                \n",
    "        logging.info(f'tallest_skyscraper({l}) ➞ {a - count}')\n",
    "        print(f'tallest_skyscraper({l}) ➞ {a - count}')\n",
    "        \n",
    "\n",
    "except Exception as e:\n",
    "    logging.error(e)\n",
    "    \n",
    "tallest_skyscraper([[0, 0, 0, 0],[0, 1, 0, 0],[0, 1, 1, 0],[1, 1, 1, 1]])\n",
    "tallest_skyscraper([[0, 1, 0, 0],[0, 1, 0, 0],[0, 1, 1, 0],[1, 1, 1, 1]])\n",
    "tallest_skyscraper([[0, 0, 0, 0],[0, 0, 0, 0],[1, 1, 1, 0],[1, 1, 1, 1]])"
   ]
  },
  {
   "cell_type": "code",
   "execution_count": 23,
   "id": "d47ff762",
   "metadata": {},
   "outputs": [
    {
     "data": {
      "text/plain": [
       "4"
      ]
     },
     "execution_count": 23,
     "metadata": {},
     "output_type": "execute_result"
    }
   ],
   "source": [
    "a = [[0, 0, 0, 0],[0, 1, 0, 0],[0, 1, 1, 0],[1, 1, 1, 1]]\n",
    "len(a)"
   ]
  },
  {
   "cell_type": "markdown",
   "id": "49b858fa",
   "metadata": {},
   "source": [
    "## 4.A financial institution provides professional services to banks and claims charges from the customers based on the number of man-days provided. Internally, it has set a scheme to motivate and reward staff to meet and exceed targeted billable utilization and revenues by paying a bonus for each day claimed from customers in excess of a threshold target.\n",
    "\n",
    "    This quarterly scheme is calculated with a threshold target of 32 days per quarter, and the incentive payment for each     billable day in excess of such threshold target is shown as follows:\n",
    "\n",
    "    Days                             Bonus  \n",
    "    0 to 32 days                     Zero  \n",
    "    33 to 40 days                    SGD$325 per billable day  \n",
    "41 to 48 days                    SGD$550 per billable day  \n",
    "    Greater than 48 days             SGD$600 per billable day\n",
    "\n",
    "    Please note that incentive payment is calculated progressively. As an example, if an employee reached total billable       days of 45 in a quarter, his/her incentive payment is computed as follows:\n",
    "    32*0 + 8*325 + 5*550 = 5350\n",
    "    Write a function to read the billable days of an employee and return the bonus he/she has obtained in that quarter.\n",
    "\n",
    "    Examples:\n",
    "    bonus(15) ➞ 0\n",
    "    bonus(37) ➞ 1625\n",
    "    bonus(50) ➞ 8200"
   ]
  },
  {
   "cell_type": "code",
   "execution_count": 36,
   "id": "a65d250b",
   "metadata": {},
   "outputs": [
    {
     "name": "stdout",
     "output_type": "stream",
     "text": [
      "bonus(15) ➞ 0\n",
      "bonus(44) ➞ 4800\n",
      "bonus(37) ➞ 1625\n",
      "bonus(50) ➞ 8200\n",
      "bonus(60) ➞ 14200\n"
     ]
    }
   ],
   "source": [
    "try  :\n",
    "    def bonus(int_num):\n",
    "        if int_num > 48:\n",
    "            output = 0+(8*325)+(8*550)+((int_num-48)*600)\n",
    "        elif int_num < 48 and int_num >= 41:\n",
    "            output = 0+(8*325)+((int_num-41+1)*550)\n",
    "        elif int_num >33 and int_num <= 40:\n",
    "            output = 0+((int_num-33+1)*325)\n",
    "        else:\n",
    "            output = 0\n",
    "        logging.info(f'bonus({int_num}) ➞ {output}')\n",
    "        print(f'bonus({int_num}) ➞ {output}')\n",
    "        \n",
    "except Exception  as e :\n",
    "    logging.error(e)\n",
    "bonus(15)\n",
    "bonus(44)\n",
    "bonus(37)\n",
    "bonus(50)\n",
    "bonus(60)\n",
    "    \n",
    "            \n",
    "             "
   ]
  },
  {
   "cell_type": "markdown",
   "id": "36352633",
   "metadata": {},
   "source": [
    "## 5.A number is said to be Disarium if the sum of its digits raised to their respective positions is the number itself.\n",
    "    Create a function that determines whether a number is a Disarium or not.\n",
    "    Examples:\n",
    "    \n",
    "    is_disarium(75) ➞ False\n",
    "    # 7^1 + 5^2 = 7 + 25 = 32\n",
    "    \n",
    "    is_disarium(135) ➞ True\n",
    "    # 1^1 + 3^2 + 5^3 = 1 + 9 + 125 = 135\n",
    "    \n",
    "    is_disarium(544) ➞ False\n",
    "    is_disarium(518) ➞ True\n",
    "    is_disarium(466) ➞ False\n",
    "    is_disarium(8) ➞ True"
   ]
  },
  {
   "cell_type": "code",
   "execution_count": 58,
   "id": "79f2885b",
   "metadata": {},
   "outputs": [
    {
     "name": "stdout",
     "output_type": "stream",
     "text": [
      "enter a number to check it's disarium or not : 8\n",
      "is_disarium(8) ➞ True\n",
      "enter a number to check it's disarium or not : 544\n",
      "False\n",
      "enter a number to check it's disarium or not : 518\n",
      "is_disarium(518) ➞ True\n",
      "enter a number to check it's disarium or not : 466\n",
      "False\n"
     ]
    }
   ],
   "source": [
    "import math \n",
    "try :\n",
    "    def is_disarium(s):\n",
    "        sum_ = 0\n",
    "        for i in range(len(s)):\n",
    "            sum_ += int(pow(int(s[i]),i+1))\n",
    "            \n",
    "        if sum_ == int(s):\n",
    "            output=True\n",
    "            print(f'is_disarium({s}) ➞ {output}')\n",
    "        else:\n",
    "            print('False')\n",
    "    \n",
    "except Exception as e :\n",
    "    logging.error(e)\n",
    "\n",
    "for j in range(4):\n",
    "    s = input(\"enter a number to check it's disarium or not : \")\n",
    "    is_disarium(s)\n",
    "        "
   ]
  }
 ],
 "metadata": {
  "kernelspec": {
   "display_name": "Python 3 (ipykernel)",
   "language": "python",
   "name": "python3"
  },
  "language_info": {
   "codemirror_mode": {
    "name": "ipython",
    "version": 3
   },
   "file_extension": ".py",
   "mimetype": "text/x-python",
   "name": "python",
   "nbconvert_exporter": "python",
   "pygments_lexer": "ipython3",
   "version": "3.9.7"
  }
 },
 "nbformat": 4,
 "nbformat_minor": 5
}
