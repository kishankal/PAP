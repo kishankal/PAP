{
 "cells": [
  {
   "cell_type": "code",
   "execution_count": 1,
   "id": "39feb6d6",
   "metadata": {},
   "outputs": [],
   "source": [
    "import logging\n",
    "\n",
    "# Create and configure logger\n",
    "logging.basicConfig(filename=\"PAP_1.log\",\n",
    "                    format='%(asctime)s %(levelname)s %(message)s :',\n",
    "                    filemode='w',\n",
    "                    level = logging.INFO)\n",
    "logging.info('this message is logging')"
   ]
  },
  {
   "cell_type": "markdown",
   "id": "4e1cc33b",
   "metadata": {},
   "source": [
    "## 1. Create a function that transposes a 2D matrix.\n",
    "    Examples:\n",
    "\n",
    "    transpose_matrix([\n",
    "                      [1, 1, 1],\n",
    "                      [2, 2, 2],\n",
    "                      [3, 3, 3]\n",
    "                    ]) ➞ [\n",
    "                      [1, 2, 3],\n",
    "                      [1, 2, 3],\n",
    "                      [1, 2, 3]\n",
    "                    ]\n",
    "    \n",
    "                transpose_matrix([\n",
    "                      [5, 5],\n",
    "                      [6, 7],\n",
    "                      [9, 1]\n",
    "                    ]) ➞ [\n",
    "                      [5, 6, 9],\n",
    "                      [5, 7, 1]\n",
    "                    ]"
   ]
  },
  {
   "cell_type": "code",
   "execution_count": 13,
   "id": "bef2892e",
   "metadata": {},
   "outputs": [
    {
     "name": "stdout",
     "output_type": "stream",
     "text": [
      "[[1, 2, 3], [1, 2, 3], [1, 2, 3]]\n",
      "[[5, 6, 9], [5, 7, 1]]\n"
     ]
    }
   ],
   "source": [
    "try:\n",
    "    def transpose_matrix(l):\n",
    "        x = 0\n",
    "        column_len = len(l[0])\n",
    "        result = []\n",
    "        while True:\n",
    "            l_new = []\n",
    "            for i in l:\n",
    "                l_new.append(i[x])\n",
    "            result.append(l_new)\n",
    "            if x == column_len-1:\n",
    "                print(result)\n",
    "                logging.info(result)\n",
    "                break\n",
    "            else:\n",
    "                x += 1\n",
    "except Exception as e:\n",
    "    logging.error(e)\n",
    "    \n",
    "transpose_matrix([\n",
    "                  [1, 1, 1],\n",
    "                  [2, 2, 2],\n",
    "                  [3, 3, 3]\n",
    "                ])\n",
    "\n",
    "transpose_matrix([\n",
    "    [5, 5],\n",
    "    [6, 7],\n",
    "    [9, 1]\n",
    "                ])"
   ]
  },
  {
   "cell_type": "markdown",
   "id": "1d8adeda",
   "metadata": {},
   "source": [
    "## 2. Create a function that determines whether a string is a valid hex code.\n",
    "    A hex code must begin with a pound key # and is exactly 6 characters in length. Each character must be a digit from 0-9     or an alphabetic character from A-F. All alphabetic characters may be uppercase or lowercase.\n",
    "\n",
    "    Examples:\n",
    "    is_valid_hex_code(\"#CD5C5C\") ➞ True\n",
    "    is_valid_hex_code(\"#EAECEE\") ➞ True\n",
    "    is_valid_hex_code(\"#eaecee\") ➞ True\n",
    "\n",
    "    is_valid_hex_code(\"#CD5C58C\") ➞ False\n",
    "### Length exceeds 6\n",
    "    \n",
    "    \n",
    "    \n",
    "    is_valid_hex_code(\"#CD5C5Z\") ➞ False\n",
    "### Not all alphabetic characters in A-F\n",
    "    \n",
    "    \n",
    "    \n",
    "    is_valid_hex_code(\"#CD5C&C\") ➞ False\n",
    "### Contains unacceptable character\n",
    "    \n",
    "    \n",
    "    \n",
    "    is_valid_hex_code(\"CD5C5C\") ➞ False\n",
    "### Missing #"
   ]
  },
  {
   "cell_type": "code",
   "execution_count": 33,
   "id": "39f3e567",
   "metadata": {},
   "outputs": [
    {
     "name": "stdout",
     "output_type": "stream",
     "text": [
      "is_valid_hex_code(#CD5C5C) ➞ True\n",
      "is_valid_hex_code(#EAECEE) ➞ True\n",
      "is_valid_hex_code(#eaecee) ➞ True\n",
      "is_valid_hex_code(#CD5C58C) ➞ False\n",
      "is_valid_hex_code(#CD5C5Z) ➞ False\n",
      "is_valid_hex_code(#CD5C&C) ➞ False\n",
      "is_valid_hex_code(CD5C5C) ➞ False\n"
     ]
    }
   ],
   "source": [
    "try:\n",
    "    def is_valid_hex_code(s):\n",
    "        result = True\n",
    "        for i in s:\n",
    "            if s.islower() == True or s.isupper() == True:\n",
    "                if i.lower() not in '#abcdef0123456789' or len(s) != 7:\n",
    "                    result = False\n",
    "        print(f'is_valid_hex_code({s}) ➞ {result}')\n",
    "\n",
    "\n",
    "            \n",
    "except Eaception as e:\n",
    "    logging.error(e)\n",
    "is_valid_hex_code(\"#CD5C5C\")\n",
    "is_valid_hex_code(\"#EAECEE\")\n",
    "is_valid_hex_code(\"#eaecee\")\n",
    "is_valid_hex_code(\"#CD5C58C\")\n",
    "is_valid_hex_code(\"#CD5C5Z\")\n",
    "is_valid_hex_code(\"#CD5C&C\")\n",
    "is_valid_hex_code(\"CD5C5C\")"
   ]
  },
  {
   "cell_type": "markdown",
   "id": "0def1851",
   "metadata": {},
   "source": [
    "## 3. Given a list of math equations (given as strings), return the percentage of correct answers as a string. Round to the nearest whole number.\n",
    "    Examples:\n",
    "    mark_maths([\"2+2=4\", \"3+2=5\", \"10-3=3\", \"5+5=10\"]) ➞ \"75%\"\n",
    "    mark_maths([\"1-2=-2\"]) ➞ \"0%\"\n",
    "    mark_maths([\"2+3=5\", \"4+4=9\", \"3-1=2\"]) ➞ \"67%\""
   ]
  },
  {
   "cell_type": "code",
   "execution_count": 36,
   "id": "7077e12f",
   "metadata": {},
   "outputs": [
    {
     "name": "stdout",
     "output_type": "stream",
     "text": [
      "mark_maths(['2+2=4', '3+2=5', '10-3=3', '5+5=10']) ➞ 75%\n",
      "mark_maths(['1-2=-2']) ➞ 0%\n",
      "mark_maths(['2+3=5', '4+4=9', '3-1=2']) ➞ 67%\n"
     ]
    }
   ],
   "source": [
    "import math\n",
    "try:\n",
    "    def mark_maths(l):\n",
    "        l_new = []\n",
    "        for i in l:\n",
    "            i = i.split('=')\n",
    "            l_new.append(eval(i[0]) == int(i[1]))\n",
    "        print(f'mark_maths({l}) ➞ {str(math.ceil((sum(l_new)/len(l_new))*100))}%')\n",
    "        logging.info(f'mark_maths({l}) ➞ {str(math.ceil((sum(l_new)/len(l_new))*100))}%')              \n",
    "except Exception as e:\n",
    "    logging.error(e)\n",
    "mark_maths([\"2+2=4\", \"3+2=5\", \"10-3=3\", \"5+5=10\"])\n",
    "mark_maths([\"1-2=-2\"])\n",
    "mark_maths([\"2+3=5\", \"4+4=9\", \"3-1=2\"])"
   ]
  },
  {
   "cell_type": "markdown",
   "id": "bb43a0e7",
   "metadata": {},
   "source": [
    "## 4. There are two players, Alice and Bob, each with a 3-by-3 grid. A referee tells Alice to fill out one particular row in the grid (say the second row) by putting either a 1 or a 0 in each box, such that the sum of the numbers in that row is odd. The referee tells Bob to fill out one column in the grid (say the first column) by putting either a 1 or a 0 in each box, such that the sum of the numbers in that column is even.\n",
    "    Alice and Bob win the game if Alice’s numbers give an odd sum, Bob’s give an even sum, and (most important) they’ve         each written down the same number in the one square where their row and column intersect.\n",
    "\n",
    "    Examples:\n",
    "    magic_square_game([2, \"100\"], [1, \"101\"]) ➞ False\n",
    "    magic_square_game([2, \"001\"], [1, \"101\"]) ➞ True\n",
    "    magic_square_game([3, \"111\"], [2, \"011\"]) ➞ True\n",
    "    magic_square_game([1, \"010\"], [3, \"101\"]) ➞ False\n",
    "    # Two lists, Alice [row, \"her choice\"], Bob [column, \"his choice\"]"
   ]
  },
  {
   "cell_type": "code",
   "execution_count": 37,
   "id": "2fac3b00",
   "metadata": {},
   "outputs": [
    {
     "name": "stdout",
     "output_type": "stream",
     "text": [
      "magic_square_game([2, '100'], [1, '101']) ➞ False\n",
      "magic_square_game([2, '001'], [1, '101']) ➞ True\n",
      "magic_square_game([3, '111'], [2, '011']) ➞ True\n",
      "magic_square_game([1, '010'], [3, '101']) ➞ False\n"
     ]
    }
   ],
   "source": [
    "try:\n",
    "    def magic_square_game(l1,l2):\n",
    "        result = False\n",
    "        if l2[1][l1[0]-1] == l1[1][l2[0]-1]:\n",
    "            result = True\n",
    "        print(f'magic_square_game{l1,l2} ➞ {result}')\n",
    "        logging.info(f'magic_square_game{l1,l2} ➞ {result}')\n",
    "        \n",
    "except Exception as e:\n",
    "    logging.error(e)\n",
    "    \n",
    "magic_square_game([2, \"100\"], [1, \"101\"])\n",
    "magic_square_game([2, \"001\"], [1, \"101\"]) \n",
    "magic_square_game([3, \"111\"], [2, \"011\"]) \n",
    "magic_square_game([1, \"010\"], [3, \"101\"]) "
   ]
  },
  {
   "cell_type": "markdown",
   "id": "40106184",
   "metadata": {},
   "source": [
    "## 5. From point A, an object is moving towards point B at constant velocity va (in km/hr). From point B, another object is moving towards point A at constant velocity vb (in km/hr). Knowing this and the distance between point A and B (in km), write a function that returns how much time passes until both objects meet.\n",
    "    Format the output like this: \"2h 23min 34s\"\n",
    "\n",
    "    Examples:\n",
    "    lets_meet(100, 10, 30) ➞ \"2h 30min 0s\"\n",
    "    lets_meet(280, 70, 80) ➞ \"1h 52min 0s\"\n",
    "    lets_meet(90, 75, 65) ➞ \"0h 38min 34s\""
   ]
  },
  {
   "cell_type": "code",
   "execution_count": 40,
   "id": "c1966e28",
   "metadata": {},
   "outputs": [
    {
     "name": "stdout",
     "output_type": "stream",
     "text": [
      "lets_meet((100, 10, 30)) ➞ '2h 30min 0s'\n",
      "lets_meet((280, 70, 80)) ➞ '1h 52min 0s'\n",
      "lets_meet((90, 75, 65)) ➞ '0h 38min 34s'\n"
     ]
    }
   ],
   "source": [
    "from math import floor\n",
    "try:\n",
    "    def lets_meet(TD,va,vb):\n",
    "        total_time = TD/(va+vb)\n",
    "        hrs = floor(total_time)\n",
    "        mins = floor((total_time - hrs)*60)\n",
    "        secs = floor((((total_time - hrs)*60) - mins)*60)\n",
    "        print(f\"lets_meet({TD,va,vb}) ➞ '{hrs}h {mins}min {secs}s'\")\n",
    "        logging.info(f\"lets_meet({TD,va,vb}) ➞ '{hrs}h {mins}min {secs}s'\")\n",
    "        \n",
    "except Exeption as e:\n",
    "    logging.error(e)\n",
    "    \n",
    "lets_meet(100, 10, 30)\n",
    "lets_meet(280, 70, 80)\n",
    "lets_meet(90, 75, 65)"
   ]
  },
  {
   "cell_type": "code",
   "execution_count": null,
   "id": "929aecf9",
   "metadata": {},
   "outputs": [],
   "source": []
  }
 ],
 "metadata": {
  "kernelspec": {
   "display_name": "Python 3 (ipykernel)",
   "language": "python",
   "name": "python3"
  },
  "language_info": {
   "codemirror_mode": {
    "name": "ipython",
    "version": 3
   },
   "file_extension": ".py",
   "mimetype": "text/x-python",
   "name": "python",
   "nbconvert_exporter": "python",
   "pygments_lexer": "ipython3",
   "version": "3.9.7"
  }
 },
 "nbformat": 4,
 "nbformat_minor": 5
}
