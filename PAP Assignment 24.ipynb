{
 "cells": [
  {
   "cell_type": "code",
   "execution_count": 4,
   "id": "39ffcd8a",
   "metadata": {},
   "outputs": [],
   "source": [
    "import logging\n",
    "\n",
    "# Create and configure logger\n",
    "logging.basicConfig(filename=\"PAP_1.log\",\n",
    "                    format='%(asctime)s %(levelname)s %(message)s :',\n",
    "                    filemode='w',\n",
    "                    level = logging.INFO)\n",
    "logging.info('this message is logging')"
   ]
  },
  {
   "cell_type": "markdown",
   "id": "d4756f2f",
   "metadata": {},
   "source": [
    "## 1. Implement a class iterator to flatten a nested list of lists of integers. Each list element is either an integer or a list. There can be many levels of nested lists in lists.\n",
    "    The class initializes with a nested list. It also has two methods:\n",
    "\n",
    "    next() returns an integer in the order of appearance.\n",
    "    hasNext() returns True / False regarding if all integers have been retrieved or not.\n",
    "    Write the Class implementation for three required methods.\n",
    "\n",
    "    Examples:\n",
    "    \n",
    "    ni, actual = NestedIterator([[1, 1], 2, [1, 1]]), []\n",
    "    while ni.hasNext():\n",
    "        actual.append(ni.next())\n",
    "    actual ➞ [1, 1, 2, 1, 1]\n",
    "    \n",
    "    ni, actual = NestedIterator([1, [4, [6]]]), []\n",
    "    while ni.hasNext():\n",
    "        actual.append(ni.next())\n",
    "    actual ➞ [1, 4, 6]\n",
    "    \n",
    "    ni, actual = NestedIterator([[[]], []]), []\n",
    "    while ni.hasNext():\n",
    "        actual.append(ni.next())\n",
    "    actual ➞ []\n",
    "\n"
   ]
  },
  {
   "cell_type": "code",
   "execution_count": 3,
   "id": "a3d7e3dd",
   "metadata": {},
   "outputs": [
    {
     "name": "stdout",
     "output_type": "stream",
     "text": [
      "actual ➞ [1, 1, 2, 1, 1]\n",
      "actual ➞ [1, 4, 6]\n",
      "actual ➞ []\n"
     ]
    }
   ],
   "source": [
    "try:\n",
    "    class NestedIterator:\n",
    "        def __init__(self,l):\n",
    "            self.list = l\n",
    "            self.flat_l = []\n",
    "            self.test(self.list)\n",
    "    \n",
    "        def test(self,l):\n",
    "            for ele in l:\n",
    "                if isinstance(ele,int):\n",
    "                    self.flat_l.append(ele)\n",
    "                else:\n",
    "                    self.test(ele)\n",
    "                \n",
    "        def hasNext(self):\n",
    "            return True if len(self.flat_l) > 0 else False\n",
    "    \n",
    "        def next(self):\n",
    "            return self.flat_l.pop(0)\n",
    "    \n",
    "    \n",
    "except Exception as e:        \n",
    "    logging.error(e)\n",
    "ni, actual = NestedIterator([[1, 1], 2, [1, 1]]), []\n",
    "while ni.hasNext():\n",
    "    actual.append(ni.next())\n",
    "print(f'actual ➞ {actual}')\n",
    "logging.info(f'actual ➞ {actual}')\n",
    "    \n",
    "ni, actual = NestedIterator([1, [4, [6]]]), []\n",
    "while ni.hasNext():\n",
    "    actual.append(ni.next())\n",
    "print(f'actual ➞ {actual}')\n",
    "logging.info(f'actual ➞ {actual}')\n",
    "\n",
    "ni, actual = NestedIterator([[[]], []]), []\n",
    "while ni.hasNext():\n",
    "    actual.append(ni.next())\n",
    "print(f'actual ➞ {actual}')\n",
    "logging.info(f'actual ➞ {actual}')"
   ]
  },
  {
   "cell_type": "markdown",
   "id": "14272e08",
   "metadata": {},
   "source": [
    "## 2. Given a 3x3 matrix of a completed tic-tac-toe game, create a function that returns whether the game is a win for \"X\", \"O\", or a \"Draw\", where \"X\" and \"O\" represent themselves on the matrix, and \"E\" represents an empty spot.\n",
    "    Examples:\n",
    "    tic_tac_toe([\n",
    "      [\"X\", \"O\", \"X\"],\n",
    "      [\"O\", \"X\",  \"O\"],\n",
    "      [\"O\", \"X\",  \"X\"]\n",
    "    ]) ➞ \"X\"\n",
    "\n",
    "    tic_tac_toe([\n",
    "      [\"O\", \"O\", \"O\"],\n",
    "      [\"O\", \"X\", \"X\"],\n",
    "      [\"E\", \"X\", \"X\"]\n",
    "    ]) ➞ \"O\"\n",
    "\n",
    "    tic_tac_toe([\n",
    "      [\"X\", \"X\", \"O\"],\n",
    "      [\"O\", \"O\", \"X\"],\n",
    "      [\"X\", \"X\", \"O\"]\n",
    "    ]) ➞ \"Draw\""
   ]
  },
  {
   "cell_type": "code",
   "execution_count": 12,
   "id": "d0530c19",
   "metadata": {},
   "outputs": [
    {
     "name": "stdout",
     "output_type": "stream",
     "text": [
      "[['X', 'O', 'X'], ['O', 'X', 'O'], ['O', 'X', 'X']] ➞ 'X' won the game\n",
      "Match Over\n",
      "\n",
      "[['O', 'O', 'O'], ['O', 'X', 'X'], ['E', 'X', 'X']] ➞ 'O' won the game\n",
      "Match Over\n",
      "\n",
      "[['X', 'X', 'O'], ['O', 'O', 'X'], ['X', 'X', 'O']] ➞ Match Draw\n"
     ]
    }
   ],
   "source": [
    "try:\n",
    "    def tic_tac_toe(l): # l = tic tac toe list\n",
    "        c_index = 0\n",
    "        l_x,l_y = [],[]\n",
    "        for i in l:  ## this for loop is used to store index value of X and O in l_x and l_y list\n",
    "            for j in i:\n",
    "                if j.lower() == 'x':\n",
    "                    l_x.append(c_index)\n",
    "                    c_index += 1\n",
    "                if j.lower() == 'o':\n",
    "                    l_y.append(c_index)\n",
    "                    c_index += 1 \n",
    "        cwin = checkwin(l_x,l_y,l)\n",
    "        if cwin != -1:\n",
    "            print('Match Over\\n')\n",
    "        else:\n",
    "            print(f\"{l} ➞ Match Draw\")\n",
    "        \n",
    "    def checkwin(l_x,l_y,l):\n",
    "        wins = [[0,1,2],[3,4,5],[6,7,8], # rows\n",
    "                [0,3,6],[1,4,7],[2,5,8], # column\n",
    "                [0,4,8],[2,4,6]]         # diagonal\n",
    "        for i in wins:\n",
    "            if sum([1 for j in l_x if j in i]) == 3: # for x checkwin\n",
    "                print(f\"{l} ➞ 'X' won the game\")\n",
    "                return 1\n",
    "            if sum([1 for j in l_y if j in i]) == 3: # for y checkwin\n",
    "                print(f\"{l} ➞ 'O' won the game\")\n",
    "                return 0\n",
    "        return -1\n",
    "                              \n",
    "except Exception as e:\n",
    "    logging.error(e)\n",
    "    \n",
    "tic_tac_toe([\n",
    "  [\"X\", \"O\", \"X\"],\n",
    "  [\"O\", \"X\",  \"O\"],\n",
    "  [\"O\", \"X\",  \"X\"]\n",
    "])\n",
    "\n",
    "\n",
    "tic_tac_toe([\n",
    "  [\"O\", \"O\", \"O\"],\n",
    "  [\"O\", \"X\", \"X\"],\n",
    "  [\"E\", \"X\", \"X\"]\n",
    "])\n",
    "\n",
    "\n",
    "tic_tac_toe([\n",
    "  [\"X\", \"X\", \"O\"],\n",
    "  [\"O\", \"O\", \"X\"],\n",
    "  [\"X\", \"X\", \"O\"]\n",
    "])"
   ]
  },
  {
   "cell_type": "markdown",
   "id": "abbf2ea6",
   "metadata": {},
   "source": [
    "## 3. Your computer might have been infected by a virus! Create a function that finds the viruses in files and removes them from your computer.\n",
    "    Examples:\n",
    "    remove_virus(\"PC Files: spotifysetup.exe, virus.exe, dog.jpg\") ➞ \"PC Files: spotifysetup.exe, dog.jpg\"\n",
    "    remove_virus(\"PC Files: antivirus.exe, cat.pdf, lethalmalware.exe, dangerousvirus.exe \") ➞ \"PC Files: antivirus.exe,       cat.pdf\" \n",
    "    remove_virus(\"PC Files: notvirus.exe, funnycat.gif\") ➞ \"PC Files: notvirus.exe, funnycat.gif\")"
   ]
  },
  {
   "cell_type": "code",
   "execution_count": 22,
   "id": "516b2f90",
   "metadata": {},
   "outputs": [
    {
     "name": "stdout",
     "output_type": "stream",
     "text": [
      "remove_virus(PC Files: spotifysetup.exe, virus.exe, dog.jpg) ➞ \"PC Files: spotifysetup.exe, dog.jpg\"\n",
      "remove_virus(PC Files: antivirus.exe, cat.pdf, lethalmalware.exe, dangerousvirus.exe ) ➞ \"PC Files: antivirus.exe, cat.pdf\"\n",
      "remove_virus(PC Files: notvirus.exe, funnycat.gif) ➞ \"PC Files: notvirus.exe, funnycat.gif\"\n"
     ]
    }
   ],
   "source": [
    "try:\n",
    "    import re\n",
    "    def remove_virus(s):\n",
    "        l = [x.strip() for x in re.split(\", \",s)]\n",
    "        result = []\n",
    "        for i in l:\n",
    "            if i not in ['virus.exe','dangerousvirus.exe','lethalmalware.exe']:\n",
    "                result.append(i)\n",
    "        print(f'remove_virus({s}) ➞ \"{\", \".join(result)}\"')\n",
    "    \n",
    "except Exception as e:\n",
    "    logging.error(e)\n",
    "    \n",
    "    \n",
    "remove_virus(\"PC Files: spotifysetup.exe, virus.exe, dog.jpg\")\n",
    "remove_virus(\"PC Files: antivirus.exe, cat.pdf, lethalmalware.exe, dangerousvirus.exe \")\n",
    "remove_virus(\"PC Files: notvirus.exe, funnycat.gif\")"
   ]
  },
  {
   "cell_type": "markdown",
   "id": "9a032555",
   "metadata": {},
   "source": [
    "## 4. In a video game, a meteor will fall toward the main character's home planet. Given the meteor's trajectory as a string in the form y = mx + b and the character's position as a tuple of (x, y), return True if the meteor will hit the character and False if it will not.\n",
    "    Examples:\n",
    "    will_hit(\"y = 2x - 5\", (0, 0)) ➞ False\n",
    "    will_hit(\"y = -4x + 6\", (1, 2)) ➞ True\n",
    "    will_hit(\"y = 2x + 6\", (3, 2)) ➞ False"
   ]
  },
  {
   "cell_type": "code",
   "execution_count": 78,
   "id": "9a73a13d",
   "metadata": {},
   "outputs": [
    {
     "name": "stdout",
     "output_type": "stream",
     "text": [
      "will_hit('y = 2x - 5',(0, 0) ➞ False\n",
      "will_hit('y = -4x + 6',(1, 2) ➞ True\n",
      "will_hit('y = 2x + 6',(3, 2) ➞ False\n"
     ]
    }
   ],
   "source": [
    "try:\n",
    "    def will_hit(s,tuple_):\n",
    "        y,x = [],[]\n",
    "        l_ = s.split(' = ')\n",
    "        x,y = l_[1],l_[0]\n",
    "        #x = x.replace('x','*' + str(a))\n",
    "        x = x.replace('x','*' + str(tuple_[0]))\n",
    "        y = y.replace('y',str(tuple_[1]))\n",
    "        eval_x = eval(x)\n",
    "        result = (str(eval_x)[-1] == y[-1]) and (str(eval_x)[0] == y[0])\n",
    "        print(f\"will_hit('{s}',{tuple_} ➞ {result}\")\n",
    "        \n",
    "except Exception as e:\n",
    "    logging.error(e)\n",
    "    \n",
    "will_hit(\"y = 2x - 5\", (0, 0))\n",
    "will_hit(\"y = -4x + 6\", (1, 2))\n",
    "will_hit(\"y = 2x + 6\", (3, 2))"
   ]
  }
 ],
 "metadata": {
  "kernelspec": {
   "display_name": "Python 3 (ipykernel)",
   "language": "python",
   "name": "python3"
  },
  "language_info": {
   "codemirror_mode": {
    "name": "ipython",
    "version": 3
   },
   "file_extension": ".py",
   "mimetype": "text/x-python",
   "name": "python",
   "nbconvert_exporter": "python",
   "pygments_lexer": "ipython3",
   "version": "3.9.7"
  }
 },
 "nbformat": 4,
 "nbformat_minor": 5
}
