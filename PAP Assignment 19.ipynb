{
 "cells": [
  {
   "cell_type": "code",
   "execution_count": 13,
   "id": "af951bd0",
   "metadata": {},
   "outputs": [],
   "source": [
    "import logging\n",
    "\n",
    "# Create and configure logger\n",
    "logging.basicConfig(filename=\"PAP_1.log\",\n",
    "                    format='%(asctime)s %(levelname)s %(message)s :',\n",
    "                    filemode='w',\n",
    "                    level = logging.INFO)\n",
    "logging.info('this message is logging')"
   ]
  },
  {
   "cell_type": "markdown",
   "id": "9bcd3a4e",
   "metadata": {},
   "source": [
    "## 1. Create a checker board generator, which takes as inputs n and 2 elements to generate an n x n checkerboard with those two elements as alternating squares.\n",
    "    Examples:\n",
    "    checker_board(2, 7, 6) ➞ [\n",
    "      [7, 6],\n",
    "      [6, 7]\n",
    "    ]\n",
    "\n",
    "    checker_board(3, \"A\", \"B\") ➞ [\n",
    "      [\"A\", \"B\", \"A\"],\n",
    "      [\"B\", \"A\", \"B\"],\n",
    "      [\"A\", \"B\", \"A\"]\n",
    "    ]\n",
    "    \n",
    "    checker_board(4, \"c\", \"d\") ➞ [\n",
    "      [\"c\", \"d\", \"c\", \"d\"],\n",
    "      [\"d\", \"c\", \"d\", \"c\"],\n",
    "      [\"c\", \"d\", \"c\", \"d\"],\n",
    "      [\"d\", \"c\", \"d\", \"c\"]\n",
    "    ]\n",
    "\n",
    "    checker_board(4, \"c\", \"c\") ➞ \"invalid\""
   ]
  },
  {
   "cell_type": "code",
   "execution_count": 5,
   "id": "be335247",
   "metadata": {},
   "outputs": [
    {
     "name": "stdout",
     "output_type": "stream",
     "text": [
      "[[7, 6], [7, 6]]\n",
      "[['A', 'B', 'A'], ['B', 'A', 'B'], ['A', 'B', 'A']]\n",
      "[['c', 'd', 'c', 'd'], ['c', 'd', 'c', 'd'], ['c', 'd', 'c', 'd'], ['c', 'd', 'c', 'd']]\n",
      "[['c', 'c', 'c', 'c'], ['c', 'c', 'c', 'c'], ['c', 'c', 'c', 'c'], ['c', 'c', 'c', 'c']]\n"
     ]
    }
   ],
   "source": [
    "try:\n",
    "    def checker_board(n,a1,a2):\n",
    "        x = 1\n",
    "        l = []\n",
    "        \n",
    "        for i in range(n):\n",
    "            l.append([])\n",
    "            for j in range(n):\n",
    "                if x%2 != 0:\n",
    "                    l[i].append(a1)\n",
    "                else:\n",
    "                    l[i].append(a2)\n",
    "                x += 1\n",
    "        print(l)\n",
    "        logging.info(l)\n",
    "\n",
    "except Exception as e:\n",
    "    logging.error(e)\n",
    "    \n",
    "checker_board(2, 7, 6)\n",
    "checker_board(3, \"A\", \"B\")\n",
    "checker_board(4, \"c\", \"d\")\n",
    "checker_board(4, \"c\", \"c\") "
   ]
  },
  {
   "cell_type": "markdown",
   "id": "66afd8ad",
   "metadata": {},
   "source": [
    "## 2. A string is an almost-palindrome if, by changing only one character, you can make it a palindrome. Create a function that returns True if a string is an almost-palindrome and False otherwise.\n",
    "    Examples:\n",
    "    almost_palindrome(\"abcdcbg\") ➞ True\n",
    "    ### Transformed to \"abcdcba\" by changing \"g\" to \"a\".\n",
    "    \n",
    "    almost_palindrome(\"abccia\") ➞ True\n",
    "    ### Transformed to \"abccba\" by changing \"i\" to \"b\".\n",
    "    \n",
    "    almost_palindrome(\"abcdaaa\") ➞ False\n",
    "    ### Can't be transformed to a palindrome in exactly 1 turn.\n",
    "    \n",
    "    almost_palindrome(\"1234312\") ➞ False"
   ]
  },
  {
   "cell_type": "code",
   "execution_count": 9,
   "id": "53a99874",
   "metadata": {},
   "outputs": [
    {
     "name": "stdout",
     "output_type": "stream",
     "text": [
      "almost_palindrome(abcdcbg) ➞ True\n",
      "almost_palindrome(abccia) ➞ True\n",
      "almost_palindrome(abcdaaa) ➞ False\n",
      "almost_palindrome(1234312) ➞ False\n"
     ]
    }
   ],
   "source": [
    "try:\n",
    "    def almost_palindrome(s):\n",
    "        count = 0\n",
    "        for i in range(len(s)):\n",
    "            if s[i] != s[::-1][i]:\n",
    "                count += 1 \n",
    "        if count <= 2:\n",
    "            print(f\"almost_palindrome({s}) ➞ {True}\")\n",
    "            logging.info(f\"almost_palindrome({s}) ➞ {True}\")\n",
    "        else:\n",
    "            print(f\"almost_palindrome({s}) ➞ {False}\")\n",
    "            logging.info(f\"almost_palindrome({s}) ➞ {False}\")\n",
    "                \n",
    "except Exception as e:\n",
    "    logging.error()\n",
    "    \n",
    "almost_palindrome(\"abcdcbg\")\n",
    "almost_palindrome(\"abccia\")\n",
    "almost_palindrome(\"abcdaaa\")\n",
    "almost_palindrome(\"1234312\")"
   ]
  },
  {
   "cell_type": "markdown",
   "id": "ba382e13",
   "metadata": {},
   "source": [
    "## 3. Create a function that finds how many prime numbers there are, up to the given integer.\n",
    "    Examples:\n",
    "    prime_numbers(10) ➞ 4 # 2, 3, 5 and 7\n",
    "    prime_numbers(20) ➞ 8 # 2, 3, 5, 7, 11, 13, 17 and 19\n",
    "    prime_numbers(30) ➞ 10 # 2, 3, 5, 7, 11, 13, 17, 19, 23 and 29"
   ]
  },
  {
   "cell_type": "code",
   "execution_count": 21,
   "id": "4f5a8f80",
   "metadata": {},
   "outputs": [
    {
     "name": "stdout",
     "output_type": "stream",
     "text": [
      "prime_numbers(10) ➞ 4\n",
      "prime_numbers(20) ➞ 8\n",
      "prime_numbers(30) ➞ 10\n"
     ]
    }
   ],
   "source": [
    "from math import floor,sqrt\n",
    "try:\n",
    "    def prime_numbers(n): ## n is range\n",
    "        count = 0\n",
    "        flag = 1\n",
    "        for i in range(3,n+1,2):\n",
    "            div_ = floor(sqrt(i))\n",
    "            flag = 1\n",
    "            for j in range(3,div_ + 1,2):\n",
    "                if i%j == 0:\n",
    "                    flag = 0\n",
    "            if flag == 1:\n",
    "                count += 1\n",
    "        print(f'prime_numbers({n}) ➞ {count + 1}') ## +1 for 2 because we have not considered 2 anywhere\n",
    "        logging.info(f'prime_numbers({n}) ➞ {count + 1}')\n",
    "        \n",
    "except Exception as e:\n",
    "    logging.error(e)\n",
    "    \n",
    "prime_numbers(10)     \n",
    "prime_numbers(20)\n",
    "prime_numbers(30)"
   ]
  },
  {
   "cell_type": "markdown",
   "id": "00042537",
   "metadata": {},
   "source": [
    "## 4. If today was Monday, in two days, it would be Wednesday.\n",
    "    Create a function that takes in a list of days as input and the number of days to increment by. Return a list of days       after n number of days has passed.\n",
    "\n",
    "    Examples:\n",
    "    after_n_days([\"Thursday\", \"Monday\"], 4) ➞ [\"Monday\", \"Friday\"]\n",
    "    after_n_days([\"Sunday\", \"Sunday\", \"Sunday\"], 1) ➞ [\"Monday\", \"Monday\", \"Monday\"]\n",
    "    after_n_days([\"Monday\", \"Tuesday\", \"Friday\"], 1) ➞ [\"Tuesday\", \"Wednesday\", \"Saturday\"]"
   ]
  },
  {
   "cell_type": "code",
   "execution_count": 2,
   "id": "1b0f32b3",
   "metadata": {},
   "outputs": [
    {
     "name": "stdout",
     "output_type": "stream",
     "text": [
      "['Monday', 'Friday']\n",
      "['Monday', 'Monday', 'Monday']\n",
      "['Tuesday', 'Wednesday', 'Saturday']\n"
     ]
    }
   ],
   "source": [
    "try:\n",
    "    def after_n_days(l,n):\n",
    "        days = {'Monday':0, 'Tuesday':1, 'Wednesday':2, 'Thursday':3, 'Friday':4, 'Saturday':5, 'Sunday':6}\n",
    "        l_new = []\n",
    "        l_day = list(days.keys())\n",
    "        for i in l:\n",
    "            if (days[i]+n) > 6:\n",
    "                l_new.append(l_day[days[i]+n-7])\n",
    "            else:\n",
    "                l_new.append(l_day[days[i]+n])\n",
    "        print(l_new)\n",
    "except Exception as e:\n",
    "    logging.error(e)\n",
    "    \n",
    "after_n_days([\"Thursday\", \"Monday\"], 4)\n",
    "after_n_days([\"Sunday\", \"Sunday\", \"Sunday\"], 1)\n",
    "after_n_days([\"Monday\", \"Tuesday\", \"Friday\"], 1)"
   ]
  },
  {
   "cell_type": "markdown",
   "id": "fdde6e9d",
   "metadata": {},
   "source": [
    "## 5. You are in the process of creating a chat application and want to add an anonymous name feature. This anonymous name feature will create an alias that consists of two capitalized words beginning with the same letter as the users first name.\n",
    "    Create a function that determines if the list of users is mapped to a list of anonymous names correctly.\n",
    "\n",
    "    Examples:\n",
    "    is_correct_aliases([\"Adrian M.\", \"Harriet S.\", \"Mandy T.\"], [\"Amazing Artichoke\", \"Hopeful Hedgehog\", \"Marvelous           Mouse\"]) ➞ True\n",
    "\n",
    "    is_correct_aliases([\"Rachel F.\", \"Pam G.\", \"Fred Z.\", \"Nancy K.\"], [\"Reassuring Rat\", \"Peaceful Panda\", \"Fantastic         Frog\", \"Notable Nickel\"]) ➞ True\n",
    "\n",
    "    is_correct_aliases([\"Beth T.\"], [\"Brandishing Mimosa\"]) ➞ False\n",
    "    # Both words in \"Brandishing Mimosa\" should begin with a \"B\" - \"Brandishing Beaver\" would do the trick."
   ]
  },
  {
   "cell_type": "code",
   "execution_count": 14,
   "id": "72dec77c",
   "metadata": {},
   "outputs": [
    {
     "name": "stdout",
     "output_type": "stream",
     "text": [
      "is_correct_aliases(['Beth T.'], ['Brandishing Mimosa'])➞False\n",
      "is_correct_aliases(['Adrian M.', 'Harriet S.', 'Mandy T.'], ['Amazing Artichoke', 'Hopeful Hedgehog', 'Marvelous Mouse'])➞True\n",
      "is_correct_aliases(['Rachel F.', 'Pam G.', 'Fred Z.', 'Nancy K.'], ['Reassuring Rat', 'Peaceful Panda', 'Fantastic Frog', 'Notable Nickel'])➞True\n"
     ]
    }
   ],
   "source": [
    "try:\n",
    "    def is_correct_aliases(l1,l2):\n",
    "        result = False\n",
    "        if len(l1) == len(l2):\n",
    "            for i in range(len(l1)):\n",
    "                if l1[i].split(\" \")[0][0] == l2[i].split(\" \")[0][0] == l2[i].split(\" \")[1][0]:\n",
    "                    result = True\n",
    "                else:\n",
    "                    result = False\n",
    "                    break\n",
    "        print(f'is_correct_aliases{l1,l2}➞{result}')\n",
    "        logging.info(f'is_correct_aliases{l1,l2}➞{result}')\n",
    "\n",
    "except Exception as e:\n",
    "    logging.error(e)\n",
    "is_correct_aliases([\"Beth T.\"],[\"Brandishing Mimosa\"])\n",
    "is_correct_aliases([\"Adrian M.\",\"Harriet S.\",\"Mandy T.\"], [\"Amazing Artichoke\", \"Hopeful Hedgehog\", \"Marvelous Mouse\"])\n",
    "is_correct_aliases([\"Rachel F.\",\"Pam G.\",\"Fred Z.\",\"Nancy K.\"], [\"Reassuring Rat\", \"Peaceful Panda\", \"Fantastic Frog\", \"Notable Nickel\"])    "
   ]
  },
  {
   "cell_type": "code",
   "execution_count": null,
   "id": "b1314159",
   "metadata": {},
   "outputs": [],
   "source": []
  }
 ],
 "metadata": {
  "kernelspec": {
   "display_name": "Python 3 (ipykernel)",
   "language": "python",
   "name": "python3"
  },
  "language_info": {
   "codemirror_mode": {
    "name": "ipython",
    "version": 3
   },
   "file_extension": ".py",
   "mimetype": "text/x-python",
   "name": "python",
   "nbconvert_exporter": "python",
   "pygments_lexer": "ipython3",
   "version": "3.9.7"
  }
 },
 "nbformat": 4,
 "nbformat_minor": 5
}
