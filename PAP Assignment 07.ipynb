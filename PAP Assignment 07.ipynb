{
 "cells": [
  {
   "cell_type": "code",
   "execution_count": 21,
   "id": "2aa3b9cc",
   "metadata": {},
   "outputs": [],
   "source": [
    "import logging\n",
    "\n",
    "# Create and configure logger\n",
    "logging.basicConfig(filename=\"PAP_1.log\",\n",
    "                    format='%(asctime)s %(levelname)s %(message)s :',\n",
    "                    filemode='w',\n",
    "                    level = logging.INFO)\n",
    "logging.info('this message is logging')"
   ]
  },
  {
   "cell_type": "markdown",
   "id": "9dc49e48",
   "metadata": {},
   "source": [
    "## 1. Write a function that counts how many concentric layers a rug.\n",
    "    Examples:\n",
    "    count_layers([\"AAAA\",\"ABBA\",\"AAAA\"]) ➞ 2\n",
    "    count_layers([\"AAAAAAAAA\",\"ABBBBBBBA\",\"ABBAAABBA\",\"ABBBBBBBA\",\"AAAAAAAAA\"]) ➞ 3\n",
    "                                          "
   ]
  },
  {
   "cell_type": "raw",
   "id": "c4b68fe7",
   "metadata": {},
   "source": [
    "count_layers([\"AAAAAAAAAAA\",\"AABBBBBBBAA\",\"AABCCCCCBAA\",\"AABCAAACBAA\",\"AABCADACBAA\",\"AABCAAACBAA\",\"AABCCCCCBAA\",\"AABBBBBBB  AA\",\"AAAAAAAAAAA\"]) ➞ 5"
   ]
  },
  {
   "cell_type": "code",
   "execution_count": 7,
   "id": "4e587cbf",
   "metadata": {},
   "outputs": [
    {
     "name": "stdout",
     "output_type": "stream",
     "text": [
      "count_layers(['AAAA', 'ABBA', 'AAAA']) ➞ 2\n",
      "count_layers(['AAAAAAAAA', 'ABBBBBBBA', 'ABBAAABBA', 'ABBBBBBBA', 'AAAAAAAAA']) ➞ 3\n",
      "count_layers(['AAAAAAAAAAA', 'AABBBBBBBAA', 'AABCCCCCBAA', 'AABCAAACBAA', 'AABCADACBAA', 'AABCAAACBAA', 'AABCCCCCBAA', 'AABBBBBBBAA', 'AAAAAAAAAAA']) ➞ 5\n"
     ]
    }
   ],
   "source": [
    "try:\n",
    "    def count_layers(l):\n",
    "        count = 0\n",
    "        count += len(set(l))\n",
    "        print(f'count_layers({l}) ➞ {count}')\n",
    "        logging.info(f'count_layers({l}) ➞ {count}')\n",
    "        \n",
    "except Exception as e:\n",
    "    logging.error(e)\n",
    "\n",
    "count_layers([\"AAAA\",\"ABBA\",\"AAAA\"])\n",
    "count_layers([\"AAAAAAAAA\",\"ABBBBBBBA\",\"ABBAAABBA\",\"ABBBBBBBA\",\"AAAAAAAAA\"])\n",
    "count_layers([\"AAAAAAAAAAA\",\"AABBBBBBBAA\",\"AABCCCCCBAA\",\"AABCAAACBAA\",\"AABCADACBAA\",\"AABCAAACBAA\",\"AABCCCCCBAA\",\"AABBBBBBBAA\",\"AAAAAAAAAAA\"])"
   ]
  },
  {
   "cell_type": "markdown",
   "id": "4078bdb7",
   "metadata": {},
   "source": [
    "## 2. There are many different styles of music and many albums exhibit multiple styles. Create a function that takes a list of musical styles from albums and returns how many styles are unique.\n",
    "    Examples:\n",
    "    unique_styles([\n",
    "      \"Dub,Dancehall\",\n",
    "      \"Industrial,Heavy Metal\",\n",
    "      \"Techno,Dubstep\",\n",
    "      \"Synth-pop,Euro-Disco\",\n",
    "      \"Industrial,Techno,Minimal\"\n",
    "    ]) ➞ 9\n",
    "    unique_styles([\n",
    "      \"Soul\",\n",
    "      \"House,Folk\",\n",
    "      \"Trance,Downtempo,Big Beat,House\",\n",
    "      \"Deep House\",\n",
    "      \"Soul\"\n",
    "    ]) ➞ 7"
   ]
  },
  {
   "cell_type": "code",
   "execution_count": 3,
   "id": "c93936ac",
   "metadata": {},
   "outputs": [
    {
     "name": "stdout",
     "output_type": "stream",
     "text": [
      "unique_styles(['Dub,Dancehall', 'Industrial,Heavy Metal', 'Techno,Dubstep', 'Synth-pop,Euro-Disco', 'Industrial,Techno,Minimal']) ➞ 9\n",
      "unique_styles(['Soul', 'House,Folk', 'Trance,Downtempo,Big Beat,House', 'Deep House', 'Soul']) ➞ 7\n"
     ]
    }
   ],
   "source": [
    "try :\n",
    "    def unique_styles(l):\n",
    "        l_new = []\n",
    "        for ele in l:\n",
    "            for sub_ele in ele.split(','):\n",
    "                l_new.append(sub_ele)\n",
    "        print(f'unique_styles({l}) ➞ {len(set(l_new))}')\n",
    "    \n",
    "except Exception as e:\n",
    "    logging.error(e)\n",
    "\n",
    "unique_styles([\"Dub,Dancehall\",\"Industrial,Heavy Metal\",\"Techno,Dubstep\",\"Synth-pop,Euro-Disco\",\"Industrial,Techno,Minimal\"])\n",
    "unique_styles([\"Soul\",\"House,Folk\",\"Trance,Downtempo,Big Beat,House\",\"Deep House\",\"Soul\"])"
   ]
  },
  {
   "cell_type": "markdown",
   "id": "943b1a01",
   "metadata": {},
   "source": [
    "## 3. Create a function that finds a target number in a list of prime numbers. Implement a binary search algorithm in your function. The target number will be from 2 through 97. If the target is prime then return \"yes\" else return \"no\".\n",
    "    Examples:\n",
    "    primes = [2, 3, 5, 7, 11, 13, 17, 19, 23, 29, 31, 37, 41, 43, 47, 53, 59, 61, 67, 71, 73, 79, 83, 89, 97]\n",
    "    is_prime(primes, 3) ➞ \"yes\"\n",
    "    is_prime(primes, 4) ➞ \"no\"\n",
    "    is_prime(primes, 67) ➞ \"yes\"\n",
    "    is_prime(primes, 36) ➞ \"no\""
   ]
  },
  {
   "cell_type": "code",
   "execution_count": 6,
   "id": "fb31e8e7",
   "metadata": {},
   "outputs": [
    {
     "name": "stdout",
     "output_type": "stream",
     "text": [
      "Enter a number to find : 3\n",
      "is_prime(3) ➞ Yes\n",
      "Enter a number to find : 4\n",
      "is_prime(4) ➞ No\n",
      "Enter a number to find : 67\n",
      "is_prime(67) ➞ Yes\n",
      "Enter a number to find : 36\n",
      "is_prime(36) ➞ No\n"
     ]
    }
   ],
   "source": [
    "try:\n",
    "    \n",
    "    def is_prime(l,n):\n",
    "        flag = 'No'\n",
    "        start_index = 0\n",
    "        end_index = len(l) - 1\n",
    "        mid_index = 0\n",
    "        \n",
    "        while start_index <= end_index:\n",
    "            mid_index = (end_index+start_index)//2\n",
    "            if l[mid_index] < n:\n",
    "                start_index = mid_index + 1\n",
    "            elif l[mid_index] > n:\n",
    "                end_index = mid_index - 1\n",
    "            else:\n",
    "                flag = 'Yes'\n",
    "                break\n",
    "                \n",
    "        print(f'is_prime({n}) ➞ {flag}')\n",
    "except Exception as e:\n",
    "    logging.info(e)\n",
    "\n",
    "for i in range(4):\n",
    "    primes = [2, 3, 5, 7, 11, 13, 17, 19, 23, 29, 31, 37, 41, 43, 47, 53, 59, 61, 67, 71, 73, 79, 83, 89, 97]\n",
    "    n = int(input('Enter a number to find : '))\n",
    "    is_prime(primes,n)\n",
    "    \n",
    "    "
   ]
  },
  {
   "cell_type": "markdown",
   "id": "6166da02",
   "metadata": {},
   "source": [
    "## 4. Create a function that takes in n, a, b and returns the number of positive values raised to the nth power that lie in the range [a, b], inclusive.\n",
    "    Examples:\n",
    "    power_ranger(2, 49, 65) ➞ 2\n",
    "    # 2 squares (n^2) lie between 49 and 65, 49 (7^2) and 64 (8^2)\n",
    "\n",
    "    power_ranger(3, 1, 27) ➞ 3\n",
    "    # 3 cubes (n^3) lie between 1 and 27, 1 (1^3), 8 (2^3) and 27 (3^3)\n",
    "\n",
    "    power_ranger(10, 1, 5) ➞ 1\n",
    "    # 1 value raised to the 10th power lies between 1 and 5, 1 (1^10)\n",
    "\n",
    "    power_ranger(5, 31, 33) ➞ 1\n",
    "    power_ranger(4, 250, 1300) ➞ 3"
   ]
  },
  {
   "cell_type": "code",
   "execution_count": 36,
   "id": "8855c8e7",
   "metadata": {},
   "outputs": [
    {
     "name": "stdout",
     "output_type": "stream",
     "text": [
      "base number : 2\n",
      "start number : 49\n",
      "end number : 65\n",
      "power_ranger(2, 49, 65) ➞ 2\n",
      "base number : 3\n",
      "start number : 1\n",
      "end number : 27\n",
      "power_ranger(3, 1, 27) ➞ 3\n",
      "base number : 10\n",
      "start number : 1\n",
      "end number : 5\n",
      "power_ranger(10, 1, 5) ➞ 1\n",
      "base number : 5\n",
      "start number : 31\n",
      "end number : 33\n",
      "power_ranger(5, 31, 33) ➞ 1\n",
      "base number : 4\n",
      "start number : 250\n",
      "end number : 1300\n",
      "power_ranger(4, 250, 1300) ➞ 3\n"
     ]
    }
   ],
   "source": [
    "import math\n",
    "try:\n",
    "    def power_range(base,start,end):\n",
    "        \n",
    "        x = round(math.pow(start,1/base),1)\n",
    "        y = round(math.pow(end,1/base),1)\n",
    "        result = (y-x) + 1\n",
    "        \n",
    "        print(f'power_ranger{base,start,end} ➞ {int(result)}')\n",
    "        logging.info(f'power_ranger{base,start,end} ➞ {int(result)}')\n",
    "\n",
    "except Exception as e:\n",
    "    logging.error(e)\n",
    "    \n",
    "for i in range(5):\n",
    "    \n",
    "    base = int(input('base number : '))\n",
    "    start = int(input('start number : '))\n",
    "    end = int(input('end number : '))\n",
    "    power_range(base,start,end)\n",
    "    \n",
    "    "
   ]
  },
  {
   "cell_type": "markdown",
   "id": "3eece41e",
   "metadata": {},
   "source": [
    "## 5. Given a number, return the difference between the maximum and minimum numbers that can be formed when the digits are rearranged.\n",
    "    Examples:\n",
    "    rearranged_difference(972882) ➞ 760833\n",
    "    # 988722 - 227889 = 760833\n",
    "    rearranged_difference(3320707) ➞ 7709823\n",
    "    # 7733200 - 23377 = 7709823\n",
    "    rearranged_difference(90010) ➞ 90981\n",
    "    # 91000 - 19 = 90981"
   ]
  },
  {
   "cell_type": "code",
   "execution_count": 52,
   "id": "ce472cc4",
   "metadata": {},
   "outputs": [
    {
     "name": "stdout",
     "output_type": "stream",
     "text": [
      "enter a long_number : 972882\n",
      "rearranged_differnence(972882) ➞ 760833\n",
      "enter a long_number : 3320707\n",
      "rearranged_differnence(3320707) ➞ 7709823\n",
      "enter a long_number : 90010\n",
      "rearranged_differnence(90010) ➞ 90981\n"
     ]
    }
   ],
   "source": [
    "try:\n",
    "    def rearranged_difference(n):\n",
    "        l = []\n",
    "        for i in str(n):\n",
    "            l.append(i)\n",
    "            \n",
    "        x = sorted(l)\n",
    "        #print(l)\n",
    "        #print(x)\n",
    "        y = sorted(l,reverse = True)\n",
    "        #print(y)\n",
    "        result = int(''.join(y)) - int(''.join(x)) \n",
    "        \n",
    "        print(f\"rearranged_differnence({n}) ➞ {result}\")\n",
    "        logging.info(f\"rearranged_differnence({n}) ➞ {result}\")\n",
    "        \n",
    "except Exception as e:\n",
    "    logging.error(e)\n",
    "for i in range(3):\n",
    "    n = int(input('enter a long_number : '))\n",
    "    rearranged_difference(n)\n",
    "    "
   ]
  }
 ],
 "metadata": {
  "kernelspec": {
   "display_name": "Python 3 (ipykernel)",
   "language": "python",
   "name": "python3"
  },
  "language_info": {
   "codemirror_mode": {
    "name": "ipython",
    "version": 3
   },
   "file_extension": ".py",
   "mimetype": "text/x-python",
   "name": "python",
   "nbconvert_exporter": "python",
   "pygments_lexer": "ipython3",
   "version": "3.9.7"
  }
 },
 "nbformat": 4,
 "nbformat_minor": 5
}
